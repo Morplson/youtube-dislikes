{
  "cells": [
    {
      "cell_type": "markdown",
      "metadata": {
        "id": "view-in-github",
        "colab_type": "text"
      },
      "source": [
        "<a href=\"https://colab.research.google.com/github/Morplson/youtube-dislikes/blob/main/faster_whisper_youtube_drive.ipynb\" target=\"_parent\"><img src=\"https://colab.research.google.com/assets/colab-badge.svg\" alt=\"Open In Colab\"/></a>"
      ]
    },
    {
      "cell_type": "markdown",
      "source": [
        "# **Youtube/Google Drive Videos Translation/Transcription with Faster Whisper**\n",
        "\n",
        "[faster-whisper](https://github.com/guillaumekln/faster-whisper) is a reimplementation of OpenAI's Whisper model using CTranslate2, which is a fast inference engine for Transformer models.\n",
        "\n",
        "This implementation is up to 4 times faster than openai/whisper for the same accuracy while using less memory. The efficiency can be further improved with 8-bit quantization on both CPU and GPU.\n",
        "\n",
        "Whisper is a general-purpose speech recognition model. It is trained on a large dataset of diverse audio and is also a multi-task model that can perform multilingual speech recognition as well as speech translation and language identification.\n",
        "\n",
        "This Notebook will guide you through the transcription or translation of a  video file (from Youtube/Google Drive) using Faster Whisper. You'll be able to explore most inference parameters or use the Notebook as-is to store the output and video audio in your Google Drive.\n",
        "\n",
        "## **How to use**\n",
        "1. Read and understand the notebook. You should at the very least modify the **video selection section** to choose the video you wish to translate/transcribe\n",
        "2. Click Runtime -> Run all and wait for the notebook to do its magic, alternatively you may run the cells one by one and skip the Google Drive portion if you do not intend to use it\n",
        "3. A download prompt should appear once subtitles is ready, or check the 'Files' tab on the left for the output\n"
      ],
      "metadata": {
        "id": "96kvih9mXkNN"
      }
    },
    {
      "cell_type": "code",
      "execution_count": 1,
      "metadata": {
        "id": "1zwGAsr4sIgd",
        "cellView": "form",
        "outputId": "0325e058-4f50-4220-c074-01dc6df6c66f",
        "colab": {
          "base_uri": "https://localhost:8080/"
        }
      },
      "outputs": [
        {
          "output_type": "stream",
          "name": "stdout",
          "text": [
            "Mounted at /content/drive\n"
          ]
        }
      ],
      "source": [
        "#@markdown # **[Optional]** Access data in Google Drive 💾\n",
        "#@markdown Enter a Google Drive path and run this cell to store the results inside Google Drive.\n",
        "\n",
        "# Uncomment to copy generated images to drive, faster than downloading directly from colab in my experience.\n",
        "from google.colab import drive\n",
        "from pathlib import Path\n",
        "\n",
        "drive_mount_path = Path(\"/\") / \"content\" / \"drive\"\n",
        "drive.mount(str(drive_mount_path))\n",
        "drive_mount_path /= \"My Drive\"\n",
        "#@markdown ---\n",
        "drive_path = \"Colab Notebooks/Faster Whisper\" #@param {type:\"string\"}\n",
        "#@markdown ---\n",
        "#@markdown **Run this cell again if you change your Google Drive path.**\n",
        "\n",
        "drive_whisper_path = drive_mount_path / Path(drive_path.lstrip(\"/\"))\n",
        "drive_whisper_path.mkdir(parents=True, exist_ok=True)"
      ]
    },
    {
      "cell_type": "code",
      "source": [
        "#@markdown # **Check GPU type** 🕵️\n",
        "\n",
        "#@markdown The type of GPU you get assigned in your Colab session defined the speed at which the video will be transcribed.\n",
        "#@markdown The higher the number of floating point operations per second (FLOPS), the faster the transcription.\n",
        "#@markdown But even the least powerful GPU available in Colab is able to run any Whisper model.\n",
        "#@markdown Make sure you've selected `GPU` as hardware accelerator for the Notebook (Runtime &rarr; Change runtime type &rarr; Hardware accelerator).\n",
        "\n",
        "#@markdown |  GPU   |  GPU RAM   | FP32 teraFLOPS |     Availability   |\n",
        "#@markdown |:------:|:----------:|:--------------:|:------------------:|\n",
        "#@markdown |  T4    |    16 GB   |       8.1      |         Free       |\n",
        "#@markdown | P100   |    16 GB   |      10.6      |      Colab Pro     |\n",
        "#@markdown | V100   |    16 GB   |      15.7      |  Colab Pro (Rare)  |\n",
        "\n",
        "#@markdown ---\n",
        "#@markdown **Factory reset your Notebook's runtime if you want to get assigned a new GPU.**\n",
        "\n",
        "!nvidia-smi -L\n",
        "\n",
        "!nvidia-smi"
      ],
      "metadata": {
        "id": "QshUbLqpX7L4",
        "cellView": "form",
        "outputId": "6e65e167-f82d-4fbf-e33c-ccbb79a14845",
        "colab": {
          "base_uri": "https://localhost:8080/"
        }
      },
      "execution_count": 2,
      "outputs": [
        {
          "output_type": "stream",
          "name": "stdout",
          "text": [
            "GPU 0: Tesla T4 (UUID: GPU-b37a39c4-831b-b1a7-646e-2f7076290530)\n",
            "Thu Sep 25 15:13:26 2025       \n",
            "+-----------------------------------------------------------------------------------------+\n",
            "| NVIDIA-SMI 550.54.15              Driver Version: 550.54.15      CUDA Version: 12.4     |\n",
            "|-----------------------------------------+------------------------+----------------------+\n",
            "| GPU  Name                 Persistence-M | Bus-Id          Disp.A | Volatile Uncorr. ECC |\n",
            "| Fan  Temp   Perf          Pwr:Usage/Cap |           Memory-Usage | GPU-Util  Compute M. |\n",
            "|                                         |                        |               MIG M. |\n",
            "|=========================================+========================+======================|\n",
            "|   0  Tesla T4                       Off |   00000000:00:04.0 Off |                    0 |\n",
            "| N/A   53C    P8             10W /   70W |       0MiB /  15360MiB |      0%      Default |\n",
            "|                                         |                        |                  N/A |\n",
            "+-----------------------------------------+------------------------+----------------------+\n",
            "                                                                                         \n",
            "+-----------------------------------------------------------------------------------------+\n",
            "| Processes:                                                                              |\n",
            "|  GPU   GI   CI        PID   Type   Process name                              GPU Memory |\n",
            "|        ID   ID                                                               Usage      |\n",
            "|=========================================================================================|\n",
            "|  No running processes found                                                             |\n",
            "+-----------------------------------------------------------------------------------------+\n"
          ]
        }
      ]
    },
    {
      "cell_type": "code",
      "execution_count": 3,
      "metadata": {
        "id": "IfG0E_WbRFI0",
        "cellView": "form",
        "outputId": "385f586d-18a9-4c23-b972-3891940b4c75",
        "colab": {
          "base_uri": "https://localhost:8080/"
        }
      },
      "outputs": [
        {
          "output_type": "stream",
          "name": "stdout",
          "text": [
            "Collecting faster-whisper\n",
            "  Downloading faster_whisper-1.2.0-py3-none-any.whl.metadata (16 kB)\n",
            "Collecting ctranslate2<5,>=4.0 (from faster-whisper)\n",
            "  Downloading ctranslate2-4.6.0-cp312-cp312-manylinux_2_17_x86_64.manylinux2014_x86_64.whl.metadata (10 kB)\n",
            "Requirement already satisfied: huggingface-hub>=0.13 in /usr/local/lib/python3.12/dist-packages (from faster-whisper) (0.35.0)\n",
            "Requirement already satisfied: tokenizers<1,>=0.13 in /usr/local/lib/python3.12/dist-packages (from faster-whisper) (0.22.0)\n",
            "Collecting onnxruntime<2,>=1.14 (from faster-whisper)\n",
            "  Downloading onnxruntime-1.22.1-cp312-cp312-manylinux_2_27_x86_64.manylinux_2_28_x86_64.whl.metadata (4.9 kB)\n",
            "Collecting av>=11 (from faster-whisper)\n",
            "  Downloading av-15.1.0-cp312-cp312-manylinux_2_28_x86_64.whl.metadata (4.6 kB)\n",
            "Requirement already satisfied: tqdm in /usr/local/lib/python3.12/dist-packages (from faster-whisper) (4.67.1)\n",
            "Requirement already satisfied: setuptools in /usr/local/lib/python3.12/dist-packages (from ctranslate2<5,>=4.0->faster-whisper) (75.2.0)\n",
            "Requirement already satisfied: numpy in /usr/local/lib/python3.12/dist-packages (from ctranslate2<5,>=4.0->faster-whisper) (2.0.2)\n",
            "Requirement already satisfied: pyyaml<7,>=5.3 in /usr/local/lib/python3.12/dist-packages (from ctranslate2<5,>=4.0->faster-whisper) (6.0.2)\n",
            "Requirement already satisfied: filelock in /usr/local/lib/python3.12/dist-packages (from huggingface-hub>=0.13->faster-whisper) (3.19.1)\n",
            "Requirement already satisfied: fsspec>=2023.5.0 in /usr/local/lib/python3.12/dist-packages (from huggingface-hub>=0.13->faster-whisper) (2025.3.0)\n",
            "Requirement already satisfied: packaging>=20.9 in /usr/local/lib/python3.12/dist-packages (from huggingface-hub>=0.13->faster-whisper) (25.0)\n",
            "Requirement already satisfied: requests in /usr/local/lib/python3.12/dist-packages (from huggingface-hub>=0.13->faster-whisper) (2.32.4)\n",
            "Requirement already satisfied: typing-extensions>=3.7.4.3 in /usr/local/lib/python3.12/dist-packages (from huggingface-hub>=0.13->faster-whisper) (4.15.0)\n",
            "Requirement already satisfied: hf-xet<2.0.0,>=1.1.3 in /usr/local/lib/python3.12/dist-packages (from huggingface-hub>=0.13->faster-whisper) (1.1.10)\n",
            "Collecting coloredlogs (from onnxruntime<2,>=1.14->faster-whisper)\n",
            "  Downloading coloredlogs-15.0.1-py2.py3-none-any.whl.metadata (12 kB)\n",
            "Requirement already satisfied: flatbuffers in /usr/local/lib/python3.12/dist-packages (from onnxruntime<2,>=1.14->faster-whisper) (25.2.10)\n",
            "Requirement already satisfied: protobuf in /usr/local/lib/python3.12/dist-packages (from onnxruntime<2,>=1.14->faster-whisper) (5.29.5)\n",
            "Requirement already satisfied: sympy in /usr/local/lib/python3.12/dist-packages (from onnxruntime<2,>=1.14->faster-whisper) (1.13.3)\n",
            "Collecting humanfriendly>=9.1 (from coloredlogs->onnxruntime<2,>=1.14->faster-whisper)\n",
            "  Downloading humanfriendly-10.0-py2.py3-none-any.whl.metadata (9.2 kB)\n",
            "Requirement already satisfied: charset_normalizer<4,>=2 in /usr/local/lib/python3.12/dist-packages (from requests->huggingface-hub>=0.13->faster-whisper) (3.4.3)\n",
            "Requirement already satisfied: idna<4,>=2.5 in /usr/local/lib/python3.12/dist-packages (from requests->huggingface-hub>=0.13->faster-whisper) (3.10)\n",
            "Requirement already satisfied: urllib3<3,>=1.21.1 in /usr/local/lib/python3.12/dist-packages (from requests->huggingface-hub>=0.13->faster-whisper) (2.5.0)\n",
            "Requirement already satisfied: certifi>=2017.4.17 in /usr/local/lib/python3.12/dist-packages (from requests->huggingface-hub>=0.13->faster-whisper) (2025.8.3)\n",
            "Requirement already satisfied: mpmath<1.4,>=1.1.0 in /usr/local/lib/python3.12/dist-packages (from sympy->onnxruntime<2,>=1.14->faster-whisper) (1.3.0)\n",
            "Downloading faster_whisper-1.2.0-py3-none-any.whl (1.1 MB)\n",
            "\u001b[2K   \u001b[90m━━━━━━━━━━━━━━━━━━━━━━━━━━━━━━━━━━━━━━━━\u001b[0m \u001b[32m1.1/1.1 MB\u001b[0m \u001b[31m17.0 MB/s\u001b[0m eta \u001b[36m0:00:00\u001b[0m\n",
            "\u001b[?25hDownloading av-15.1.0-cp312-cp312-manylinux_2_28_x86_64.whl (39.9 MB)\n",
            "\u001b[2K   \u001b[90m━━━━━━━━━━━━━━━━━━━━━━━━━━━━━━━━━━━━━━━━\u001b[0m \u001b[32m39.9/39.9 MB\u001b[0m \u001b[31m22.0 MB/s\u001b[0m eta \u001b[36m0:00:00\u001b[0m\n",
            "\u001b[?25hDownloading ctranslate2-4.6.0-cp312-cp312-manylinux_2_17_x86_64.manylinux2014_x86_64.whl (38.8 MB)\n",
            "\u001b[2K   \u001b[90m━━━━━━━━━━━━━━━━━━━━━━━━━━━━━━━━━━━━━━━━\u001b[0m \u001b[32m38.8/38.8 MB\u001b[0m \u001b[31m22.0 MB/s\u001b[0m eta \u001b[36m0:00:00\u001b[0m\n",
            "\u001b[?25hDownloading onnxruntime-1.22.1-cp312-cp312-manylinux_2_27_x86_64.manylinux_2_28_x86_64.whl (16.5 MB)\n",
            "\u001b[2K   \u001b[90m━━━━━━━━━━━━━━━━━━━━━━━━━━━━━━━━━━━━━━━━\u001b[0m \u001b[32m16.5/16.5 MB\u001b[0m \u001b[31m118.7 MB/s\u001b[0m eta \u001b[36m0:00:00\u001b[0m\n",
            "\u001b[?25hDownloading coloredlogs-15.0.1-py2.py3-none-any.whl (46 kB)\n",
            "\u001b[2K   \u001b[90m━━━━━━━━━━━━━━━━━━━━━━━━━━━━━━━━━━━━━━━━\u001b[0m \u001b[32m46.0/46.0 kB\u001b[0m \u001b[31m4.1 MB/s\u001b[0m eta \u001b[36m0:00:00\u001b[0m\n",
            "\u001b[?25hDownloading humanfriendly-10.0-py2.py3-none-any.whl (86 kB)\n",
            "\u001b[2K   \u001b[90m━━━━━━━━━━━━━━━━━━━━━━━━━━━━━━━━━━━━━━━━\u001b[0m \u001b[32m86.8/86.8 kB\u001b[0m \u001b[31m7.7 MB/s\u001b[0m eta \u001b[36m0:00:00\u001b[0m\n",
            "\u001b[?25hInstalling collected packages: humanfriendly, ctranslate2, av, coloredlogs, onnxruntime, faster-whisper\n",
            "Successfully installed av-15.1.0 coloredlogs-15.0.1 ctranslate2-4.6.0 faster-whisper-1.2.0 humanfriendly-10.0 onnxruntime-1.22.1\n",
            "Collecting yt-dlp\n",
            "  Downloading yt_dlp-2025.9.23-py3-none-any.whl.metadata (176 kB)\n",
            "\u001b[2K     \u001b[90m━━━━━━━━━━━━━━━━━━━━━━━━━━━━━━━━━━━━━━━\u001b[0m \u001b[32m176.0/176.0 kB\u001b[0m \u001b[31m4.7 MB/s\u001b[0m eta \u001b[36m0:00:00\u001b[0m\n",
            "\u001b[?25hDownloading yt_dlp-2025.9.23-py3-none-any.whl (3.2 MB)\n",
            "\u001b[2K   \u001b[90m━━━━━━━━━━━━━━━━━━━━━━━━━━━━━━━━━━━━━━━━\u001b[0m \u001b[32m3.2/3.2 MB\u001b[0m \u001b[31m54.6 MB/s\u001b[0m eta \u001b[36m0:00:00\u001b[0m\n",
            "\u001b[?25hInstalling collected packages: yt-dlp\n",
            "Successfully installed yt-dlp-2025.9.23\n"
          ]
        },
        {
          "output_type": "stream",
          "name": "stderr",
          "text": [
            "Using device: cuda:0\n"
          ]
        },
        {
          "output_type": "stream",
          "name": "stdout",
          "text": [
            "\r0% [Working]\r            \rHit:1 http://archive.ubuntu.com/ubuntu jammy InRelease\n",
            "Get:2 http://archive.ubuntu.com/ubuntu jammy-updates InRelease [128 kB]\n",
            "Get:3 https://cli.github.com/packages stable InRelease [3,917 B]\n",
            "Get:4 https://cloud.r-project.org/bin/linux/ubuntu jammy-cran40/ InRelease [3,628 B]\n",
            "Hit:5 https://developer.download.nvidia.com/compute/cuda/repos/ubuntu2204/x86_64  InRelease\n",
            "Get:6 http://archive.ubuntu.com/ubuntu jammy-backports InRelease [127 kB]\n",
            "Get:7 http://security.ubuntu.com/ubuntu jammy-security InRelease [129 kB]\n",
            "Get:8 https://r2u.stat.illinois.edu/ubuntu jammy InRelease [6,555 B]\n",
            "Get:9 https://cli.github.com/packages stable/main amd64 Packages [346 B]\n",
            "Hit:10 https://ppa.launchpadcontent.net/deadsnakes/ppa/ubuntu jammy InRelease\n",
            "Get:11 http://archive.ubuntu.com/ubuntu jammy-updates/universe amd64 Packages [1,577 kB]\n",
            "Hit:12 https://ppa.launchpadcontent.net/graphics-drivers/ppa/ubuntu jammy InRelease\n",
            "Get:13 http://archive.ubuntu.com/ubuntu jammy-updates/main amd64 Packages [3,690 kB]\n",
            "Hit:14 https://ppa.launchpadcontent.net/ubuntugis/ppa/ubuntu jammy InRelease\n",
            "Get:15 http://archive.ubuntu.com/ubuntu jammy-updates/restricted amd64 Packages [5,804 kB]\n",
            "Get:16 https://r2u.stat.illinois.edu/ubuntu jammy/main all Packages [9,307 kB]\n",
            "Get:17 http://security.ubuntu.com/ubuntu jammy-security/universe amd64 Packages [1,274 kB]\n",
            "Get:18 https://r2u.stat.illinois.edu/ubuntu jammy/main amd64 Packages [2,808 kB]\n",
            "Get:19 http://security.ubuntu.com/ubuntu jammy-security/restricted amd64 Packages [5,584 kB]\n",
            "Get:20 http://security.ubuntu.com/ubuntu jammy-security/main amd64 Packages [3,363 kB]\n",
            "Fetched 33.8 MB in 3s (11.8 MB/s)\n",
            "Reading package lists... Done\n",
            "W: Skipping acquire of configured file 'main/source/Sources' as repository 'https://r2u.stat.illinois.edu/ubuntu jammy InRelease' does not seem to provide it (sources.list entry misspelt?)\n",
            "Reading package lists... Done\n",
            "Building dependency tree... Done\n",
            "Reading state information... Done\n",
            "The following additional packages will be installed:\n",
            "  fonts-dejavu-core fonts-dejavu-extra libaccinj64-11.5 libatk-wrapper-java\n",
            "  libatk-wrapper-java-jni libbabeltrace1 libcub-dev libcublas11 libcublaslt11\n",
            "  libcudart11.0 libcufft10 libcufftw10 libcuinj64-11.5 libcupti-dev\n",
            "  libcupti-doc libcupti11.5 libcurand10 libcusolver11 libcusolvermg11\n",
            "  libcusparse11 libdebuginfod-common libdebuginfod1 libegl-dev libgail-common\n",
            "  libgail18 libgl-dev libgl1-mesa-dev libgles-dev libgles1 libglvnd-core-dev\n",
            "  libglvnd-dev libglx-dev libgtk2.0-0 libgtk2.0-bin libgtk2.0-common libipt2\n",
            "  libnppc11 libnppial11 libnppicc11 libnppidei11 libnppif11 libnppig11\n",
            "  libnppim11 libnppist11 libnppisu11 libnppitc11 libnpps11 libnvblas11\n",
            "  libnvidia-compute-495 libnvidia-compute-510 libnvidia-compute-535\n",
            "  libnvidia-ml-dev libnvjpeg11 libnvrtc-builtins11.5 libnvrtc11.2\n",
            "  libnvtoolsext1 libnvvm4 libopengl-dev librsvg2-common\n",
            "  libsource-highlight-common libsource-highlight4v5 libthrust-dev libvdpau-dev\n",
            "  libxtst6 libxxf86dga1 node-html5shiv nvidia-cuda-dev nvidia-cuda-gdb\n",
            "  nvidia-cuda-toolkit-doc nvidia-profiler nvidia-visual-profiler openjdk-8-jre\n",
            "  openjdk-8-jre-headless x11-utils\n",
            "Suggested packages:\n",
            "  gvfs libvdpau-doc nodejs libnss-mdns fonts-nanum fonts-ipafont-gothic\n",
            "  fonts-ipafont-mincho fonts-wqy-microhei fonts-wqy-zenhei fonts-indic\n",
            "  mesa-utils\n",
            "Recommended packages:\n",
            "  libnvcuvid1 nsight-compute nsight-systems\n",
            "The following NEW packages will be installed:\n",
            "  fonts-dejavu-core fonts-dejavu-extra libaccinj64-11.5 libatk-wrapper-java\n",
            "  libatk-wrapper-java-jni libbabeltrace1 libcub-dev libcublas11 libcublaslt11\n",
            "  libcudart11.0 libcufft10 libcufftw10 libcuinj64-11.5 libcupti-dev\n",
            "  libcupti-doc libcupti11.5 libcurand10 libcusolver11 libcusolvermg11\n",
            "  libcusparse11 libdebuginfod-common libdebuginfod1 libegl-dev libgail-common\n",
            "  libgail18 libgl-dev libgl1-mesa-dev libgles-dev libgles1 libglvnd-core-dev\n",
            "  libglvnd-dev libglx-dev libgtk2.0-0 libgtk2.0-bin libgtk2.0-common libipt2\n",
            "  libnppc11 libnppial11 libnppicc11 libnppidei11 libnppif11 libnppig11\n",
            "  libnppim11 libnppist11 libnppisu11 libnppitc11 libnpps11 libnvblas11\n",
            "  libnvidia-compute-495 libnvidia-compute-510 libnvidia-compute-535\n",
            "  libnvidia-ml-dev libnvjpeg11 libnvrtc-builtins11.5 libnvrtc11.2\n",
            "  libnvtoolsext1 libnvvm4 libopengl-dev librsvg2-common\n",
            "  libsource-highlight-common libsource-highlight4v5 libthrust-dev libvdpau-dev\n",
            "  libxtst6 libxxf86dga1 node-html5shiv nvidia-cuda-dev nvidia-cuda-gdb\n",
            "  nvidia-cuda-toolkit nvidia-cuda-toolkit-doc nvidia-profiler\n",
            "  nvidia-visual-profiler openjdk-8-jre openjdk-8-jre-headless x11-utils\n",
            "0 upgraded, 75 newly installed, 0 to remove and 41 not upgraded.\n",
            "Need to get 1,540 MB of archives.\n",
            "After this operation, 4,233 MB of additional disk space will be used.\n",
            "Get:1 http://archive.ubuntu.com/ubuntu jammy-updates/main amd64 libdebuginfod-common all 0.186-1ubuntu0.1 [7,996 B]\n",
            "Get:2 http://archive.ubuntu.com/ubuntu jammy/main amd64 fonts-dejavu-core all 2.37-2build1 [1,041 kB]\n",
            "Get:3 https://developer.download.nvidia.com/compute/cuda/repos/ubuntu2204/x86_64  libnvidia-compute-535 535.261.03-0ubuntu1 [36.9 MB]\n",
            "Get:4 http://archive.ubuntu.com/ubuntu jammy/main amd64 fonts-dejavu-extra all 2.37-2build1 [2,041 kB]\n",
            "Get:5 http://archive.ubuntu.com/ubuntu jammy/multiverse amd64 libcupti11.5 amd64 11.5.114~11.5.1-1ubuntu1 [7,696 kB]\n",
            "Get:6 http://archive.ubuntu.com/ubuntu jammy/multiverse amd64 libaccinj64-11.5 amd64 11.5.114~11.5.1-1ubuntu1 [845 kB]\n",
            "Get:7 http://archive.ubuntu.com/ubuntu jammy/main amd64 libxtst6 amd64 2:1.2.3-1build4 [13.4 kB]\n",
            "Get:8 http://archive.ubuntu.com/ubuntu jammy/main amd64 libxxf86dga1 amd64 2:1.1.5-0ubuntu3 [12.6 kB]\n",
            "Get:9 http://archive.ubuntu.com/ubuntu jammy/main amd64 x11-utils amd64 7.7+5build2 [206 kB]\n",
            "Get:10 http://archive.ubuntu.com/ubuntu jammy/main amd64 libatk-wrapper-java all 0.38.0-5build1 [53.1 kB]\n",
            "Get:11 http://archive.ubuntu.com/ubuntu jammy/main amd64 libatk-wrapper-java-jni amd64 0.38.0-5build1 [49.0 kB]\n",
            "Get:12 http://archive.ubuntu.com/ubuntu jammy/universe amd64 libcub-dev all 1.15.0-3 [217 kB]\n",
            "Get:13 http://archive.ubuntu.com/ubuntu jammy/multiverse amd64 libcublaslt11 amd64 11.7.4.6~11.5.1-1ubuntu1 [148 MB]\n",
            "Get:14 http://archive.ubuntu.com/ubuntu jammy/multiverse amd64 libcublas11 amd64 11.7.4.6~11.5.1-1ubuntu1 [78.2 MB]\n",
            "Get:15 http://archive.ubuntu.com/ubuntu jammy/multiverse amd64 libcudart11.0 amd64 11.5.117~11.5.1-1ubuntu1 [178 kB]\n",
            "Get:16 http://archive.ubuntu.com/ubuntu jammy/multiverse amd64 libcufft10 amd64 11.1.1+~10.6.0.107~11.5.1-1ubuntu1 [70.4 MB]\n",
            "Get:17 http://archive.ubuntu.com/ubuntu jammy/multiverse amd64 libcufftw10 amd64 11.1.1+~10.6.0.107~11.5.1-1ubuntu1 [211 kB]\n",
            "Get:18 http://archive.ubuntu.com/ubuntu jammy-updates/restricted amd64 libnvidia-compute-510 amd64 525.147.05-0ubuntu2.22.04.1 [7,310 B]\n",
            "Get:19 http://archive.ubuntu.com/ubuntu jammy-updates/restricted amd64 libnvidia-compute-495 amd64 510.108.03-0ubuntu0.22.04.1 [7,378 B]\n",
            "Get:20 http://archive.ubuntu.com/ubuntu jammy/multiverse amd64 libcuinj64-11.5 amd64 11.5.114~11.5.1-1ubuntu1 [1,004 kB]\n",
            "Get:21 http://archive.ubuntu.com/ubuntu jammy/multiverse amd64 libcurand10 amd64 11.1.1+~10.2.7.107~11.5.1-1ubuntu1 [41.8 MB]\n",
            "Get:22 http://archive.ubuntu.com/ubuntu jammy/multiverse amd64 libcusolver11 amd64 11.3.2.107~11.5.1-1ubuntu1 [31.3 MB]\n",
            "Get:23 http://archive.ubuntu.com/ubuntu jammy/multiverse amd64 libcusolvermg11 amd64 11.3.2.107~11.5.1-1ubuntu1 [17.8 MB]\n",
            "Get:24 http://archive.ubuntu.com/ubuntu jammy/multiverse amd64 libcusparse11 amd64 11.7.0.107~11.5.1-1ubuntu1 [96.2 MB]\n",
            "Get:25 http://archive.ubuntu.com/ubuntu jammy-updates/main amd64 libdebuginfod1 amd64 0.186-1ubuntu0.1 [12.8 kB]\n",
            "Get:26 http://archive.ubuntu.com/ubuntu jammy/main amd64 libglx-dev amd64 1.4.0-1 [14.1 kB]\n",
            "Get:27 http://archive.ubuntu.com/ubuntu jammy/main amd64 libgl-dev amd64 1.4.0-1 [101 kB]\n",
            "Get:28 http://archive.ubuntu.com/ubuntu jammy/main amd64 libegl-dev amd64 1.4.0-1 [18.0 kB]\n",
            "Get:29 http://archive.ubuntu.com/ubuntu jammy-updates/main amd64 libgtk2.0-common all 2.24.33-2ubuntu2.1 [125 kB]\n",
            "Get:30 http://archive.ubuntu.com/ubuntu jammy-updates/main amd64 libgtk2.0-0 amd64 2.24.33-2ubuntu2.1 [2,038 kB]\n",
            "Get:31 http://archive.ubuntu.com/ubuntu jammy-updates/main amd64 libgail18 amd64 2.24.33-2ubuntu2.1 [15.9 kB]\n",
            "Get:32 http://archive.ubuntu.com/ubuntu jammy-updates/main amd64 libgail-common amd64 2.24.33-2ubuntu2.1 [132 kB]\n",
            "Get:33 http://archive.ubuntu.com/ubuntu jammy/main amd64 libgles1 amd64 1.4.0-1 [11.5 kB]\n",
            "Get:34 http://archive.ubuntu.com/ubuntu jammy/main amd64 libgles-dev amd64 1.4.0-1 [49.4 kB]\n",
            "Get:35 http://archive.ubuntu.com/ubuntu jammy-updates/main amd64 libgtk2.0-bin amd64 2.24.33-2ubuntu2.1 [7,936 B]\n",
            "Get:36 http://archive.ubuntu.com/ubuntu jammy/main amd64 libipt2 amd64 2.0.5-1 [46.4 kB]\n",
            "Get:37 http://archive.ubuntu.com/ubuntu jammy/multiverse amd64 libnppc11 amd64 11.5.1.107~11.5.1-1ubuntu1 [430 kB]\n",
            "Get:38 http://archive.ubuntu.com/ubuntu jammy/multiverse amd64 libnppial11 amd64 11.5.1.107~11.5.1-1ubuntu1 [5,234 kB]\n",
            "Get:39 http://archive.ubuntu.com/ubuntu jammy/multiverse amd64 libnppicc11 amd64 11.5.1.107~11.5.1-1ubuntu1 [2,373 kB]\n",
            "Get:40 http://archive.ubuntu.com/ubuntu jammy/multiverse amd64 libnppidei11 amd64 11.5.1.107~11.5.1-1ubuntu1 [2,587 kB]\n",
            "Get:41 http://archive.ubuntu.com/ubuntu jammy/multiverse amd64 libnppif11 amd64 11.5.1.107~11.5.1-1ubuntu1 [33.8 MB]\n",
            "Get:42 http://archive.ubuntu.com/ubuntu jammy/multiverse amd64 libnppig11 amd64 11.5.1.107~11.5.1-1ubuntu1 [14.5 MB]\n",
            "Get:43 http://archive.ubuntu.com/ubuntu jammy/multiverse amd64 libnppim11 amd64 11.5.1.107~11.5.1-1ubuntu1 [3,037 kB]\n",
            "Get:44 http://archive.ubuntu.com/ubuntu jammy/multiverse amd64 libnppist11 amd64 11.5.1.107~11.5.1-1ubuntu1 [13.7 MB]\n",
            "Get:45 http://archive.ubuntu.com/ubuntu jammy/multiverse amd64 libnppisu11 amd64 11.5.1.107~11.5.1-1ubuntu1 [177 kB]\n",
            "Get:46 http://archive.ubuntu.com/ubuntu jammy/multiverse amd64 libnppitc11 amd64 11.5.1.107~11.5.1-1ubuntu1 [1,292 kB]\n",
            "Get:47 http://archive.ubuntu.com/ubuntu jammy/multiverse amd64 libnpps11 amd64 11.5.1.107~11.5.1-1ubuntu1 [7,116 kB]\n",
            "Get:48 http://archive.ubuntu.com/ubuntu jammy/multiverse amd64 libnvblas11 amd64 11.7.4.6~11.5.1-1ubuntu1 [191 kB]\n",
            "Get:49 http://archive.ubuntu.com/ubuntu jammy/multiverse amd64 libnvidia-ml-dev amd64 11.5.50~11.5.1-1ubuntu1 [69.1 kB]\n",
            "Get:50 http://archive.ubuntu.com/ubuntu jammy/multiverse amd64 libnvjpeg11 amd64 11.5.4.107~11.5.1-1ubuntu1 [1,858 kB]\n",
            "Get:51 http://archive.ubuntu.com/ubuntu jammy/multiverse amd64 libnvrtc-builtins11.5 amd64 11.5.119~11.5.1-1ubuntu1 [116 kB]\n",
            "Get:52 http://archive.ubuntu.com/ubuntu jammy/multiverse amd64 libnvrtc11.2 amd64 11.5.119~11.5.1-1ubuntu1 [15.7 MB]\n",
            "Get:53 http://archive.ubuntu.com/ubuntu jammy/multiverse amd64 libnvvm4 amd64 11.5.119~11.5.1-1ubuntu1 [8,675 kB]\n",
            "Get:54 http://archive.ubuntu.com/ubuntu jammy/main amd64 libopengl-dev amd64 1.4.0-1 [3,400 B]\n",
            "Get:55 http://archive.ubuntu.com/ubuntu jammy-updates/main amd64 librsvg2-common amd64 2.52.5+dfsg-3ubuntu0.2 [17.7 kB]\n",
            "Get:56 http://archive.ubuntu.com/ubuntu jammy/main amd64 libsource-highlight-common all 3.1.9-4.1build2 [64.5 kB]\n",
            "Get:57 http://archive.ubuntu.com/ubuntu jammy/main amd64 libsource-highlight4v5 amd64 3.1.9-4.1build2 [207 kB]\n",
            "Get:58 http://archive.ubuntu.com/ubuntu jammy/main amd64 libvdpau-dev amd64 1.4-3build2 [38.7 kB]\n",
            "Get:59 http://archive.ubuntu.com/ubuntu jammy/universe amd64 node-html5shiv all 3.7.3+dfsg-4 [13.6 kB]\n",
            "Get:60 http://archive.ubuntu.com/ubuntu jammy/multiverse amd64 nvidia-cuda-toolkit-doc all 11.5.1-1ubuntu1 [6,263 kB]\n",
            "Get:61 http://archive.ubuntu.com/ubuntu jammy-updates/universe amd64 openjdk-8-jre-headless amd64 8u462-ga~us1-0ubuntu2~22.04.2 [30.8 MB]\n",
            "Get:62 http://archive.ubuntu.com/ubuntu jammy-updates/universe amd64 openjdk-8-jre amd64 8u462-ga~us1-0ubuntu2~22.04.2 [75.5 kB]\n",
            "Get:63 http://archive.ubuntu.com/ubuntu jammy/main amd64 libbabeltrace1 amd64 1.5.8-2build1 [160 kB]\n",
            "Get:64 http://archive.ubuntu.com/ubuntu jammy/multiverse amd64 libcupti-dev amd64 11.5.114~11.5.1-1ubuntu1 [7,915 kB]\n",
            "Get:65 http://archive.ubuntu.com/ubuntu jammy/multiverse amd64 libcupti-doc all 11.5.114~11.5.1-1ubuntu1 [2,373 kB]\n",
            "Get:66 http://archive.ubuntu.com/ubuntu jammy/main amd64 libglvnd-core-dev amd64 1.4.0-1 [12.7 kB]\n",
            "Get:67 http://archive.ubuntu.com/ubuntu jammy/main amd64 libglvnd-dev amd64 1.4.0-1 [3,162 B]\n",
            "Get:68 http://archive.ubuntu.com/ubuntu jammy-updates/main amd64 libgl1-mesa-dev amd64 23.2.1-1ubuntu3.1~22.04.3 [6,848 B]\n",
            "Get:69 http://archive.ubuntu.com/ubuntu jammy/multiverse amd64 libnvtoolsext1 amd64 11.5.114~11.5.1-1ubuntu1 [28.8 kB]\n",
            "Get:70 http://archive.ubuntu.com/ubuntu jammy/multiverse amd64 libthrust-dev all 1.15.0-1 [423 kB]\n",
            "Get:71 http://archive.ubuntu.com/ubuntu jammy/multiverse amd64 nvidia-cuda-dev amd64 11.5.1-1ubuntu1 [667 MB]\n",
            "Get:72 http://archive.ubuntu.com/ubuntu jammy/multiverse amd64 nvidia-cuda-gdb amd64 11.5.114~11.5.1-1ubuntu1 [3,404 kB]\n",
            "Get:73 http://archive.ubuntu.com/ubuntu jammy/multiverse amd64 nvidia-profiler amd64 11.5.114~11.5.1-1ubuntu1 [1,732 kB]\n",
            "Get:74 http://archive.ubuntu.com/ubuntu jammy/multiverse amd64 nvidia-cuda-toolkit amd64 11.5.1-1ubuntu1 [62.8 MB]\n",
            "Get:75 http://archive.ubuntu.com/ubuntu jammy/multiverse amd64 nvidia-visual-profiler amd64 11.5.114~11.5.1-1ubuntu1 [108 MB]\n",
            "Fetched 1,540 MB in 25s (62.0 MB/s)\n",
            "debconf: unable to initialize frontend: Dialog\n",
            "debconf: (No usable dialog-like program is installed, so the dialog based frontend cannot be used. at /usr/share/perl5/Debconf/FrontEnd/Dialog.pm line 78, <> line 75.)\n",
            "debconf: falling back to frontend: Readline\n",
            "debconf: unable to initialize frontend: Readline\n",
            "debconf: (This frontend requires a controlling tty.)\n",
            "debconf: falling back to frontend: Teletype\n",
            "dpkg-preconfigure: unable to re-open stdin: \n",
            "Selecting previously unselected package libdebuginfod-common.\n",
            "(Reading database ... 126435 files and directories currently installed.)\n",
            "Preparing to unpack .../00-libdebuginfod-common_0.186-1ubuntu0.1_all.deb ...\n",
            "Unpacking libdebuginfod-common (0.186-1ubuntu0.1) ...\n",
            "Selecting previously unselected package fonts-dejavu-core.\n",
            "Preparing to unpack .../01-fonts-dejavu-core_2.37-2build1_all.deb ...\n",
            "Unpacking fonts-dejavu-core (2.37-2build1) ...\n",
            "Selecting previously unselected package fonts-dejavu-extra.\n",
            "Preparing to unpack .../02-fonts-dejavu-extra_2.37-2build1_all.deb ...\n",
            "Unpacking fonts-dejavu-extra (2.37-2build1) ...\n",
            "Selecting previously unselected package libcupti11.5:amd64.\n",
            "Preparing to unpack .../03-libcupti11.5_11.5.114~11.5.1-1ubuntu1_amd64.deb ...\n",
            "Unpacking libcupti11.5:amd64 (11.5.114~11.5.1-1ubuntu1) ...\n",
            "Selecting previously unselected package libaccinj64-11.5:amd64.\n",
            "Preparing to unpack .../04-libaccinj64-11.5_11.5.114~11.5.1-1ubuntu1_amd64.deb ...\n",
            "Unpacking libaccinj64-11.5:amd64 (11.5.114~11.5.1-1ubuntu1) ...\n",
            "Selecting previously unselected package libxtst6:amd64.\n",
            "Preparing to unpack .../05-libxtst6_2%3a1.2.3-1build4_amd64.deb ...\n",
            "Unpacking libxtst6:amd64 (2:1.2.3-1build4) ...\n",
            "Selecting previously unselected package libxxf86dga1:amd64.\n",
            "Preparing to unpack .../06-libxxf86dga1_2%3a1.1.5-0ubuntu3_amd64.deb ...\n",
            "Unpacking libxxf86dga1:amd64 (2:1.1.5-0ubuntu3) ...\n",
            "Selecting previously unselected package x11-utils.\n",
            "Preparing to unpack .../07-x11-utils_7.7+5build2_amd64.deb ...\n",
            "Unpacking x11-utils (7.7+5build2) ...\n",
            "Selecting previously unselected package libatk-wrapper-java.\n",
            "Preparing to unpack .../08-libatk-wrapper-java_0.38.0-5build1_all.deb ...\n",
            "Unpacking libatk-wrapper-java (0.38.0-5build1) ...\n",
            "Selecting previously unselected package libatk-wrapper-java-jni:amd64.\n",
            "Preparing to unpack .../09-libatk-wrapper-java-jni_0.38.0-5build1_amd64.deb ...\n",
            "Unpacking libatk-wrapper-java-jni:amd64 (0.38.0-5build1) ...\n",
            "Selecting previously unselected package libcub-dev.\n",
            "Preparing to unpack .../10-libcub-dev_1.15.0-3_all.deb ...\n",
            "Unpacking libcub-dev (1.15.0-3) ...\n",
            "Selecting previously unselected package libcublaslt11:amd64.\n",
            "Preparing to unpack .../11-libcublaslt11_11.7.4.6~11.5.1-1ubuntu1_amd64.deb ...\n",
            "Unpacking libcublaslt11:amd64 (11.7.4.6~11.5.1-1ubuntu1) ...\n",
            "Selecting previously unselected package libcublas11:amd64.\n",
            "Preparing to unpack .../12-libcublas11_11.7.4.6~11.5.1-1ubuntu1_amd64.deb ...\n",
            "Unpacking libcublas11:amd64 (11.7.4.6~11.5.1-1ubuntu1) ...\n",
            "Selecting previously unselected package libcudart11.0:amd64.\n",
            "Preparing to unpack .../13-libcudart11.0_11.5.117~11.5.1-1ubuntu1_amd64.deb ...\n",
            "Unpacking libcudart11.0:amd64 (11.5.117~11.5.1-1ubuntu1) ...\n",
            "Selecting previously unselected package libcufft10:amd64.\n",
            "Preparing to unpack .../14-libcufft10_11.1.1+~10.6.0.107~11.5.1-1ubuntu1_amd64.deb ...\n",
            "Unpacking libcufft10:amd64 (11.1.1+~10.6.0.107~11.5.1-1ubuntu1) ...\n",
            "Selecting previously unselected package libcufftw10:amd64.\n",
            "Preparing to unpack .../15-libcufftw10_11.1.1+~10.6.0.107~11.5.1-1ubuntu1_amd64.deb ...\n",
            "Unpacking libcufftw10:amd64 (11.1.1+~10.6.0.107~11.5.1-1ubuntu1) ...\n",
            "Selecting previously unselected package libnvidia-compute-535:amd64.\n",
            "Preparing to unpack .../16-libnvidia-compute-535_535.261.03-0ubuntu1_amd64.deb ...\n",
            "Unpacking libnvidia-compute-535:amd64 (535.261.03-0ubuntu1) ...\n",
            "Selecting previously unselected package libnvidia-compute-510:amd64.\n",
            "Preparing to unpack .../17-libnvidia-compute-510_525.147.05-0ubuntu2.22.04.1_amd64.deb ...\n",
            "Unpacking libnvidia-compute-510:amd64 (525.147.05-0ubuntu2.22.04.1) ...\n",
            "Selecting previously unselected package libnvidia-compute-495:amd64.\n",
            "Preparing to unpack .../18-libnvidia-compute-495_510.108.03-0ubuntu0.22.04.1_amd64.deb ...\n",
            "Unpacking libnvidia-compute-495:amd64 (510.108.03-0ubuntu0.22.04.1) ...\n",
            "Selecting previously unselected package libcuinj64-11.5:amd64.\n",
            "Preparing to unpack .../19-libcuinj64-11.5_11.5.114~11.5.1-1ubuntu1_amd64.deb ...\n",
            "Unpacking libcuinj64-11.5:amd64 (11.5.114~11.5.1-1ubuntu1) ...\n",
            "Selecting previously unselected package libcurand10:amd64.\n",
            "Preparing to unpack .../20-libcurand10_11.1.1+~10.2.7.107~11.5.1-1ubuntu1_amd64.deb ...\n",
            "Unpacking libcurand10:amd64 (11.1.1+~10.2.7.107~11.5.1-1ubuntu1) ...\n",
            "Selecting previously unselected package libcusolver11:amd64.\n",
            "Preparing to unpack .../21-libcusolver11_11.3.2.107~11.5.1-1ubuntu1_amd64.deb ...\n",
            "Unpacking libcusolver11:amd64 (11.3.2.107~11.5.1-1ubuntu1) ...\n",
            "Selecting previously unselected package libcusolvermg11:amd64.\n",
            "Preparing to unpack .../22-libcusolvermg11_11.3.2.107~11.5.1-1ubuntu1_amd64.deb ...\n",
            "Unpacking libcusolvermg11:amd64 (11.3.2.107~11.5.1-1ubuntu1) ...\n",
            "Selecting previously unselected package libcusparse11:amd64.\n",
            "Preparing to unpack .../23-libcusparse11_11.7.0.107~11.5.1-1ubuntu1_amd64.deb ...\n",
            "Unpacking libcusparse11:amd64 (11.7.0.107~11.5.1-1ubuntu1) ...\n",
            "Selecting previously unselected package libdebuginfod1:amd64.\n",
            "Preparing to unpack .../24-libdebuginfod1_0.186-1ubuntu0.1_amd64.deb ...\n",
            "Unpacking libdebuginfod1:amd64 (0.186-1ubuntu0.1) ...\n",
            "Selecting previously unselected package libglx-dev:amd64.\n",
            "Preparing to unpack .../25-libglx-dev_1.4.0-1_amd64.deb ...\n",
            "Unpacking libglx-dev:amd64 (1.4.0-1) ...\n",
            "Selecting previously unselected package libgl-dev:amd64.\n",
            "Preparing to unpack .../26-libgl-dev_1.4.0-1_amd64.deb ...\n",
            "Unpacking libgl-dev:amd64 (1.4.0-1) ...\n",
            "Selecting previously unselected package libegl-dev:amd64.\n",
            "Preparing to unpack .../27-libegl-dev_1.4.0-1_amd64.deb ...\n",
            "Unpacking libegl-dev:amd64 (1.4.0-1) ...\n",
            "Selecting previously unselected package libgtk2.0-common.\n",
            "Preparing to unpack .../28-libgtk2.0-common_2.24.33-2ubuntu2.1_all.deb ...\n",
            "Unpacking libgtk2.0-common (2.24.33-2ubuntu2.1) ...\n",
            "Selecting previously unselected package libgtk2.0-0:amd64.\n",
            "Preparing to unpack .../29-libgtk2.0-0_2.24.33-2ubuntu2.1_amd64.deb ...\n",
            "Unpacking libgtk2.0-0:amd64 (2.24.33-2ubuntu2.1) ...\n",
            "Selecting previously unselected package libgail18:amd64.\n",
            "Preparing to unpack .../30-libgail18_2.24.33-2ubuntu2.1_amd64.deb ...\n",
            "Unpacking libgail18:amd64 (2.24.33-2ubuntu2.1) ...\n",
            "Selecting previously unselected package libgail-common:amd64.\n",
            "Preparing to unpack .../31-libgail-common_2.24.33-2ubuntu2.1_amd64.deb ...\n",
            "Unpacking libgail-common:amd64 (2.24.33-2ubuntu2.1) ...\n",
            "Selecting previously unselected package libgles1:amd64.\n",
            "Preparing to unpack .../32-libgles1_1.4.0-1_amd64.deb ...\n",
            "Unpacking libgles1:amd64 (1.4.0-1) ...\n",
            "Selecting previously unselected package libgles-dev:amd64.\n",
            "Preparing to unpack .../33-libgles-dev_1.4.0-1_amd64.deb ...\n",
            "Unpacking libgles-dev:amd64 (1.4.0-1) ...\n",
            "Selecting previously unselected package libgtk2.0-bin.\n",
            "Preparing to unpack .../34-libgtk2.0-bin_2.24.33-2ubuntu2.1_amd64.deb ...\n",
            "Unpacking libgtk2.0-bin (2.24.33-2ubuntu2.1) ...\n",
            "Selecting previously unselected package libipt2.\n",
            "Preparing to unpack .../35-libipt2_2.0.5-1_amd64.deb ...\n",
            "Unpacking libipt2 (2.0.5-1) ...\n",
            "Selecting previously unselected package libnppc11:amd64.\n",
            "Preparing to unpack .../36-libnppc11_11.5.1.107~11.5.1-1ubuntu1_amd64.deb ...\n",
            "Unpacking libnppc11:amd64 (11.5.1.107~11.5.1-1ubuntu1) ...\n",
            "Selecting previously unselected package libnppial11:amd64.\n",
            "Preparing to unpack .../37-libnppial11_11.5.1.107~11.5.1-1ubuntu1_amd64.deb ...\n",
            "Unpacking libnppial11:amd64 (11.5.1.107~11.5.1-1ubuntu1) ...\n",
            "Selecting previously unselected package libnppicc11:amd64.\n",
            "Preparing to unpack .../38-libnppicc11_11.5.1.107~11.5.1-1ubuntu1_amd64.deb ...\n",
            "Unpacking libnppicc11:amd64 (11.5.1.107~11.5.1-1ubuntu1) ...\n",
            "Selecting previously unselected package libnppidei11:amd64.\n",
            "Preparing to unpack .../39-libnppidei11_11.5.1.107~11.5.1-1ubuntu1_amd64.deb ...\n",
            "Unpacking libnppidei11:amd64 (11.5.1.107~11.5.1-1ubuntu1) ...\n",
            "Selecting previously unselected package libnppif11:amd64.\n",
            "Preparing to unpack .../40-libnppif11_11.5.1.107~11.5.1-1ubuntu1_amd64.deb ...\n",
            "Unpacking libnppif11:amd64 (11.5.1.107~11.5.1-1ubuntu1) ...\n",
            "Selecting previously unselected package libnppig11:amd64.\n",
            "Preparing to unpack .../41-libnppig11_11.5.1.107~11.5.1-1ubuntu1_amd64.deb ...\n",
            "Unpacking libnppig11:amd64 (11.5.1.107~11.5.1-1ubuntu1) ...\n",
            "Selecting previously unselected package libnppim11:amd64.\n",
            "Preparing to unpack .../42-libnppim11_11.5.1.107~11.5.1-1ubuntu1_amd64.deb ...\n",
            "Unpacking libnppim11:amd64 (11.5.1.107~11.5.1-1ubuntu1) ...\n",
            "Selecting previously unselected package libnppist11:amd64.\n",
            "Preparing to unpack .../43-libnppist11_11.5.1.107~11.5.1-1ubuntu1_amd64.deb ...\n",
            "Unpacking libnppist11:amd64 (11.5.1.107~11.5.1-1ubuntu1) ...\n",
            "Selecting previously unselected package libnppisu11:amd64.\n",
            "Preparing to unpack .../44-libnppisu11_11.5.1.107~11.5.1-1ubuntu1_amd64.deb ...\n",
            "Unpacking libnppisu11:amd64 (11.5.1.107~11.5.1-1ubuntu1) ...\n",
            "Selecting previously unselected package libnppitc11:amd64.\n",
            "Preparing to unpack .../45-libnppitc11_11.5.1.107~11.5.1-1ubuntu1_amd64.deb ...\n",
            "Unpacking libnppitc11:amd64 (11.5.1.107~11.5.1-1ubuntu1) ...\n",
            "Selecting previously unselected package libnpps11:amd64.\n",
            "Preparing to unpack .../46-libnpps11_11.5.1.107~11.5.1-1ubuntu1_amd64.deb ...\n",
            "Unpacking libnpps11:amd64 (11.5.1.107~11.5.1-1ubuntu1) ...\n",
            "Selecting previously unselected package libnvblas11:amd64.\n",
            "Preparing to unpack .../47-libnvblas11_11.7.4.6~11.5.1-1ubuntu1_amd64.deb ...\n",
            "Unpacking libnvblas11:amd64 (11.7.4.6~11.5.1-1ubuntu1) ...\n",
            "Selecting previously unselected package libnvidia-ml-dev:amd64.\n",
            "Preparing to unpack .../48-libnvidia-ml-dev_11.5.50~11.5.1-1ubuntu1_amd64.deb ...\n",
            "Unpacking libnvidia-ml-dev:amd64 (11.5.50~11.5.1-1ubuntu1) ...\n",
            "Selecting previously unselected package libnvjpeg11:amd64.\n",
            "Preparing to unpack .../49-libnvjpeg11_11.5.4.107~11.5.1-1ubuntu1_amd64.deb ...\n",
            "Unpacking libnvjpeg11:amd64 (11.5.4.107~11.5.1-1ubuntu1) ...\n",
            "Selecting previously unselected package libnvrtc-builtins11.5:amd64.\n",
            "Preparing to unpack .../50-libnvrtc-builtins11.5_11.5.119~11.5.1-1ubuntu1_amd64.deb ...\n",
            "Unpacking libnvrtc-builtins11.5:amd64 (11.5.119~11.5.1-1ubuntu1) ...\n",
            "Selecting previously unselected package libnvrtc11.2:amd64.\n",
            "Preparing to unpack .../51-libnvrtc11.2_11.5.119~11.5.1-1ubuntu1_amd64.deb ...\n",
            "Unpacking libnvrtc11.2:amd64 (11.5.119~11.5.1-1ubuntu1) ...\n",
            "Selecting previously unselected package libnvvm4:amd64.\n",
            "Preparing to unpack .../52-libnvvm4_11.5.119~11.5.1-1ubuntu1_amd64.deb ...\n",
            "Unpacking libnvvm4:amd64 (11.5.119~11.5.1-1ubuntu1) ...\n",
            "Selecting previously unselected package libopengl-dev:amd64.\n",
            "Preparing to unpack .../53-libopengl-dev_1.4.0-1_amd64.deb ...\n",
            "Unpacking libopengl-dev:amd64 (1.4.0-1) ...\n",
            "Selecting previously unselected package librsvg2-common:amd64.\n",
            "Preparing to unpack .../54-librsvg2-common_2.52.5+dfsg-3ubuntu0.2_amd64.deb ...\n",
            "Unpacking librsvg2-common:amd64 (2.52.5+dfsg-3ubuntu0.2) ...\n",
            "Selecting previously unselected package libsource-highlight-common.\n",
            "Preparing to unpack .../55-libsource-highlight-common_3.1.9-4.1build2_all.deb ...\n",
            "Unpacking libsource-highlight-common (3.1.9-4.1build2) ...\n",
            "Selecting previously unselected package libsource-highlight4v5.\n",
            "Preparing to unpack .../56-libsource-highlight4v5_3.1.9-4.1build2_amd64.deb ...\n",
            "Unpacking libsource-highlight4v5 (3.1.9-4.1build2) ...\n",
            "Selecting previously unselected package libvdpau-dev:amd64.\n",
            "Preparing to unpack .../57-libvdpau-dev_1.4-3build2_amd64.deb ...\n",
            "Unpacking libvdpau-dev:amd64 (1.4-3build2) ...\n",
            "Selecting previously unselected package node-html5shiv.\n",
            "Preparing to unpack .../58-node-html5shiv_3.7.3+dfsg-4_all.deb ...\n",
            "Unpacking node-html5shiv (3.7.3+dfsg-4) ...\n",
            "Selecting previously unselected package nvidia-cuda-toolkit-doc.\n",
            "Preparing to unpack .../59-nvidia-cuda-toolkit-doc_11.5.1-1ubuntu1_all.deb ...\n",
            "Unpacking nvidia-cuda-toolkit-doc (11.5.1-1ubuntu1) ...\n",
            "Selecting previously unselected package openjdk-8-jre-headless:amd64.\n",
            "Preparing to unpack .../60-openjdk-8-jre-headless_8u462-ga~us1-0ubuntu2~22.04.2_amd64.deb ...\n",
            "Unpacking openjdk-8-jre-headless:amd64 (8u462-ga~us1-0ubuntu2~22.04.2) ...\n",
            "Selecting previously unselected package openjdk-8-jre:amd64.\n",
            "Preparing to unpack .../61-openjdk-8-jre_8u462-ga~us1-0ubuntu2~22.04.2_amd64.deb ...\n",
            "Unpacking openjdk-8-jre:amd64 (8u462-ga~us1-0ubuntu2~22.04.2) ...\n",
            "Selecting previously unselected package libbabeltrace1:amd64.\n",
            "Preparing to unpack .../62-libbabeltrace1_1.5.8-2build1_amd64.deb ...\n",
            "Unpacking libbabeltrace1:amd64 (1.5.8-2build1) ...\n",
            "Selecting previously unselected package libcupti-dev:amd64.\n",
            "Preparing to unpack .../63-libcupti-dev_11.5.114~11.5.1-1ubuntu1_amd64.deb ...\n",
            "Unpacking libcupti-dev:amd64 (11.5.114~11.5.1-1ubuntu1) ...\n",
            "Selecting previously unselected package libcupti-doc.\n",
            "Preparing to unpack .../64-libcupti-doc_11.5.114~11.5.1-1ubuntu1_all.deb ...\n",
            "Unpacking libcupti-doc (11.5.114~11.5.1-1ubuntu1) ...\n",
            "Selecting previously unselected package libglvnd-core-dev:amd64.\n",
            "Preparing to unpack .../65-libglvnd-core-dev_1.4.0-1_amd64.deb ...\n",
            "Unpacking libglvnd-core-dev:amd64 (1.4.0-1) ...\n",
            "Selecting previously unselected package libglvnd-dev:amd64.\n",
            "Preparing to unpack .../66-libglvnd-dev_1.4.0-1_amd64.deb ...\n",
            "Unpacking libglvnd-dev:amd64 (1.4.0-1) ...\n",
            "Selecting previously unselected package libgl1-mesa-dev:amd64.\n",
            "Preparing to unpack .../67-libgl1-mesa-dev_23.2.1-1ubuntu3.1~22.04.3_amd64.deb ...\n",
            "Unpacking libgl1-mesa-dev:amd64 (23.2.1-1ubuntu3.1~22.04.3) ...\n",
            "Selecting previously unselected package libnvtoolsext1:amd64.\n",
            "Preparing to unpack .../68-libnvtoolsext1_11.5.114~11.5.1-1ubuntu1_amd64.deb ...\n",
            "Unpacking libnvtoolsext1:amd64 (11.5.114~11.5.1-1ubuntu1) ...\n",
            "Selecting previously unselected package libthrust-dev.\n",
            "Preparing to unpack .../69-libthrust-dev_1.15.0-1_all.deb ...\n",
            "Unpacking libthrust-dev (1.15.0-1) ...\n",
            "Selecting previously unselected package nvidia-cuda-dev:amd64.\n",
            "Preparing to unpack .../70-nvidia-cuda-dev_11.5.1-1ubuntu1_amd64.deb ...\n",
            "Unpacking nvidia-cuda-dev:amd64 (11.5.1-1ubuntu1) ...\n",
            "Selecting previously unselected package nvidia-cuda-gdb.\n",
            "Preparing to unpack .../71-nvidia-cuda-gdb_11.5.114~11.5.1-1ubuntu1_amd64.deb ...\n",
            "Unpacking nvidia-cuda-gdb (11.5.114~11.5.1-1ubuntu1) ...\n",
            "Selecting previously unselected package nvidia-profiler.\n",
            "Preparing to unpack .../72-nvidia-profiler_11.5.114~11.5.1-1ubuntu1_amd64.deb ...\n",
            "Unpacking nvidia-profiler (11.5.114~11.5.1-1ubuntu1) ...\n",
            "Selecting previously unselected package nvidia-cuda-toolkit.\n",
            "Preparing to unpack .../73-nvidia-cuda-toolkit_11.5.1-1ubuntu1_amd64.deb ...\n",
            "Unpacking nvidia-cuda-toolkit (11.5.1-1ubuntu1) ...\n",
            "Selecting previously unselected package nvidia-visual-profiler.\n",
            "Preparing to unpack .../74-nvidia-visual-profiler_11.5.114~11.5.1-1ubuntu1_amd64.deb ...\n",
            "Unpacking nvidia-visual-profiler (11.5.114~11.5.1-1ubuntu1) ...\n",
            "Setting up libcusparse11:amd64 (11.7.0.107~11.5.1-1ubuntu1) ...\n",
            "Setting up libglvnd-core-dev:amd64 (1.4.0-1) ...\n",
            "Setting up libdebuginfod-common (0.186-1ubuntu0.1) ...\n",
            "debconf: unable to initialize frontend: Dialog\n",
            "debconf: (No usable dialog-like program is installed, so the dialog based frontend cannot be used. at /usr/share/perl5/Debconf/FrontEnd/Dialog.pm line 78.)\n",
            "debconf: falling back to frontend: Readline\n",
            "\n",
            "Creating config file /etc/profile.d/debuginfod.sh with new version\n",
            "\n",
            "Creating config file /etc/profile.d/debuginfod.csh with new version\n",
            "Setting up libnppc11:amd64 (11.5.1.107~11.5.1-1ubuntu1) ...\n",
            "Setting up libxtst6:amd64 (2:1.2.3-1build4) ...\n",
            "Setting up libdebuginfod1:amd64 (0.186-1ubuntu0.1) ...\n",
            "Setting up node-html5shiv (3.7.3+dfsg-4) ...\n",
            "Setting up libxxf86dga1:amd64 (2:1.1.5-0ubuntu3) ...\n",
            "Setting up libcupti-doc (11.5.114~11.5.1-1ubuntu1) ...\n",
            "Setting up libsource-highlight-common (3.1.9-4.1build2) ...\n",
            "Setting up libcudart11.0:amd64 (11.5.117~11.5.1-1ubuntu1) ...\n",
            "Setting up libnppisu11:amd64 (11.5.1.107~11.5.1-1ubuntu1) ...\n",
            "Setting up libnppicc11:amd64 (11.5.1.107~11.5.1-1ubuntu1) ...\n",
            "Setting up libnvjpeg11:amd64 (11.5.4.107~11.5.1-1ubuntu1) ...\n",
            "Setting up libcublaslt11:amd64 (11.7.4.6~11.5.1-1ubuntu1) ...\n",
            "Setting up libgles1:amd64 (1.4.0-1) ...\n",
            "Setting up libcupti11.5:amd64 (11.5.114~11.5.1-1ubuntu1) ...\n",
            "Setting up openjdk-8-jre-headless:amd64 (8u462-ga~us1-0ubuntu2~22.04.2) ...\n",
            "update-alternatives: using /usr/lib/jvm/java-8-openjdk-amd64/jre/bin/orbd to provide /usr/bin/orbd (orbd) in auto mode\n",
            "update-alternatives: using /usr/lib/jvm/java-8-openjdk-amd64/jre/bin/servertool to provide /usr/bin/servertool (servertool) in auto mode\n",
            "update-alternatives: using /usr/lib/jvm/java-8-openjdk-amd64/jre/bin/tnameserv to provide /usr/bin/tnameserv (tnameserv) in auto mode\n",
            "Setting up libipt2 (2.0.5-1) ...\n",
            "Setting up fonts-dejavu-core (2.37-2build1) ...\n",
            "Setting up librsvg2-common:amd64 (2.52.5+dfsg-3ubuntu0.2) ...\n",
            "Setting up libbabeltrace1:amd64 (1.5.8-2build1) ...\n",
            "Setting up libnpps11:amd64 (11.5.1.107~11.5.1-1ubuntu1) ...\n",
            "Setting up libnppim11:amd64 (11.5.1.107~11.5.1-1ubuntu1) ...\n",
            "Setting up libcufft10:amd64 (11.1.1+~10.6.0.107~11.5.1-1ubuntu1) ...\n",
            "Setting up fonts-dejavu-extra (2.37-2build1) ...\n",
            "Setting up libnppitc11:amd64 (11.5.1.107~11.5.1-1ubuntu1) ...\n",
            "Setting up libnppist11:amd64 (11.5.1.107~11.5.1-1ubuntu1) ...\n",
            "Setting up x11-utils (7.7+5build2) ...\n",
            "Setting up libglx-dev:amd64 (1.4.0-1) ...\n",
            "Setting up libgtk2.0-common (2.24.33-2ubuntu2.1) ...\n",
            "Setting up libnvidia-compute-535:amd64 (535.261.03-0ubuntu1) ...\n",
            "Setting up libnvvm4:amd64 (11.5.119~11.5.1-1ubuntu1) ...\n",
            "Setting up libvdpau-dev:amd64 (1.4-3build2) ...\n",
            "Setting up libnvtoolsext1:amd64 (11.5.114~11.5.1-1ubuntu1) ...\n",
            "Setting up libatk-wrapper-java (0.38.0-5build1) ...\n",
            "Setting up libcub-dev (1.15.0-3) ...\n",
            "Setting up libopengl-dev:amd64 (1.4.0-1) ...\n",
            "Setting up nvidia-cuda-toolkit-doc (11.5.1-1ubuntu1) ...\n",
            "Setting up libaccinj64-11.5:amd64 (11.5.114~11.5.1-1ubuntu1) ...\n",
            "Setting up libnppig11:amd64 (11.5.1.107~11.5.1-1ubuntu1) ...\n",
            "Setting up libgl-dev:amd64 (1.4.0-1) ...\n",
            "Setting up libcurand10:amd64 (11.1.1+~10.2.7.107~11.5.1-1ubuntu1) ...\n",
            "Setting up libsource-highlight4v5 (3.1.9-4.1build2) ...\n",
            "Setting up libnvrtc-builtins11.5:amd64 (11.5.119~11.5.1-1ubuntu1) ...\n",
            "Setting up libnppidei11:amd64 (11.5.1.107~11.5.1-1ubuntu1) ...\n",
            "Setting up libthrust-dev (1.15.0-1) ...\n",
            "Setting up libnppial11:amd64 (11.5.1.107~11.5.1-1ubuntu1) ...\n",
            "Setting up libnppif11:amd64 (11.5.1.107~11.5.1-1ubuntu1) ...\n",
            "Setting up libcufftw10:amd64 (11.1.1+~10.6.0.107~11.5.1-1ubuntu1) ...\n",
            "Setting up libcublas11:amd64 (11.7.4.6~11.5.1-1ubuntu1) ...\n",
            "Setting up nvidia-cuda-gdb (11.5.114~11.5.1-1ubuntu1) ...\n",
            "Setting up libegl-dev:amd64 (1.4.0-1) ...\n",
            "Setting up libgtk2.0-0:amd64 (2.24.33-2ubuntu2.1) ...\n",
            "Setting up libnvidia-compute-510:amd64 (525.147.05-0ubuntu2.22.04.1) ...\n",
            "Setting up libcupti-dev:amd64 (11.5.114~11.5.1-1ubuntu1) ...\n",
            "Setting up libnvidia-compute-495:amd64 (510.108.03-0ubuntu0.22.04.1) ...\n",
            "Setting up libatk-wrapper-java-jni:amd64 (0.38.0-5build1) ...\n",
            "Setting up libnvblas11:amd64 (11.7.4.6~11.5.1-1ubuntu1) ...\n",
            "Setting up libcusolver11:amd64 (11.3.2.107~11.5.1-1ubuntu1) ...\n",
            "Setting up libnvrtc11.2:amd64 (11.5.119~11.5.1-1ubuntu1) ...\n",
            "Setting up libcusolvermg11:amd64 (11.3.2.107~11.5.1-1ubuntu1) ...\n",
            "Setting up libgail18:amd64 (2.24.33-2ubuntu2.1) ...\n",
            "Setting up libgtk2.0-bin (2.24.33-2ubuntu2.1) ...\n",
            "Setting up libgles-dev:amd64 (1.4.0-1) ...\n",
            "Setting up libcuinj64-11.5:amd64 (11.5.114~11.5.1-1ubuntu1) ...\n",
            "Setting up libnvidia-ml-dev:amd64 (11.5.50~11.5.1-1ubuntu1) ...\n",
            "Setting up libgail-common:amd64 (2.24.33-2ubuntu2.1) ...\n",
            "Setting up nvidia-cuda-dev:amd64 (11.5.1-1ubuntu1) ...\n",
            "Setting up libglvnd-dev:amd64 (1.4.0-1) ...\n",
            "Setting up openjdk-8-jre:amd64 (8u462-ga~us1-0ubuntu2~22.04.2) ...\n",
            "update-alternatives: using /usr/lib/jvm/java-8-openjdk-amd64/jre/bin/policytool to provide /usr/bin/policytool (policytool) in auto mode\n",
            "Setting up nvidia-profiler (11.5.114~11.5.1-1ubuntu1) ...\n",
            "Setting up nvidia-cuda-toolkit (11.5.1-1ubuntu1) ...\n",
            "Setting up libgl1-mesa-dev:amd64 (23.2.1-1ubuntu3.1~22.04.3) ...\n",
            "Setting up nvidia-visual-profiler (11.5.114~11.5.1-1ubuntu1) ...\n",
            "Processing triggers for libgdk-pixbuf-2.0-0:amd64 (2.42.8+dfsg-1ubuntu0.4) ...\n",
            "Processing triggers for mailcap (3.70+nmu1ubuntu1) ...\n",
            "Processing triggers for fontconfig (2.13.1-4.2ubuntu5) ...\n",
            "Processing triggers for hicolor-icon-theme (0.17-2) ...\n",
            "Processing triggers for libc-bin (2.35-0ubuntu3.8) ...\n",
            "/sbin/ldconfig.real: /usr/local/lib/libtbbmalloc_proxy.so.2 is not a symbolic link\n",
            "\n",
            "/sbin/ldconfig.real: /usr/local/lib/libur_adapter_level_zero.so.0 is not a symbolic link\n",
            "\n",
            "/sbin/ldconfig.real: /usr/local/lib/libtbb.so.12 is not a symbolic link\n",
            "\n",
            "/sbin/ldconfig.real: /usr/local/lib/libur_adapter_level_zero_v2.so.0 is not a symbolic link\n",
            "\n",
            "/sbin/ldconfig.real: /usr/local/lib/libur_loader.so.0 is not a symbolic link\n",
            "\n",
            "/sbin/ldconfig.real: /usr/local/lib/libtbbbind.so.3 is not a symbolic link\n",
            "\n",
            "/sbin/ldconfig.real: /usr/local/lib/libtcm.so.1 is not a symbolic link\n",
            "\n",
            "/sbin/ldconfig.real: /usr/local/lib/libtcm_debug.so.1 is not a symbolic link\n",
            "\n",
            "/sbin/ldconfig.real: /usr/local/lib/libur_adapter_opencl.so.0 is not a symbolic link\n",
            "\n",
            "/sbin/ldconfig.real: /usr/local/lib/libtbbbind_2_5.so.3 is not a symbolic link\n",
            "\n",
            "/sbin/ldconfig.real: /usr/local/lib/libtbbmalloc.so.2 is not a symbolic link\n",
            "\n",
            "/sbin/ldconfig.real: /usr/local/lib/libtbbbind_2_0.so.3 is not a symbolic link\n",
            "\n",
            "/sbin/ldconfig.real: /usr/local/lib/libhwloc.so.15 is not a symbolic link\n",
            "\n",
            "/sbin/ldconfig.real: /usr/local/lib/libumf.so.0 is not a symbolic link\n",
            "\n",
            "Processing triggers for man-db (2.10.2-1) ...\n"
          ]
        }
      ],
      "source": [
        "#@markdown # **Install libraries** 🏗️\n",
        "#@markdown This cell will take a little while to download several libraries, including Faster Whisper.\n",
        "\n",
        "#@markdown ---\n",
        "\n",
        "! pip install faster-whisper\n",
        "! pip install yt-dlp\n",
        "\n",
        "import os\n",
        "import sys\n",
        "import warnings\n",
        "from faster_whisper import WhisperModel\n",
        "import yt_dlp\n",
        "import subprocess\n",
        "import torch\n",
        "import shutil\n",
        "import numpy as np\n",
        "from IPython.display import display, Markdown, YouTubeVideo\n",
        "import requests\n",
        "from urllib.parse import urlsplit\n",
        "from google.colab import files\n",
        "from pathlib import Path\n",
        "\n",
        "device = torch.device('cuda:0')\n",
        "print('Using device:', device, file=sys.stderr)\n",
        "\n",
        "!sudo apt-get update\n",
        "!sudo apt install nvidia-cuda-toolkit"
      ]
    },
    {
      "cell_type": "code",
      "source": [
        "#@markdown # **Model selection** 🧠\n",
        "\n",
        "#@markdown There are several models to choose from, with varying performance and speed. large-v2 is recommended for most cases:\n",
        "\n",
        "#@markdown |  Size  | Parameters | English-only model | Multilingual model | Required VRAM | Relative speed |\n",
        "#@markdown |:------:|:----------:|:------------------:|:------------------:|:-------------:|:--------------:|\n",
        "#@markdown |  tiny  |    39 M    |     `tiny.en`      |       `tiny`       |     ~0.8 GB     |      ~32x      |\n",
        "#@markdown |  base  |    74 M    |     `base.en`      |       `base`       |     ~1.0 GB     |      ~16x      |\n",
        "#@markdown | small  |   244 M    |     `small.en`     |      `small`       |     ~1.4 GB     |      ~6x       |\n",
        "#@markdown | medium |   769 M    |    `medium.en`     |      `medium`      |     ~2.7 GB     |      ~2x       |\n",
        "#@markdown | large-v1  |   1550 M   |        N/A         |      `large-v1`       |    ~4.3 GB     |       1x       |\n",
        "#@markdown | large-v2  |   1550 M   |        N/A         |      `large-v2`       |    ~4.3 GB     |       1x       |\n",
        "\n",
        "#@markdown ---\n",
        "model_size = 'medium.en' #@param ['tiny', 'tiny.en', 'base', 'base.en', 'small', 'small.en', 'medium', 'medium.en', 'large-v1', 'large-v2']\n",
        "device_type = \"cuda\" #@param {type:\"string\"} ['cuda', 'cpu']\n",
        "compute_type = \"float16\" #@param {type:\"string\"} ['float16', 'int8_float16', 'int8']\n",
        "#@markdown ---\n",
        "#@markdown **Run this cell again if you change the model.**\n",
        "\n",
        "model = WhisperModel(model_size, device=device_type, compute_type=compute_type)\n"
      ],
      "metadata": {
        "id": "TMhrSq_GZ6kA",
        "cellView": "form",
        "outputId": "e61aa582-908a-4b0e-f62d-83e84000d126",
        "colab": {
          "base_uri": "https://localhost:8080/",
          "height": 145,
          "referenced_widgets": [
            "2cea3f9f0a5c45b0ae88bd8ae57af3bb",
            "67b7eeccc6d94dccba3856b0b445ac53",
            "f45eb302667d4a3dafd237c5cd55af7d",
            "0199a78300634a76b6a3f6319682dbb1",
            "1c9bb3bc1bdd495aa27a8f54eedd01a5",
            "75945a04e90e48a99557846d7eab7ec7",
            "c1f2013ab7184ac198dfefa056914f61",
            "174c8c884d254a5580d1c49f57eba191",
            "0a8e56a4e6bc40d2a7fb6adcc05dce97",
            "826b7cab4ab34dcb8010c7943a39e566",
            "8d559b627db9451a957fbed9392f5323",
            "21ed66bd78284828a33f88f91416a2bd",
            "9fb48a06d2f94dc6902062c4f7f462ac",
            "583cb0d1c9cd4f7e9bf5c7b82ec8574e",
            "813eb90bbe124b8297cf3da624632934",
            "78a43d5ace934e95b36028c01079f72e",
            "78f02bd0a5cf4ba3871087f92bd1b52f",
            "79f6400497664b7d85bcba2ec377ac67",
            "1a0015574ca24d728c686492868612e8",
            "616c87a4d2f4426bb3c2b48fc7cd5507",
            "31b79303fcd14204a796731510d37a2a",
            "9825e290b8074f018410b12def56cdec",
            "bddd312001b649b09951a660a705e253",
            "241a6d347915462a8b84cf1e8d574908",
            "95a3b46352fa46e781c1bbb7044ad430",
            "0c2576e13f7540429cdcce5f7272f23b",
            "cd88050d0d2047b4b00dff0cbd23855d",
            "0f1d1bf2018e4f4ea0e9110bd9570219",
            "da37bdc08241444092d614f72806fb36",
            "cfe3efdfec9c4730aab69ac5fc887719",
            "bd60edf29190450cb594040b2513bf39",
            "06b938be1917425da02ab7eb40f99309",
            "9131fd1aee99412198335ea124e19dbc",
            "3c6fd10f18074f5aac1f62a916968b59",
            "708fabf5d1964c51ba75978fdb4bf913",
            "048d68b347ab40dd8d88ad7568353604",
            "d3a01dda58e44bda8182378186007d00",
            "07f45ebef3c647efb3f3fcd0dbefe007",
            "120bd446ec664fa7be12120cc811426d",
            "ac487f50eb39448696c5d4b3e076300a",
            "24619b45ffbd4148aa41885b983fcb90",
            "e12576ad4a7d4e80bc735b94346b68a5",
            "ee11233391c549c2af896facfabdd8f6",
            "7336c7a53ba14db4a407eb6db94f06a4"
          ]
        }
      },
      "execution_count": 7,
      "outputs": [
        {
          "output_type": "display_data",
          "data": {
            "text/plain": [
              "vocabulary.txt: 0.00B [00:00, ?B/s]"
            ],
            "application/vnd.jupyter.widget-view+json": {
              "version_major": 2,
              "version_minor": 0,
              "model_id": "2cea3f9f0a5c45b0ae88bd8ae57af3bb"
            }
          },
          "metadata": {}
        },
        {
          "output_type": "display_data",
          "data": {
            "text/plain": [
              "config.json: 0.00B [00:00, ?B/s]"
            ],
            "application/vnd.jupyter.widget-view+json": {
              "version_major": 2,
              "version_minor": 0,
              "model_id": "21ed66bd78284828a33f88f91416a2bd"
            }
          },
          "metadata": {}
        },
        {
          "output_type": "display_data",
          "data": {
            "text/plain": [
              "tokenizer.json: 0.00B [00:00, ?B/s]"
            ],
            "application/vnd.jupyter.widget-view+json": {
              "version_major": 2,
              "version_minor": 0,
              "model_id": "bddd312001b649b09951a660a705e253"
            }
          },
          "metadata": {}
        },
        {
          "output_type": "display_data",
          "data": {
            "text/plain": [
              "model.bin:   0%|          | 0.00/1.53G [00:00<?, ?B/s]"
            ],
            "application/vnd.jupyter.widget-view+json": {
              "version_major": 2,
              "version_minor": 0,
              "model_id": "3c6fd10f18074f5aac1f62a916968b59"
            }
          },
          "metadata": {}
        }
      ]
    },
    {
      "cell_type": "code",
      "source": [
        "#@markdown # **Video selection** 📺\n",
        "\n",
        "#@markdown Enter the URL of the Youtube video **OR** Google drive video path of the video you want to translate/transcribe, and run the cell. Make sure the correct Type is chosen! This may take awhile depending on video file size.\n",
        "\n",
        "Type = \"Youtube video or playlist\" #@param ['Youtube video or playlist', 'Google Drive', 'Direct download']\n",
        "#@markdown ---\n",
        "#@markdown #### **Youtube video or playlist**\n",
        "URL = \"https://soundcloud.com/ditherer/tracks\" #@param {type:\"string\"}\n",
        "# store_audio = True #@param {type:\"boolean\"}\n",
        "#@markdown ---\n",
        "#@markdown #### **Google Drive video, audio (mp4, wav), or folder containing video and/or audio files**\n",
        "video_path = \"Colab Notebooks/my_video.mp4\" #@param {type:\"string\"}\n",
        "#@markdown ---\n",
        "#@markdown #### **Direct Download**\n",
        "ddl_url = \"https://www.example.com/video.mkv\" #@param {type:\"string\"}\n",
        "#@markdown ---\n",
        "#@markdown **Run this cell again if you change the video.**\n",
        "\n",
        "video_path_local_list = []\n",
        "\n",
        "if Type == \"Youtube video or playlist\":\n",
        "\n",
        "    ydl_opts = {\n",
        "        'format': 'm4a/bestaudio/best',\n",
        "        'outtmpl': '%(id)s.%(ext)s',\n",
        "        # ℹ️ See help(yt_dlp.postprocessor) for a list of available Postprocessors and their arguments\n",
        "        'postprocessors': [{  # Extract audio using ffmpeg\n",
        "            'key': 'FFmpegExtractAudio',\n",
        "            'preferredcodec': 'wav',\n",
        "        }]\n",
        "    }\n",
        "\n",
        "    with yt_dlp.YoutubeDL(ydl_opts) as ydl:\n",
        "        error_code = ydl.download([URL])\n",
        "        list_video_info = [ydl.(URL, download=False)]\n",
        "\n",
        "    for i,video_info in enumerate(list_video_info):\n",
        "        video_path_local_list.append({\n",
        "            \"track\": i,\n",
        "            \"dl_path\": Path(f\"{video_info['id']}.wav\"),\n",
        "            \"title\": video_info['title'],\n",
        "            \"artist\": video_info['uploader'],\n",
        "            \"duration\": video_info['duration']\n",
        "        })\n",
        "\n",
        "elif Type == \"Google Drive\":\n",
        "    # video_path_drive = drive_mount_path / Path(video_path.lstrip(\"/\"))\n",
        "    video_path = drive_mount_path / Path(video_path.lstrip(\"/\"))\n",
        "    if video_path.is_dir():\n",
        "        for video_path_drive in video_path.glob(\"**/*\"):\n",
        "            if video_path_drive.is_file():\n",
        "                display(Markdown(f\"**{str(video_path_drive)} selected for processing.**\"))\n",
        "            elif video_path_drive.is_dir():\n",
        "                display(Markdown(f\"**Subfolders not supported.**\"))\n",
        "            else:\n",
        "                display(Markdown(f\"**{str(video_path_drive)} does not exist, skipping.**\"))\n",
        "            video_path_local = Path(\".\").resolve() / (video_path_drive.name)\n",
        "            shutil.copy(video_path_drive, video_path_local)\n",
        "            video_path_local_list.append(video_path_local)\n",
        "    elif video_path.is_file():\n",
        "        video_path_local = Path(\".\").resolve() / (video_path.name)\n",
        "        shutil.copy(video_path, video_path_local)\n",
        "        video_path_local_list.append(video_path_local)\n",
        "        print(f\"{video_path_local} appended to list for processing\")\n",
        "        display(Markdown(f\"**{str(video_path)} selected for processing.**\"))\n",
        "    else:\n",
        "        display(Markdown(f\"**{str(video_path)} does not exist.**\"))\n",
        "\n",
        "elif Type == \"Direct download\":\n",
        "    print(f\"⚠️ Please ensure this is a direct download link and is of a valid format\")\n",
        "    print(f\"Attempting to download: {ddl_url}\\n\")\n",
        "    # !wget {ddl_url} -O ddl_video.mp4\n",
        "    # video_path_local_list.append(\"/content/ddl_video.mp4\")\n",
        "\n",
        "    response = requests.get(ddl_url)\n",
        "\n",
        "    if response.status_code == 200:\n",
        "        # Extract the filename from the URL\n",
        "        filename = urlsplit(ddl_url).path.split(\"/\")[-1]\n",
        "\n",
        "        # Create the full path for the destination file in the current working directory\n",
        "        destination_path = os.path.join(os.getcwd(), filename)\n",
        "\n",
        "        # Save the file\n",
        "        with open(destination_path, 'wb') as file:\n",
        "            file.write(response.content)\n",
        "\n",
        "        print(f\"File downloaded successfully: {destination_path}\")\n",
        "\n",
        "        video_path_local = Path(\".\").resolve() / (filename)\n",
        "\n",
        "        # print(f\"Path local: {video_path_local}\") # /content/video.mkv\n",
        "\n",
        "        video_path_local_list.append(video_path_local)\n",
        "    else:\n",
        "        print(f\"Failed to download file. Status code: {response.status_code}\")\n",
        "\n",
        "else:\n",
        "    raise(TypeError(\"Please select supported input type.\"))\n",
        "\n",
        "for video_path_local in video_path_local_list:\n",
        "    valid_suffixes = [\".mp4\", \".mkv\", \".mov\", \".avi\", \".wmv\", \".flv\", \".webm\", \".3gp\", \".mpeg\"]\n",
        "\n",
        "    print(f\"Processing video file {video_path_local} with ffmpeg..\")\n",
        "\n",
        "    if video_path_local.suffix in valid_suffixes:\n",
        "        input_suffix = video_path_local.suffix\n",
        "        video_path_local = video_path_local.with_suffix(\".wav\")\n",
        "        result = subprocess.run([\"ffmpeg\", \"-i\", str(video_path_local.with_suffix(input_suffix)), \"-vn\", \"-acodec\", \"pcm_s16le\", \"-ar\", \"16000\", \"-ac\", \"1\", str(video_path_local)])\n"
      ],
      "metadata": {
        "id": "xYLPZQX9S7tU",
        "colab": {
          "base_uri": "https://localhost:8080/"
        },
        "outputId": "c071a277-95e6-48ec-ecf1-c43368efb569"
      },
      "execution_count": 8,
      "outputs": [
        {
          "output_type": "stream",
          "name": "stdout",
          "text": [
            "[soundcloud:user] Extracting URL: https://soundcloud.com/ditherer/tracks\n",
            "[soundcloud:user] ditherer: Downloading user info\n",
            "[download] Downloading playlist: Ditherer (Tracks)\n",
            "[soundcloud:user] 352560956: Downloading track page 1\n",
            "[soundcloud:user] 352560956: Downloading track page 2\n",
            "[soundcloud:user] Playlist Ditherer (Tracks): Downloading 74 items of 74\n",
            "[download] Downloading item 1 of 74\n",
            "[soundcloud] Extracting URL: https://soundcloud.com/ditherer/the-impossible-pursuit-prod-steryotype\n",
            "[soundcloud] ditherer/the-impossible-pursuit-prod-steryotype: Downloading info JSON\n",
            "[soundcloud] 612651792: Downloading original download format info JSON\n"
          ]
        },
        {
          "output_type": "stream",
          "name": "stderr",
          "text": [
            "WARNING: [soundcloud] Original download format is only available for registered users. Use --cookies, --cookies-from-browser, --username and --password, --netrc-cmd, or --netrc (soundcloud) to provide account credentials. See  https://github.com/yt-dlp/yt-dlp/wiki/FAQ#how-do-i-pass-cookies-to-yt-dlp  for how to manually pass cookies\n"
          ]
        },
        {
          "output_type": "stream",
          "name": "stdout",
          "text": [
            "[soundcloud] 612651792: Downloading hls_mp3 format info JSON\n",
            "[soundcloud] 612651792: Downloading http_mp3 format info JSON\n",
            "[soundcloud] 612651792: Downloading hls_opus format info JSON\n",
            "[info] 612651792: Downloading 1 format(s): hls_opus_0_0\n",
            "[hlsnative] Downloading m3u8 manifest\n",
            "[hlsnative] Total fragments: 13\n",
            "[download] Destination: 612651792.opus\n",
            "[download] 100% of  749.49KiB in 00:00:01 at 556.04KiB/s               \n",
            "[ExtractAudio] Destination: 612651792.wav\n",
            "Deleting original file 612651792.opus (pass -k to keep)\n",
            "[download] Downloading item 2 of 74\n",
            "[soundcloud] Extracting URL: https://soundcloud.com/ditherer/uprooted-interlude-prod-steryotype\n",
            "[soundcloud] ditherer/uprooted-interlude-prod-steryotype: Downloading info JSON\n",
            "[soundcloud] 612454068: Downloading original download format info JSON\n"
          ]
        },
        {
          "output_type": "stream",
          "name": "stderr",
          "text": [
            "WARNING: [soundcloud] Original download format is only available for registered users. Use --cookies, --cookies-from-browser, --username and --password, --netrc-cmd, or --netrc (soundcloud) to provide account credentials. See  https://github.com/yt-dlp/yt-dlp/wiki/FAQ#how-do-i-pass-cookies-to-yt-dlp  for how to manually pass cookies\n"
          ]
        },
        {
          "output_type": "stream",
          "name": "stdout",
          "text": [
            "[soundcloud] 612454068: Downloading hls_mp3 format info JSON\n",
            "[soundcloud] 612454068: Downloading http_mp3 format info JSON\n",
            "[soundcloud] 612454068: Downloading hls_opus format info JSON\n",
            "[info] 612454068: Downloading 1 format(s): hls_opus_0_0\n",
            "[hlsnative] Downloading m3u8 manifest\n",
            "[hlsnative] Total fragments: 9\n",
            "[download] Destination: 612454068.opus\n",
            "[download] 100% of  537.18KiB in 00:00:01 at 500.60KiB/s             \n",
            "[ExtractAudio] Destination: 612454068.wav\n",
            "Deleting original file 612454068.opus (pass -k to keep)\n",
            "[download] Downloading item 3 of 74\n",
            "[soundcloud] Extracting URL: https://soundcloud.com/ditherer/horse-news-prod-technickel-ted\n",
            "[soundcloud] ditherer/horse-news-prod-technickel-ted: Downloading info JSON\n",
            "[soundcloud] 612353238: Downloading original download format info JSON\n"
          ]
        },
        {
          "output_type": "stream",
          "name": "stderr",
          "text": [
            "WARNING: [soundcloud] Original download format is only available for registered users. Use --cookies, --cookies-from-browser, --username and --password, --netrc-cmd, or --netrc (soundcloud) to provide account credentials. See  https://github.com/yt-dlp/yt-dlp/wiki/FAQ#how-do-i-pass-cookies-to-yt-dlp  for how to manually pass cookies\n"
          ]
        },
        {
          "output_type": "stream",
          "name": "stdout",
          "text": [
            "[soundcloud] 612353238: Downloading hls_aac format info JSON\n",
            "[soundcloud] 612353238: Downloading hls_mp3 format info JSON\n",
            "[soundcloud] 612353238: Downloading http_mp3 format info JSON\n",
            "[soundcloud] 612353238: Downloading hls_opus format info JSON\n",
            "[info] 612353238: Downloading 1 format(s): hls_aac_160k\n",
            "[hlsnative] Downloading m3u8 manifest\n",
            "[hlsnative] Total fragments: 10\n",
            "[download] Destination: 612353238.m4a\n",
            "[download] 100% of    1.85MiB in 00:00:01 at 1.02MiB/s                 \n",
            "[FixupM4a] Correcting container of \"612353238.m4a\"\n",
            "[ExtractAudio] Destination: 612353238.wav\n",
            "Deleting original file 612353238.m4a (pass -k to keep)\n",
            "[download] Downloading item 4 of 74\n",
            "[soundcloud] Extracting URL: https://soundcloud.com/ditherer/the-bells-of-tambelon-part-1-prod-steryotype\n",
            "[soundcloud] ditherer/the-bells-of-tambelon-part-1-prod-steryotype: Downloading info JSON\n",
            "[soundcloud] 611762205: Downloading original download format info JSON\n"
          ]
        },
        {
          "output_type": "stream",
          "name": "stderr",
          "text": [
            "WARNING: [soundcloud] Original download format is only available for registered users. Use --cookies, --cookies-from-browser, --username and --password, --netrc-cmd, or --netrc (soundcloud) to provide account credentials. See  https://github.com/yt-dlp/yt-dlp/wiki/FAQ#how-do-i-pass-cookies-to-yt-dlp  for how to manually pass cookies\n"
          ]
        },
        {
          "output_type": "stream",
          "name": "stdout",
          "text": [
            "[soundcloud] 611762205: Downloading hls_aac format info JSON\n",
            "[soundcloud] 611762205: Downloading hls_mp3 format info JSON\n",
            "[soundcloud] 611762205: Downloading http_mp3 format info JSON\n",
            "[soundcloud] 611762205: Downloading hls_opus format info JSON\n",
            "[info] 611762205: Downloading 1 format(s): hls_aac_160k\n",
            "[hlsnative] Downloading m3u8 manifest\n",
            "[hlsnative] Total fragments: 10\n",
            "[download] Destination: 611762205.m4a\n",
            "[download] 100% of    1.89MiB in 00:00:02 at 713.06KiB/s               \n",
            "[FixupM4a] Correcting container of \"611762205.m4a\"\n",
            "[ExtractAudio] Destination: 611762205.wav\n",
            "Deleting original file 611762205.m4a (pass -k to keep)\n",
            "[download] Downloading item 5 of 74\n",
            "[soundcloud] Extracting URL: https://soundcloud.com/ditherer/s07e03-unnamed-earth-mare-1\n",
            "[soundcloud] ditherer/s07e03-unnamed-earth-mare-1: Downloading info JSON\n",
            "[soundcloud] 611468751: Downloading original download format info JSON\n"
          ]
        },
        {
          "output_type": "stream",
          "name": "stderr",
          "text": [
            "WARNING: [soundcloud] Original download format is only available for registered users. Use --cookies, --cookies-from-browser, --username and --password, --netrc-cmd, or --netrc (soundcloud) to provide account credentials. See  https://github.com/yt-dlp/yt-dlp/wiki/FAQ#how-do-i-pass-cookies-to-yt-dlp  for how to manually pass cookies\n"
          ]
        },
        {
          "output_type": "stream",
          "name": "stdout",
          "text": [
            "[soundcloud] 611468751: Downloading hls_mp3 format info JSON\n",
            "[soundcloud] 611468751: Downloading http_mp3 format info JSON\n",
            "[soundcloud] 611468751: Downloading hls_opus format info JSON\n",
            "[info] 611468751: Downloading 1 format(s): hls_opus_0_0\n",
            "[hlsnative] Downloading m3u8 manifest\n",
            "[hlsnative] Total fragments: 13\n",
            "[download] Destination: 611468751.opus\n",
            "[download] 100% of  798.38KiB in 00:00:01 at 585.44KiB/s               \n",
            "[ExtractAudio] Destination: 611468751.wav\n",
            "Deleting original file 611468751.opus (pass -k to keep)\n",
            "[download] Downloading item 6 of 74\n",
            "[soundcloud] Extracting URL: https://soundcloud.com/ditherer/killshot-remix-reprod-manestoo\n",
            "[soundcloud] ditherer/killshot-remix-reprod-manestoo: Downloading info JSON\n",
            "[soundcloud] 544661931: Downloading original download format info JSON\n"
          ]
        },
        {
          "output_type": "stream",
          "name": "stderr",
          "text": [
            "WARNING: [soundcloud] Original download format is only available for registered users. Use --cookies, --cookies-from-browser, --username and --password, --netrc-cmd, or --netrc (soundcloud) to provide account credentials. See  https://github.com/yt-dlp/yt-dlp/wiki/FAQ#how-do-i-pass-cookies-to-yt-dlp  for how to manually pass cookies\n"
          ]
        },
        {
          "output_type": "stream",
          "name": "stdout",
          "text": [
            "[soundcloud] 544661931: Downloading hls_mp3 format info JSON\n",
            "[soundcloud] 544661931: Downloading http_mp3 format info JSON\n",
            "[soundcloud] 544661931: Downloading hls_opus format info JSON\n",
            "[info] 544661931: Downloading 1 format(s): hls_opus_0_0\n",
            "[hlsnative] Downloading m3u8 manifest\n",
            "[hlsnative] Total fragments: 28\n",
            "[download] Destination: 544661931.opus\n",
            "[download] 100% of    2.36MiB in 00:00:03 at 800.61KiB/s               \n",
            "[ExtractAudio] Destination: 544661931.wav\n",
            "Deleting original file 544661931.opus (pass -k to keep)\n",
            "[download] Downloading item 7 of 74\n",
            "[soundcloud] Extracting URL: https://soundcloud.com/ditherer/j-free-shobieshy-ditherer-outta-the-cage-doodled-response-prod-c-even\n",
            "[soundcloud] ditherer/j-free-shobieshy-ditherer-outta-the-cage-doodled-response-prod-c-even: Downloading info JSON\n",
            "[soundcloud] 543651222: Downloading original download format info JSON\n"
          ]
        },
        {
          "output_type": "stream",
          "name": "stderr",
          "text": [
            "WARNING: [soundcloud] Original download format is only available for registered users. Use --cookies, --cookies-from-browser, --username and --password, --netrc-cmd, or --netrc (soundcloud) to provide account credentials. See  https://github.com/yt-dlp/yt-dlp/wiki/FAQ#how-do-i-pass-cookies-to-yt-dlp  for how to manually pass cookies\n"
          ]
        },
        {
          "output_type": "stream",
          "name": "stdout",
          "text": [
            "[soundcloud] 543651222: Downloading hls_mp3 format info JSON\n",
            "[soundcloud] 543651222: Downloading http_mp3 format info JSON\n",
            "[soundcloud] 543651222: Downloading hls_opus format info JSON\n",
            "[info] 543651222: Downloading 1 format(s): hls_opus_0_0\n",
            "[hlsnative] Downloading m3u8 manifest\n",
            "[hlsnative] Total fragments: 23\n",
            "[download] Destination: 543651222.opus\n",
            "[download] 100% of    1.83MiB in 00:00:02 at 813.42KiB/s               \n",
            "[ExtractAudio] Destination: 543651222.wav\n",
            "Deleting original file 543651222.opus (pass -k to keep)\n",
            "[download] Downloading item 8 of 74\n",
            "[soundcloud] Extracting URL: https://soundcloud.com/ditherer/bone-juice-cypher-2018\n",
            "[soundcloud] ditherer/bone-juice-cypher-2018: Downloading info JSON\n",
            "[soundcloud] 521337021: Downloading original download format info JSON\n"
          ]
        },
        {
          "output_type": "stream",
          "name": "stderr",
          "text": [
            "WARNING: [soundcloud] Original download format is only available for registered users. Use --cookies, --cookies-from-browser, --username and --password, --netrc-cmd, or --netrc (soundcloud) to provide account credentials. See  https://github.com/yt-dlp/yt-dlp/wiki/FAQ#how-do-i-pass-cookies-to-yt-dlp  for how to manually pass cookies\n"
          ]
        },
        {
          "output_type": "stream",
          "name": "stdout",
          "text": [
            "[soundcloud] 521337021: Downloading hls_mp3 format info JSON\n",
            "[soundcloud] 521337021: Downloading http_mp3 format info JSON\n",
            "[soundcloud] 521337021: Downloading hls_opus format info JSON\n",
            "[info] 521337021: Downloading 1 format(s): hls_opus_0_0\n",
            "[hlsnative] Downloading m3u8 manifest\n",
            "[hlsnative] Total fragments: 8\n",
            "[download] Destination: 521337021.opus\n",
            "[download] 100% of  486.57KiB in 00:00:00 at 518.50KiB/s               \n",
            "[ExtractAudio] Destination: 521337021.wav\n",
            "Deleting original file 521337021.opus (pass -k to keep)\n",
            "[download] Downloading item 9 of 74\n",
            "[soundcloud] Extracting URL: https://soundcloud.com/ditherer/full-life-consequences-j-free-diss-reprod-hakan\n",
            "[soundcloud] ditherer/full-life-consequences-j-free-diss-reprod-hakan: Downloading info JSON\n",
            "[soundcloud] 498675807: Downloading hls_aac format info JSON\n",
            "[soundcloud] 498675807: Downloading hls_mp3 format info JSON\n",
            "[soundcloud] 498675807: Downloading http_mp3 format info JSON\n",
            "[soundcloud] 498675807: Downloading hls_opus format info JSON\n",
            "[info] 498675807: Downloading 1 format(s): hls_aac_160k\n",
            "[hlsnative] Downloading m3u8 manifest\n",
            "[hlsnative] Total fragments: 30\n",
            "[download] Destination: 498675807.m4a\n",
            "[download] 100% of    5.62MiB in 00:00:05 at 1.01MiB/s                 \n",
            "[FixupM4a] Correcting container of \"498675807.m4a\"\n",
            "[ExtractAudio] Destination: 498675807.wav\n",
            "Deleting original file 498675807.m4a (pass -k to keep)\n",
            "[download] Downloading item 10 of 74\n",
            "[soundcloud] Extracting URL: https://soundcloud.com/ditherer/banter-rap-devil-remixreprod-dices\n",
            "[soundcloud] ditherer/banter-rap-devil-remixreprod-dices: Downloading info JSON\n",
            "[soundcloud] 498198258: Downloading original download format info JSON\n"
          ]
        },
        {
          "output_type": "stream",
          "name": "stderr",
          "text": [
            "WARNING: [soundcloud] Original download format is only available for registered users. Use --cookies, --cookies-from-browser, --username and --password, --netrc-cmd, or --netrc (soundcloud) to provide account credentials. See  https://github.com/yt-dlp/yt-dlp/wiki/FAQ#how-do-i-pass-cookies-to-yt-dlp  for how to manually pass cookies\n"
          ]
        },
        {
          "output_type": "stream",
          "name": "stdout",
          "text": [
            "[soundcloud] 498198258: Downloading hls_mp3 format info JSON\n",
            "[soundcloud] 498198258: Downloading http_mp3 format info JSON\n",
            "[soundcloud] 498198258: Downloading hls_opus format info JSON\n",
            "[info] 498198258: Downloading 1 format(s): hls_opus_0_0\n",
            "[hlsnative] Downloading m3u8 manifest\n",
            "[hlsnative] Total fragments: 31\n",
            "[download] Destination: 498198258.opus\n",
            "[download] 100% of    2.37MiB in 00:00:03 at 748.61KiB/s               \n",
            "[ExtractAudio] Destination: 498198258.wav\n",
            "Deleting original file 498198258.opus (pass -k to keep)\n",
            "[download] Downloading item 11 of 74\n",
            "[soundcloud] Extracting URL: https://soundcloud.com/ditherer/dissonancy-prod-xtravulous\n",
            "[soundcloud] ditherer/dissonancy-prod-xtravulous: Downloading info JSON\n",
            "[soundcloud] 498187065: Downloading original download format info JSON\n"
          ]
        },
        {
          "output_type": "stream",
          "name": "stderr",
          "text": [
            "WARNING: [soundcloud] Original download format is only available for registered users. Use --cookies, --cookies-from-browser, --username and --password, --netrc-cmd, or --netrc (soundcloud) to provide account credentials. See  https://github.com/yt-dlp/yt-dlp/wiki/FAQ#how-do-i-pass-cookies-to-yt-dlp  for how to manually pass cookies\n"
          ]
        },
        {
          "output_type": "stream",
          "name": "stdout",
          "text": [
            "[soundcloud] 498187065: Downloading hls_mp3 format info JSON\n",
            "[soundcloud] 498187065: Downloading http_mp3 format info JSON\n",
            "[soundcloud] 498187065: Downloading hls_opus format info JSON\n",
            "[info] 498187065: Downloading 1 format(s): hls_opus_0_0\n",
            "[hlsnative] Downloading m3u8 manifest\n",
            "[hlsnative] Total fragments: 20\n",
            "[download] Destination: 498187065.opus\n",
            "[download] 100% of    1.31MiB in 00:00:02 at 643.87KiB/s               \n",
            "[ExtractAudio] Destination: 498187065.wav\n",
            "Deleting original file 498187065.opus (pass -k to keep)\n",
            "[download] Downloading item 12 of 74\n",
            "[soundcloud] Extracting URL: https://soundcloud.com/ditherer/catchup-prod-steryotype\n",
            "[soundcloud] ditherer/catchup-prod-steryotype: Downloading info JSON\n",
            "[soundcloud] 495298644: Downloading hls_mp3 format info JSON\n",
            "[soundcloud] 495298644: Downloading http_mp3 format info JSON\n",
            "[soundcloud] 495298644: Downloading hls_opus format info JSON\n",
            "[info] 495298644: Downloading 1 format(s): hls_opus_0_0\n",
            "[hlsnative] Downloading m3u8 manifest\n",
            "[hlsnative] Total fragments: 14\n",
            "[download] Destination: 495298644.opus\n",
            "[download] 100% of  886.86KiB in 00:00:01 at 614.43KiB/s               \n",
            "[ExtractAudio] Destination: 495298644.wav\n",
            "Deleting original file 495298644.opus (pass -k to keep)\n",
            "[download] Downloading item 13 of 74\n",
            "[soundcloud] Extracting URL: https://soundcloud.com/ditherer/bad-mood-1\n",
            "[soundcloud] ditherer/bad-mood-1: Downloading info JSON\n",
            "[soundcloud] 495298626: Downloading hls_mp3 format info JSON\n",
            "[soundcloud] 495298626: Downloading http_mp3 format info JSON\n",
            "[soundcloud] 495298626: Downloading hls_opus format info JSON\n",
            "[info] 495298626: Downloading 1 format(s): hls_opus_0_0\n",
            "[hlsnative] Downloading m3u8 manifest\n",
            "[hlsnative] Total fragments: 18\n",
            "[download] Destination: 495298626.opus\n",
            "[download] 100% of    1.10MiB in 00:00:01 at 599.79KiB/s               \n",
            "[ExtractAudio] Destination: 495298626.wav\n",
            "Deleting original file 495298626.opus (pass -k to keep)\n",
            "[download] Downloading item 14 of 74\n",
            "[soundcloud] Extracting URL: https://soundcloud.com/ditherer/we-must-cultivate-our-garden\n",
            "[soundcloud] ditherer/we-must-cultivate-our-garden: Downloading info JSON\n",
            "[soundcloud] 495298605: Downloading hls_aac format info JSON\n",
            "[soundcloud] 495298605: Downloading hls_mp3 format info JSON\n",
            "[soundcloud] 495298605: Downloading http_mp3 format info JSON\n",
            "[soundcloud] 495298605: Downloading hls_opus format info JSON\n",
            "[info] 495298605: Downloading 1 format(s): hls_aac_160k\n",
            "[hlsnative] Downloading m3u8 manifest\n",
            "[hlsnative] Total fragments: 9\n",
            "[download] Destination: 495298605.m4a\n",
            "[download] 100% of    1.72MiB in 00:00:02 at 859.13KiB/s              \n",
            "[FixupM4a] Correcting container of \"495298605.m4a\"\n",
            "[ExtractAudio] Destination: 495298605.wav\n",
            "Deleting original file 495298605.m4a (pass -k to keep)\n",
            "[download] Downloading item 15 of 74\n",
            "[soundcloud] Extracting URL: https://soundcloud.com/ditherer/appleloosa-prod-steryotype\n",
            "[soundcloud] ditherer/appleloosa-prod-steryotype: Downloading info JSON\n",
            "[soundcloud] 495298584: Downloading hls_mp3 format info JSON\n",
            "[soundcloud] 495298584: Downloading http_mp3 format info JSON\n",
            "[soundcloud] 495298584: Downloading hls_opus format info JSON\n",
            "[info] 495298584: Downloading 1 format(s): hls_opus_0_0\n",
            "[hlsnative] Downloading m3u8 manifest\n",
            "[hlsnative] Total fragments: 10\n",
            "[download] Destination: 495298584.opus\n",
            "[download] 100% of  648.91KiB in 00:00:01 at 632.28KiB/s               \n",
            "[ExtractAudio] Destination: 495298584.wav\n",
            "Deleting original file 495298584.opus (pass -k to keep)\n",
            "[download] Downloading item 16 of 74\n",
            "[soundcloud] Extracting URL: https://soundcloud.com/ditherer/dea-from-se-writere-prod-tcb\n",
            "[soundcloud] ditherer/dea-from-se-writere-prod-tcb: Downloading info JSON\n",
            "[soundcloud] 495298545: Downloading hls_mp3 format info JSON\n",
            "[soundcloud] 495298545: Downloading http_mp3 format info JSON\n",
            "[soundcloud] 495298545: Downloading hls_opus format info JSON\n",
            "[info] 495298545: Downloading 1 format(s): hls_opus_0_0\n",
            "[hlsnative] Downloading m3u8 manifest\n",
            "[hlsnative] Total fragments: 10\n",
            "[download] Destination: 495298545.opus\n",
            "[download] 100% of  630.57KiB in 00:00:01 at 626.03KiB/s                 \n",
            "[ExtractAudio] Destination: 495298545.wav\n",
            "Deleting original file 495298545.opus (pass -k to keep)\n",
            "[download] Downloading item 17 of 74\n",
            "[soundcloud] Extracting URL: https://soundcloud.com/ditherer/playing-the-part-prod-mcmiag\n",
            "[soundcloud] ditherer/playing-the-part-prod-mcmiag: Downloading info JSON\n",
            "[soundcloud] 495298527: Downloading hls_mp3 format info JSON\n",
            "[soundcloud] 495298527: Downloading http_mp3 format info JSON\n",
            "[soundcloud] 495298527: Downloading hls_opus format info JSON\n",
            "[info] 495298527: Downloading 1 format(s): hls_opus_0_0\n",
            "[hlsnative] Downloading m3u8 manifest\n",
            "[hlsnative] Total fragments: 10\n",
            "[download] Destination: 495298527.opus\n",
            "[download] 100% of  676.61KiB in 00:00:00 at 704.25KiB/s                 \n",
            "[ExtractAudio] Destination: 495298527.wav\n",
            "Deleting original file 495298527.opus (pass -k to keep)\n",
            "[download] Downloading item 18 of 74\n",
            "[soundcloud] Extracting URL: https://soundcloud.com/ditherer/bars-in-a-sweet-coat-prod\n",
            "[soundcloud] ditherer/bars-in-a-sweet-coat-prod: Downloading info JSON\n",
            "[soundcloud] 495298512: Downloading hls_mp3 format info JSON\n",
            "[soundcloud] 495298512: Downloading http_mp3 format info JSON\n",
            "[soundcloud] 495298512: Downloading hls_opus format info JSON\n",
            "[info] 495298512: Downloading 1 format(s): hls_opus_0_0\n",
            "[hlsnative] Downloading m3u8 manifest\n",
            "[hlsnative] Total fragments: 18\n",
            "[download] Destination: 495298512.opus\n",
            "[download] 100% of    1.27MiB in 00:00:01 at 692.98KiB/s               \n",
            "[ExtractAudio] Destination: 495298512.wav\n",
            "Deleting original file 495298512.opus (pass -k to keep)\n",
            "[download] Downloading item 19 of 74\n",
            "[soundcloud] Extracting URL: https://soundcloud.com/ditherer/j-alfred-prufrock\n",
            "[soundcloud] ditherer/j-alfred-prufrock: Downloading info JSON\n",
            "[soundcloud] 495298482: Downloading hls_mp3 format info JSON\n",
            "[soundcloud] 495298482: Downloading http_mp3 format info JSON\n",
            "[soundcloud] 495298482: Downloading hls_opus format info JSON\n",
            "[info] 495298482: Downloading 1 format(s): hls_opus_0_0\n",
            "[hlsnative] Downloading m3u8 manifest\n",
            "[hlsnative] Total fragments: 15\n",
            "[download] Destination: 495298482.opus\n",
            "[download] 100% of  940.21KiB in 00:00:01 at 630.41KiB/s               \n",
            "[ExtractAudio] Destination: 495298482.wav\n",
            "Deleting original file 495298482.opus (pass -k to keep)\n",
            "[download] Downloading item 20 of 74\n",
            "[soundcloud] Extracting URL: https://soundcloud.com/ditherer/real-fans-reprod-the-cratez-x-thebeatplug\n",
            "[soundcloud] ditherer/real-fans-reprod-the-cratez-x-thebeatplug: Downloading info JSON\n",
            "[soundcloud] 472533159: Downloading original download format info JSON\n"
          ]
        },
        {
          "output_type": "stream",
          "name": "stderr",
          "text": [
            "WARNING: [soundcloud] Original download format is only available for registered users. Use --cookies, --cookies-from-browser, --username and --password, --netrc-cmd, or --netrc (soundcloud) to provide account credentials. See  https://github.com/yt-dlp/yt-dlp/wiki/FAQ#how-do-i-pass-cookies-to-yt-dlp  for how to manually pass cookies\n"
          ]
        },
        {
          "output_type": "stream",
          "name": "stdout",
          "text": [
            "[soundcloud] 472533159: Downloading hls_mp3 format info JSON\n",
            "[soundcloud] 472533159: Downloading http_mp3 format info JSON\n",
            "[soundcloud] 472533159: Downloading hls_opus format info JSON\n",
            "[info] 472533159: Downloading 1 format(s): hls_opus_0_0\n",
            "[hlsnative] Downloading m3u8 manifest\n",
            "[hlsnative] Total fragments: 43\n",
            "[download] Destination: 472533159.opus\n",
            "[download] 100% of    3.28MiB in 00:00:04 at 755.22KiB/s               \n",
            "[ExtractAudio] Destination: 472533159.wav\n",
            "Deleting original file 472533159.opus (pass -k to keep)\n",
            "[download] Downloading item 21 of 74\n",
            "[soundcloud] Extracting URL: https://soundcloud.com/ditherer/bad-mood\n",
            "[soundcloud] ditherer/bad-mood: Downloading info JSON\n",
            "[soundcloud] 471748785: Downloading hls_mp3 format info JSON\n",
            "[soundcloud] 471748785: Downloading http_mp3 format info JSON\n",
            "[soundcloud] 471748785: Downloading hls_opus format info JSON\n",
            "[info] 471748785: Downloading 1 format(s): hls_opus_0_0\n",
            "[hlsnative] Downloading m3u8 manifest\n",
            "[hlsnative] Total fragments: 18\n",
            "[download] Destination: 471748785.opus\n",
            "[download] 100% of    1.12MiB in 00:00:01 at 715.06KiB/s               \n",
            "[ExtractAudio] Destination: 471748785.wav\n",
            "Deleting original file 471748785.opus (pass -k to keep)\n",
            "[download] Downloading item 22 of 74\n",
            "[soundcloud] Extracting URL: https://soundcloud.com/ditherer/loop-de-hoop-prod-technickel-ted\n",
            "[soundcloud] ditherer/loop-de-hoop-prod-technickel-ted: Downloading info JSON\n",
            "[soundcloud] 471653754: Downloading original download format info JSON\n"
          ]
        },
        {
          "output_type": "stream",
          "name": "stderr",
          "text": [
            "WARNING: [soundcloud] Original download format is only available for registered users. Use --cookies, --cookies-from-browser, --username and --password, --netrc-cmd, or --netrc (soundcloud) to provide account credentials. See  https://github.com/yt-dlp/yt-dlp/wiki/FAQ#how-do-i-pass-cookies-to-yt-dlp  for how to manually pass cookies\n"
          ]
        },
        {
          "output_type": "stream",
          "name": "stdout",
          "text": [
            "[soundcloud] 471653754: Downloading hls_mp3 format info JSON\n",
            "[soundcloud] 471653754: Downloading http_mp3 format info JSON\n",
            "[soundcloud] 471653754: Downloading hls_opus format info JSON\n",
            "[info] 471653754: Downloading 1 format(s): hls_opus_0_0\n",
            "[hlsnative] Downloading m3u8 manifest\n",
            "[hlsnative] Total fragments: 9\n",
            "[download] Destination: 471653754.opus\n",
            "[download] 100% of  469.55KiB in 00:00:00 at 517.55KiB/s               \n",
            "[ExtractAudio] Destination: 471653754.wav\n",
            "Deleting original file 471653754.opus (pass -k to keep)\n",
            "[download] Downloading item 23 of 74\n",
            "[soundcloud] Extracting URL: https://soundcloud.com/ditherer/4-of-4-pony-rap-review-patient-zero-prod-the-wub-machine\n",
            "[soundcloud] ditherer/4-of-4-pony-rap-review-patient-zero-prod-the-wub-machine: Downloading info JSON\n",
            "[soundcloud] 468620991: Downloading original download format info JSON\n"
          ]
        },
        {
          "output_type": "stream",
          "name": "stderr",
          "text": [
            "WARNING: [soundcloud] Original download format is only available for registered users. Use --cookies, --cookies-from-browser, --username and --password, --netrc-cmd, or --netrc (soundcloud) to provide account credentials. See  https://github.com/yt-dlp/yt-dlp/wiki/FAQ#how-do-i-pass-cookies-to-yt-dlp  for how to manually pass cookies\n"
          ]
        },
        {
          "output_type": "stream",
          "name": "stdout",
          "text": [
            "[soundcloud] 468620991: Downloading hls_mp3 format info JSON\n",
            "[soundcloud] 468620991: Downloading http_mp3 format info JSON\n",
            "[soundcloud] 468620991: Downloading hls_opus format info JSON\n",
            "[info] 468620991: Downloading 1 format(s): hls_opus_0_0\n",
            "[hlsnative] Downloading m3u8 manifest\n",
            "[hlsnative] Total fragments: 11\n",
            "[download] Destination: 468620991.opus\n",
            "[download] 100% of  702.92KiB in 00:00:01 at 615.56KiB/s               \n",
            "[ExtractAudio] Destination: 468620991.wav\n",
            "Deleting original file 468620991.opus (pass -k to keep)\n",
            "[download] Downloading item 24 of 74\n",
            "[soundcloud] Extracting URL: https://soundcloud.com/ditherer/halcyon-prod-blank-banshee\n",
            "[soundcloud] ditherer/halcyon-prod-blank-banshee: Downloading info JSON\n",
            "[soundcloud] 470658078: Downloading original download format info JSON\n"
          ]
        },
        {
          "output_type": "stream",
          "name": "stderr",
          "text": [
            "WARNING: [soundcloud] Original download format is only available for registered users. Use --cookies, --cookies-from-browser, --username and --password, --netrc-cmd, or --netrc (soundcloud) to provide account credentials. See  https://github.com/yt-dlp/yt-dlp/wiki/FAQ#how-do-i-pass-cookies-to-yt-dlp  for how to manually pass cookies\n"
          ]
        },
        {
          "output_type": "stream",
          "name": "stdout",
          "text": [
            "[soundcloud] 470658078: Downloading hls_mp3 format info JSON\n",
            "[soundcloud] 470658078: Downloading http_mp3 format info JSON\n",
            "[soundcloud] 470658078: Downloading hls_opus format info JSON\n",
            "[info] 470658078: Downloading 1 format(s): hls_opus_0_0\n",
            "[hlsnative] Downloading m3u8 manifest\n",
            "[hlsnative] Total fragments: 20\n",
            "[download] Destination: 470658078.opus\n",
            "[download] 100% of    1.46MiB in 00:00:02 at 731.20KiB/s               \n",
            "[ExtractAudio] Destination: 470658078.wav\n",
            "Deleting original file 470658078.opus (pass -k to keep)\n",
            "[download] Downloading item 25 of 74\n",
            "[soundcloud] Extracting URL: https://soundcloud.com/ditherer/watching-paint-grow-prod-lord\n",
            "[soundcloud] ditherer/watching-paint-grow-prod-lord: Downloading info JSON\n",
            "[soundcloud] 443322828: Downloading original download format info JSON\n"
          ]
        },
        {
          "output_type": "stream",
          "name": "stderr",
          "text": [
            "WARNING: [soundcloud] Original download format is only available for registered users. Use --cookies, --cookies-from-browser, --username and --password, --netrc-cmd, or --netrc (soundcloud) to provide account credentials. See  https://github.com/yt-dlp/yt-dlp/wiki/FAQ#how-do-i-pass-cookies-to-yt-dlp  for how to manually pass cookies\n"
          ]
        },
        {
          "output_type": "stream",
          "name": "stdout",
          "text": [
            "[soundcloud] 443322828: Downloading hls_mp3 format info JSON\n",
            "[soundcloud] 443322828: Downloading http_mp3 format info JSON\n",
            "[soundcloud] 443322828: Downloading hls_opus format info JSON\n",
            "[info] 443322828: Downloading 1 format(s): hls_opus_0_0\n",
            "[hlsnative] Downloading m3u8 manifest\n",
            "[hlsnative] Total fragments: 17\n",
            "[download] Destination: 443322828.opus\n",
            "[download] 100% of    1.27MiB in 00:00:01 at 774.75KiB/s               \n",
            "[ExtractAudio] Destination: 443322828.wav\n",
            "Deleting original file 443322828.opus (pass -k to keep)\n",
            "[download] Downloading item 26 of 74\n",
            "[soundcloud] Extracting URL: https://soundcloud.com/ditherer/greentexter-prod-dope-fiends\n",
            "[soundcloud] ditherer/greentexter-prod-dope-fiends: Downloading info JSON\n",
            "[soundcloud] 443322825: Downloading original download format info JSON\n"
          ]
        },
        {
          "output_type": "stream",
          "name": "stderr",
          "text": [
            "WARNING: [soundcloud] Original download format is only available for registered users. Use --cookies, --cookies-from-browser, --username and --password, --netrc-cmd, or --netrc (soundcloud) to provide account credentials. See  https://github.com/yt-dlp/yt-dlp/wiki/FAQ#how-do-i-pass-cookies-to-yt-dlp  for how to manually pass cookies\n"
          ]
        },
        {
          "output_type": "stream",
          "name": "stdout",
          "text": [
            "[soundcloud] 443322825: Downloading hls_mp3 format info JSON\n",
            "[soundcloud] 443322825: Downloading http_mp3 format info JSON\n",
            "[soundcloud] 443322825: Downloading hls_opus format info JSON\n",
            "[info] 443322825: Downloading 1 format(s): hls_opus_0_0\n",
            "[hlsnative] Downloading m3u8 manifest\n",
            "[hlsnative] Total fragments: 18\n",
            "[download] Destination: 443322825.opus\n",
            "[download] 100% of    1.11MiB in 00:00:01 at 654.39KiB/s               \n",
            "[ExtractAudio] Destination: 443322825.wav\n",
            "Deleting original file 443322825.opus (pass -k to keep)\n",
            "[download] Downloading item 27 of 74\n",
            "[soundcloud] Extracting URL: https://soundcloud.com/ditherer/metempsychosis-part-i-samsara\n",
            "[soundcloud] ditherer/metempsychosis-part-i-samsara: Downloading info JSON\n",
            "[soundcloud] 443322813: Downloading original download format info JSON\n"
          ]
        },
        {
          "output_type": "stream",
          "name": "stderr",
          "text": [
            "WARNING: [soundcloud] Original download format is only available for registered users. Use --cookies, --cookies-from-browser, --username and --password, --netrc-cmd, or --netrc (soundcloud) to provide account credentials. See  https://github.com/yt-dlp/yt-dlp/wiki/FAQ#how-do-i-pass-cookies-to-yt-dlp  for how to manually pass cookies\n"
          ]
        },
        {
          "output_type": "stream",
          "name": "stdout",
          "text": [
            "[soundcloud] 443322813: Downloading hls_mp3 format info JSON\n",
            "[soundcloud] 443322813: Downloading http_mp3 format info JSON\n",
            "[soundcloud] 443322813: Downloading hls_opus format info JSON\n",
            "[info] 443322813: Downloading 1 format(s): hls_opus_0_0\n",
            "[hlsnative] Downloading m3u8 manifest\n",
            "[hlsnative] Total fragments: 22\n",
            "[download] Destination: 443322813.opus\n",
            "[download] 100% of    1.71MiB in 00:00:02 at 807.12KiB/s               \n",
            "[ExtractAudio] Destination: 443322813.wav\n",
            "Deleting original file 443322813.opus (pass -k to keep)\n",
            "[download] Downloading item 28 of 74\n",
            "[soundcloud] Extracting URL: https://soundcloud.com/ditherer/berrytube-reprod-elxnce\n",
            "[soundcloud] ditherer/berrytube-reprod-elxnce: Downloading info JSON\n",
            "[soundcloud] 443322804: Downloading original download format info JSON\n"
          ]
        },
        {
          "output_type": "stream",
          "name": "stderr",
          "text": [
            "WARNING: [soundcloud] Original download format is only available for registered users. Use --cookies, --cookies-from-browser, --username and --password, --netrc-cmd, or --netrc (soundcloud) to provide account credentials. See  https://github.com/yt-dlp/yt-dlp/wiki/FAQ#how-do-i-pass-cookies-to-yt-dlp  for how to manually pass cookies\n"
          ]
        },
        {
          "output_type": "stream",
          "name": "stdout",
          "text": [
            "[soundcloud] 443322804: Downloading hls_mp3 format info JSON\n",
            "[soundcloud] 443322804: Downloading http_mp3 format info JSON\n",
            "[soundcloud] 443322804: Downloading hls_opus format info JSON\n",
            "[info] 443322804: Downloading 1 format(s): hls_opus_0_0\n",
            "[hlsnative] Downloading m3u8 manifest\n",
            "[hlsnative] Total fragments: 15\n",
            "[download] Destination: 443322804.opus\n",
            "[download] 100% of    1.13MiB in 00:00:01 at 761.03KiB/s               \n",
            "[ExtractAudio] Destination: 443322804.wav\n",
            "Deleting original file 443322804.opus (pass -k to keep)\n",
            "[download] Downloading item 29 of 74\n",
            "[soundcloud] Extracting URL: https://soundcloud.com/ditherer/overdose-cypher-prod-d-range-1\n",
            "[soundcloud] ditherer/overdose-cypher-prod-d-range-1: Downloading info JSON\n",
            "[soundcloud] 443322795: Downloading original download format info JSON\n"
          ]
        },
        {
          "output_type": "stream",
          "name": "stderr",
          "text": [
            "WARNING: [soundcloud] Original download format is only available for registered users. Use --cookies, --cookies-from-browser, --username and --password, --netrc-cmd, or --netrc (soundcloud) to provide account credentials. See  https://github.com/yt-dlp/yt-dlp/wiki/FAQ#how-do-i-pass-cookies-to-yt-dlp  for how to manually pass cookies\n"
          ]
        },
        {
          "output_type": "stream",
          "name": "stdout",
          "text": [
            "[soundcloud] 443322795: Downloading hls_mp3 format info JSON\n",
            "[soundcloud] 443322795: Downloading http_mp3 format info JSON\n",
            "[soundcloud] 443322795: Downloading hls_opus format info JSON\n",
            "[info] 443322795: Downloading 1 format(s): hls_opus_0_0\n",
            "[hlsnative] Downloading m3u8 manifest\n",
            "[hlsnative] Total fragments: 12\n",
            "[download] Destination: 443322795.opus\n",
            "[download] 100% of  708.75KiB in 00:00:01 at 569.93KiB/s               \n",
            "[ExtractAudio] Destination: 443322795.wav\n",
            "Deleting original file 443322795.opus (pass -k to keep)\n",
            "[download] Downloading item 30 of 74\n",
            "[soundcloud] Extracting URL: https://soundcloud.com/ditherer/quiet-hands-prod-homage\n",
            "[soundcloud] ditherer/quiet-hands-prod-homage: Downloading info JSON\n",
            "[soundcloud] 443322789: Downloading original download format info JSON\n"
          ]
        },
        {
          "output_type": "stream",
          "name": "stderr",
          "text": [
            "WARNING: [soundcloud] Original download format is only available for registered users. Use --cookies, --cookies-from-browser, --username and --password, --netrc-cmd, or --netrc (soundcloud) to provide account credentials. See  https://github.com/yt-dlp/yt-dlp/wiki/FAQ#how-do-i-pass-cookies-to-yt-dlp  for how to manually pass cookies\n"
          ]
        },
        {
          "output_type": "stream",
          "name": "stdout",
          "text": [
            "[soundcloud] 443322789: Downloading hls_mp3 format info JSON\n",
            "[soundcloud] 443322789: Downloading http_mp3 format info JSON\n",
            "[soundcloud] 443322789: Downloading hls_opus format info JSON\n",
            "[info] 443322789: Downloading 1 format(s): hls_opus_0_0\n",
            "[hlsnative] Downloading m3u8 manifest\n",
            "[hlsnative] Total fragments: 21\n",
            "[download] Destination: 443322789.opus\n",
            "[download] 100% of    1.50MiB in 00:00:02 at 729.82KiB/s               \n",
            "[ExtractAudio] Destination: 443322789.wav\n",
            "Deleting original file 443322789.opus (pass -k to keep)\n",
            "[download] Downloading item 31 of 74\n",
            "[soundcloud] Extracting URL: https://soundcloud.com/ditherer/high-horse-prod-mad-money\n",
            "[soundcloud] ditherer/high-horse-prod-mad-money: Downloading info JSON\n",
            "[soundcloud] 443322786: Downloading original download format info JSON\n"
          ]
        },
        {
          "output_type": "stream",
          "name": "stderr",
          "text": [
            "WARNING: [soundcloud] Original download format is only available for registered users. Use --cookies, --cookies-from-browser, --username and --password, --netrc-cmd, or --netrc (soundcloud) to provide account credentials. See  https://github.com/yt-dlp/yt-dlp/wiki/FAQ#how-do-i-pass-cookies-to-yt-dlp  for how to manually pass cookies\n"
          ]
        },
        {
          "output_type": "stream",
          "name": "stdout",
          "text": [
            "[soundcloud] 443322786: Downloading hls_aac format info JSON\n",
            "[soundcloud] 443322786: Downloading hls_mp3 format info JSON\n",
            "[soundcloud] 443322786: Downloading http_mp3 format info JSON\n",
            "[soundcloud] 443322786: Downloading hls_opus format info JSON\n",
            "[info] 443322786: Downloading 1 format(s): hls_aac_160k\n",
            "[hlsnative] Downloading m3u8 manifest\n",
            "[hlsnative] Total fragments: 22\n",
            "[download] Destination: 443322786.m4a\n",
            "[download] 100% of    4.09MiB in 00:00:04 at 939.29KiB/s               \n",
            "[FixupM4a] Correcting container of \"443322786.m4a\"\n",
            "[ExtractAudio] Destination: 443322786.wav\n",
            "Deleting original file 443322786.m4a (pass -k to keep)\n",
            "[download] Downloading item 32 of 74\n",
            "[soundcloud] Extracting URL: https://soundcloud.com/ditherer/bff-prod-mksb\n",
            "[soundcloud] ditherer/bff-prod-mksb: Downloading info JSON\n",
            "[soundcloud] 443322774: Downloading original download format info JSON\n"
          ]
        },
        {
          "output_type": "stream",
          "name": "stderr",
          "text": [
            "WARNING: [soundcloud] Original download format is only available for registered users. Use --cookies, --cookies-from-browser, --username and --password, --netrc-cmd, or --netrc (soundcloud) to provide account credentials. See  https://github.com/yt-dlp/yt-dlp/wiki/FAQ#how-do-i-pass-cookies-to-yt-dlp  for how to manually pass cookies\n"
          ]
        },
        {
          "output_type": "stream",
          "name": "stdout",
          "text": [
            "[soundcloud] 443322774: Downloading hls_mp3 format info JSON\n",
            "[soundcloud] 443322774: Downloading http_mp3 format info JSON\n",
            "[soundcloud] 443322774: Downloading hls_opus format info JSON\n",
            "[info] 443322774: Downloading 1 format(s): hls_opus_0_0\n",
            "[hlsnative] Downloading m3u8 manifest\n",
            "[hlsnative] Total fragments: 22\n",
            "[download] Destination: 443322774.opus\n",
            "[download] 100% of    1.78MiB in 00:00:02 at 846.29KiB/s               \n",
            "[ExtractAudio] Destination: 443322774.wav\n",
            "Deleting original file 443322774.opus (pass -k to keep)\n",
            "[download] Downloading item 33 of 74\n",
            "[soundcloud] Extracting URL: https://soundcloud.com/ditherer/freefall-feat-omnee-potent\n",
            "[soundcloud] ditherer/freefall-feat-omnee-potent: Downloading info JSON\n",
            "[soundcloud] 436653039: Downloading original download format info JSON\n"
          ]
        },
        {
          "output_type": "stream",
          "name": "stderr",
          "text": [
            "WARNING: [soundcloud] Original download format is only available for registered users. Use --cookies, --cookies-from-browser, --username and --password, --netrc-cmd, or --netrc (soundcloud) to provide account credentials. See  https://github.com/yt-dlp/yt-dlp/wiki/FAQ#how-do-i-pass-cookies-to-yt-dlp  for how to manually pass cookies\n"
          ]
        },
        {
          "output_type": "stream",
          "name": "stdout",
          "text": [
            "[soundcloud] 436653039: Downloading hls_mp3 format info JSON\n",
            "[soundcloud] 436653039: Downloading http_mp3 format info JSON\n",
            "[soundcloud] 436653039: Downloading hls_opus format info JSON\n",
            "[info] 436653039: Downloading 1 format(s): hls_opus_0_0\n",
            "[hlsnative] Downloading m3u8 manifest\n",
            "[hlsnative] Total fragments: 19\n",
            "[download] Destination: 436653039.opus\n",
            "[download] 100% of    1.51MiB in 00:00:01 at 794.93KiB/s               \n",
            "[ExtractAudio] Destination: 436653039.wav\n",
            "Deleting original file 436653039.opus (pass -k to keep)\n",
            "[download] Downloading item 34 of 74\n",
            "[soundcloud] Extracting URL: https://soundcloud.com/ditherer/folderol-prod-fravo\n",
            "[soundcloud] ditherer/folderol-prod-fravo: Downloading info JSON\n",
            "[soundcloud] 436652901: Downloading original download format info JSON\n"
          ]
        },
        {
          "output_type": "stream",
          "name": "stderr",
          "text": [
            "WARNING: [soundcloud] Original download format is only available for registered users. Use --cookies, --cookies-from-browser, --username and --password, --netrc-cmd, or --netrc (soundcloud) to provide account credentials. See  https://github.com/yt-dlp/yt-dlp/wiki/FAQ#how-do-i-pass-cookies-to-yt-dlp  for how to manually pass cookies\n"
          ]
        },
        {
          "output_type": "stream",
          "name": "stdout",
          "text": [
            "[soundcloud] 436652901: Downloading hls_mp3 format info JSON\n",
            "[soundcloud] 436652901: Downloading http_mp3 format info JSON\n",
            "[soundcloud] 436652901: Downloading hls_opus format info JSON\n",
            "[info] 436652901: Downloading 1 format(s): hls_opus_0_0\n",
            "[hlsnative] Downloading m3u8 manifest\n",
            "[hlsnative] Total fragments: 18\n",
            "[download] Destination: 436652901.opus\n",
            "[download] 100% of    1.33MiB in 00:00:01 at 748.14KiB/s               \n",
            "[ExtractAudio] Destination: 436652901.wav\n",
            "Deleting original file 436652901.opus (pass -k to keep)\n",
            "[download] Downloading item 35 of 74\n",
            "[soundcloud] Extracting URL: https://soundcloud.com/ditherer/another-luna-song-prod-illuminabeats\n",
            "[soundcloud] ditherer/another-luna-song-prod-illuminabeats: Downloading info JSON\n",
            "[soundcloud] 436652877: Downloading original download format info JSON\n"
          ]
        },
        {
          "output_type": "stream",
          "name": "stderr",
          "text": [
            "WARNING: [soundcloud] Original download format is only available for registered users. Use --cookies, --cookies-from-browser, --username and --password, --netrc-cmd, or --netrc (soundcloud) to provide account credentials. See  https://github.com/yt-dlp/yt-dlp/wiki/FAQ#how-do-i-pass-cookies-to-yt-dlp  for how to manually pass cookies\n"
          ]
        },
        {
          "output_type": "stream",
          "name": "stdout",
          "text": [
            "[soundcloud] 436652877: Downloading hls_mp3 format info JSON\n",
            "[soundcloud] 436652877: Downloading http_mp3 format info JSON\n",
            "[soundcloud] 436652877: Downloading hls_opus format info JSON\n",
            "[info] 436652877: Downloading 1 format(s): hls_opus_0_0\n",
            "[hlsnative] Downloading m3u8 manifest\n",
            "[hlsnative] Total fragments: 17\n",
            "[download] Destination: 436652877.opus\n",
            "[download] 100% of 1022.34KiB in 00:00:01 at 617.21KiB/s               \n",
            "[ExtractAudio] Destination: 436652877.wav\n",
            "Deleting original file 436652877.opus (pass -k to keep)\n",
            "[download] Downloading item 36 of 74\n",
            "[soundcloud] Extracting URL: https://soundcloud.com/ditherer/jamais-vu-prod-dvckass\n",
            "[soundcloud] ditherer/jamais-vu-prod-dvckass: Downloading info JSON\n",
            "[soundcloud] 436652841: Downloading original download format info JSON\n"
          ]
        },
        {
          "output_type": "stream",
          "name": "stderr",
          "text": [
            "WARNING: [soundcloud] Original download format is only available for registered users. Use --cookies, --cookies-from-browser, --username and --password, --netrc-cmd, or --netrc (soundcloud) to provide account credentials. See  https://github.com/yt-dlp/yt-dlp/wiki/FAQ#how-do-i-pass-cookies-to-yt-dlp  for how to manually pass cookies\n"
          ]
        },
        {
          "output_type": "stream",
          "name": "stdout",
          "text": [
            "[soundcloud] 436652841: Downloading hls_mp3 format info JSON\n",
            "[soundcloud] 436652841: Downloading http_mp3 format info JSON\n",
            "[soundcloud] 436652841: Downloading hls_opus format info JSON\n",
            "[info] 436652841: Downloading 1 format(s): hls_opus_0_0\n",
            "[hlsnative] Downloading m3u8 manifest\n",
            "[hlsnative] Total fragments: 15\n",
            "[download] Destination: 436652841.opus\n",
            "[download] 100% of    1.02MiB in 00:00:01 at 677.82KiB/s               \n",
            "[ExtractAudio] Destination: 436652841.wav\n",
            "Deleting original file 436652841.opus (pass -k to keep)\n",
            "[download] Downloading item 37 of 74\n",
            "[soundcloud] Extracting URL: https://soundcloud.com/ditherer/fuck-doctor-whooves-prod-hardy\n",
            "[soundcloud] ditherer/fuck-doctor-whooves-prod-hardy: Downloading info JSON\n",
            "[soundcloud] 433720737: Downloading original download format info JSON\n"
          ]
        },
        {
          "output_type": "stream",
          "name": "stderr",
          "text": [
            "WARNING: [soundcloud] Original download format is only available for registered users. Use --cookies, --cookies-from-browser, --username and --password, --netrc-cmd, or --netrc (soundcloud) to provide account credentials. See  https://github.com/yt-dlp/yt-dlp/wiki/FAQ#how-do-i-pass-cookies-to-yt-dlp  for how to manually pass cookies\n"
          ]
        },
        {
          "output_type": "stream",
          "name": "stdout",
          "text": [
            "[soundcloud] 433720737: Downloading hls_mp3 format info JSON\n",
            "[soundcloud] 433720737: Downloading http_mp3 format info JSON\n",
            "[soundcloud] 433720737: Downloading hls_opus format info JSON\n",
            "[info] 433720737: Downloading 1 format(s): hls_opus_0_0\n",
            "[hlsnative] Downloading m3u8 manifest\n",
            "[hlsnative] Total fragments: 25\n",
            "[download] Destination: 433720737.opus\n",
            "[download] 100% of    1.83MiB in 00:00:02 at 790.95KiB/s               \n",
            "[ExtractAudio] Destination: 433720737.wav\n",
            "Deleting original file 433720737.opus (pass -k to keep)\n",
            "[download] Downloading item 38 of 74\n",
            "[soundcloud] Extracting URL: https://soundcloud.com/ditherer/ballyhoo-retake-prod-thegrasssaysmoooo\n",
            "[soundcloud] ditherer/ballyhoo-retake-prod-thegrasssaysmoooo: Downloading info JSON\n",
            "[soundcloud] 433720716: Downloading original download format info JSON\n"
          ]
        },
        {
          "output_type": "stream",
          "name": "stderr",
          "text": [
            "WARNING: [soundcloud] Original download format is only available for registered users. Use --cookies, --cookies-from-browser, --username and --password, --netrc-cmd, or --netrc (soundcloud) to provide account credentials. See  https://github.com/yt-dlp/yt-dlp/wiki/FAQ#how-do-i-pass-cookies-to-yt-dlp  for how to manually pass cookies\n"
          ]
        },
        {
          "output_type": "stream",
          "name": "stdout",
          "text": [
            "[soundcloud] 433720716: Downloading hls_mp3 format info JSON\n",
            "[soundcloud] 433720716: Downloading http_mp3 format info JSON\n",
            "[soundcloud] 433720716: Downloading hls_opus format info JSON\n",
            "[info] 433720716: Downloading 1 format(s): hls_opus_0_0\n",
            "[hlsnative] Downloading m3u8 manifest\n",
            "[hlsnative] Total fragments: 7\n",
            "[download] Destination: 433720716.opus\n",
            "[download] 100% of  335.02KiB in 00:00:00 at 470.76KiB/s               \n",
            "[ExtractAudio] Destination: 433720716.wav\n",
            "Deleting original file 433720716.opus (pass -k to keep)\n",
            "[download] Downloading item 39 of 74\n",
            "[soundcloud] Extracting URL: https://soundcloud.com/ditherer/shes-not-real-retake-prod-feelo\n",
            "[soundcloud] ditherer/shes-not-real-retake-prod-feelo: Downloading info JSON\n",
            "[soundcloud] 433720686: Downloading original download format info JSON\n"
          ]
        },
        {
          "output_type": "stream",
          "name": "stderr",
          "text": [
            "WARNING: [soundcloud] Original download format is only available for registered users. Use --cookies, --cookies-from-browser, --username and --password, --netrc-cmd, or --netrc (soundcloud) to provide account credentials. See  https://github.com/yt-dlp/yt-dlp/wiki/FAQ#how-do-i-pass-cookies-to-yt-dlp  for how to manually pass cookies\n"
          ]
        },
        {
          "output_type": "stream",
          "name": "stdout",
          "text": [
            "[soundcloud] 433720686: Downloading hls_mp3 format info JSON\n",
            "[soundcloud] 433720686: Downloading http_mp3 format info JSON\n",
            "[soundcloud] 433720686: Downloading hls_opus format info JSON\n",
            "[info] 433720686: Downloading 1 format(s): hls_opus_0_0\n",
            "[hlsnative] Downloading m3u8 manifest\n",
            "[hlsnative] Total fragments: 26\n",
            "[download] Destination: 433720686.opus\n",
            "[download] 100% of    1.75MiB in 00:00:02 at 672.82KiB/s               \n",
            "[ExtractAudio] Destination: 433720686.wav\n",
            "Deleting original file 433720686.opus (pass -k to keep)\n",
            "[download] Downloading item 40 of 74\n",
            "[soundcloud] Extracting URL: https://soundcloud.com/ditherer/duke-westlake-cypher-retake\n",
            "[soundcloud] ditherer/duke-westlake-cypher-retake: Downloading info JSON\n",
            "[soundcloud] 433720647: Downloading original download format info JSON\n"
          ]
        },
        {
          "output_type": "stream",
          "name": "stderr",
          "text": [
            "WARNING: [soundcloud] Original download format is only available for registered users. Use --cookies, --cookies-from-browser, --username and --password, --netrc-cmd, or --netrc (soundcloud) to provide account credentials. See  https://github.com/yt-dlp/yt-dlp/wiki/FAQ#how-do-i-pass-cookies-to-yt-dlp  for how to manually pass cookies\n"
          ]
        },
        {
          "output_type": "stream",
          "name": "stdout",
          "text": [
            "[soundcloud] 433720647: Downloading hls_aac format info JSON\n",
            "[soundcloud] 433720647: Downloading hls_mp3 format info JSON\n",
            "[soundcloud] 433720647: Downloading http_mp3 format info JSON\n",
            "[soundcloud] 433720647: Downloading hls_opus format info JSON\n",
            "[info] 433720647: Downloading 1 format(s): hls_aac_160k\n",
            "[hlsnative] Downloading m3u8 manifest\n",
            "[hlsnative] Total fragments: 13\n",
            "[download] Destination: 433720647.m4a\n",
            "[download] 100% of    2.43MiB in 00:00:02 at 982.98KiB/s               \n",
            "[FixupM4a] Correcting container of \"433720647.m4a\"\n",
            "[ExtractAudio] Destination: 433720647.wav\n",
            "Deleting original file 433720647.m4a (pass -k to keep)\n",
            "[download] Downloading item 41 of 74\n",
            "[soundcloud] Extracting URL: https://soundcloud.com/ditherer/the-gunslinger-retake-prod-jesse-james\n",
            "[soundcloud] ditherer/the-gunslinger-retake-prod-jesse-james: Downloading info JSON\n",
            "[soundcloud] 433720623: Downloading original download format info JSON\n"
          ]
        },
        {
          "output_type": "stream",
          "name": "stderr",
          "text": [
            "WARNING: [soundcloud] Original download format is only available for registered users. Use --cookies, --cookies-from-browser, --username and --password, --netrc-cmd, or --netrc (soundcloud) to provide account credentials. See  https://github.com/yt-dlp/yt-dlp/wiki/FAQ#how-do-i-pass-cookies-to-yt-dlp  for how to manually pass cookies\n"
          ]
        },
        {
          "output_type": "stream",
          "name": "stdout",
          "text": [
            "[soundcloud] 433720623: Downloading hls_mp3 format info JSON\n",
            "[soundcloud] 433720623: Downloading http_mp3 format info JSON\n",
            "[soundcloud] 433720623: Downloading hls_opus format info JSON\n",
            "[info] 433720623: Downloading 1 format(s): hls_opus_0_0\n",
            "[hlsnative] Downloading m3u8 manifest\n",
            "[hlsnative] Total fragments: 13\n",
            "[download] Destination: 433720623.opus\n",
            "[download] 100% of  925.78KiB in 00:00:01 at 737.45KiB/s               \n",
            "[ExtractAudio] Destination: 433720623.wav\n",
            "Deleting original file 433720623.opus (pass -k to keep)\n",
            "[download] Downloading item 42 of 74\n",
            "[soundcloud] Extracting URL: https://soundcloud.com/ditherer/shes-not-real-prod-feelo\n",
            "[soundcloud] ditherer/shes-not-real-prod-feelo: Downloading info JSON\n",
            "[soundcloud] 430792713: Downloading original download format info JSON\n"
          ]
        },
        {
          "output_type": "stream",
          "name": "stderr",
          "text": [
            "WARNING: [soundcloud] Original download format is only available for registered users. Use --cookies, --cookies-from-browser, --username and --password, --netrc-cmd, or --netrc (soundcloud) to provide account credentials. See  https://github.com/yt-dlp/yt-dlp/wiki/FAQ#how-do-i-pass-cookies-to-yt-dlp  for how to manually pass cookies\n"
          ]
        },
        {
          "output_type": "stream",
          "name": "stdout",
          "text": [
            "[soundcloud] 430792713: Downloading hls_mp3 format info JSON\n",
            "[soundcloud] 430792713: Downloading http_mp3 format info JSON\n",
            "[soundcloud] 430792713: Downloading hls_opus format info JSON\n",
            "[info] 430792713: Downloading 1 format(s): hls_opus_0_0\n",
            "[hlsnative] Downloading m3u8 manifest\n",
            "[hlsnative] Total fragments: 26\n",
            "[download] Destination: 430792713.opus\n",
            "[download] 100% of    1.81MiB in 00:00:02 at 749.93KiB/s               \n",
            "[ExtractAudio] Destination: 430792713.wav\n",
            "Deleting original file 430792713.opus (pass -k to keep)\n",
            "[download] Downloading item 43 of 74\n",
            "[soundcloud] Extracting URL: https://soundcloud.com/ditherer/ballyhoo-prod-thegrasssaysmoooo\n",
            "[soundcloud] ditherer/ballyhoo-prod-thegrasssaysmoooo: Downloading info JSON\n",
            "[soundcloud] 430791567: Downloading original download format info JSON\n"
          ]
        },
        {
          "output_type": "stream",
          "name": "stderr",
          "text": [
            "WARNING: [soundcloud] Original download format is only available for registered users. Use --cookies, --cookies-from-browser, --username and --password, --netrc-cmd, or --netrc (soundcloud) to provide account credentials. See  https://github.com/yt-dlp/yt-dlp/wiki/FAQ#how-do-i-pass-cookies-to-yt-dlp  for how to manually pass cookies\n"
          ]
        },
        {
          "output_type": "stream",
          "name": "stdout",
          "text": [
            "[soundcloud] 430791567: Downloading hls_aac format info JSON\n",
            "[soundcloud] 430791567: Downloading hls_mp3 format info JSON\n",
            "[soundcloud] 430791567: Downloading http_mp3 format info JSON\n",
            "[soundcloud] 430791567: Downloading hls_opus format info JSON\n",
            "[info] 430791567: Downloading 1 format(s): hls_aac_160k\n",
            "[hlsnative] Downloading m3u8 manifest\n",
            "[hlsnative] Total fragments: 5\n",
            "[download] Destination: 430791567.m4a\n",
            "[download] 100% of  862.29KiB in 00:00:01 at 798.87KiB/s             \n",
            "[FixupM4a] Correcting container of \"430791567.m4a\"\n",
            "[ExtractAudio] Destination: 430791567.wav\n",
            "Deleting original file 430791567.m4a (pass -k to keep)\n",
            "[download] Downloading item 44 of 74\n",
            "[soundcloud] Extracting URL: https://soundcloud.com/ditherer/duke-westlake-cypher\n",
            "[soundcloud] ditherer/duke-westlake-cypher: Downloading info JSON\n",
            "[soundcloud] 430790772: Downloading original download format info JSON\n"
          ]
        },
        {
          "output_type": "stream",
          "name": "stderr",
          "text": [
            "WARNING: [soundcloud] Original download format is only available for registered users. Use --cookies, --cookies-from-browser, --username and --password, --netrc-cmd, or --netrc (soundcloud) to provide account credentials. See  https://github.com/yt-dlp/yt-dlp/wiki/FAQ#how-do-i-pass-cookies-to-yt-dlp  for how to manually pass cookies\n"
          ]
        },
        {
          "output_type": "stream",
          "name": "stdout",
          "text": [
            "[soundcloud] 430790772: Downloading hls_mp3 format info JSON\n",
            "[soundcloud] 430790772: Downloading http_mp3 format info JSON\n",
            "[soundcloud] 430790772: Downloading hls_opus format info JSON\n",
            "[info] 430790772: Downloading 1 format(s): hls_opus_0_0\n",
            "[hlsnative] Downloading m3u8 manifest\n",
            "[hlsnative] Total fragments: 15\n",
            "[download] Destination: 430790772.opus\n",
            "[download] 100% of  985.14KiB in 00:00:01 at 640.09KiB/s               \n",
            "[ExtractAudio] Destination: 430790772.wav\n",
            "Deleting original file 430790772.opus (pass -k to keep)\n",
            "[download] Downloading item 45 of 74\n",
            "[soundcloud] Extracting URL: https://soundcloud.com/ditherer/the-gunslinger-prod-jesse-james\n",
            "[soundcloud] ditherer/the-gunslinger-prod-jesse-james: Downloading info JSON\n",
            "[soundcloud] 430790145: Downloading original download format info JSON\n"
          ]
        },
        {
          "output_type": "stream",
          "name": "stderr",
          "text": [
            "WARNING: [soundcloud] Original download format is only available for registered users. Use --cookies, --cookies-from-browser, --username and --password, --netrc-cmd, or --netrc (soundcloud) to provide account credentials. See  https://github.com/yt-dlp/yt-dlp/wiki/FAQ#how-do-i-pass-cookies-to-yt-dlp  for how to manually pass cookies\n"
          ]
        },
        {
          "output_type": "stream",
          "name": "stdout",
          "text": [
            "[soundcloud] 430790145: Downloading hls_mp3 format info JSON\n",
            "[soundcloud] 430790145: Downloading http_mp3 format info JSON\n",
            "[soundcloud] 430790145: Downloading hls_opus format info JSON\n",
            "[info] 430790145: Downloading 1 format(s): hls_opus_0_0\n",
            "[hlsnative] Downloading m3u8 manifest\n",
            "[hlsnative] Total fragments: 13\n",
            "[download] Destination: 430790145.opus\n",
            "[download] 100% of  951.87KiB in 00:00:01 at 680.98KiB/s               \n",
            "[ExtractAudio] Destination: 430790145.wav\n",
            "Deleting original file 430790145.opus (pass -k to keep)\n",
            "[download] Downloading item 46 of 74\n",
            "[soundcloud] Extracting URL: https://soundcloud.com/ditherer/ditherer-remembers-twenty-ten-pillar-of-salt-remaster-prod-syndrome\n",
            "[soundcloud] ditherer/ditherer-remembers-twenty-ten-pillar-of-salt-remaster-prod-syndrome: Downloading info JSON\n",
            "[soundcloud] 425462391: Downloading original download format info JSON\n"
          ]
        },
        {
          "output_type": "stream",
          "name": "stderr",
          "text": [
            "WARNING: [soundcloud] Original download format is only available for registered users. Use --cookies, --cookies-from-browser, --username and --password, --netrc-cmd, or --netrc (soundcloud) to provide account credentials. See  https://github.com/yt-dlp/yt-dlp/wiki/FAQ#how-do-i-pass-cookies-to-yt-dlp  for how to manually pass cookies\n"
          ]
        },
        {
          "output_type": "stream",
          "name": "stdout",
          "text": [
            "[soundcloud] 425462391: Downloading hls_mp3 format info JSON\n",
            "[soundcloud] 425462391: Downloading http_mp3 format info JSON\n",
            "[soundcloud] 425462391: Downloading hls_opus format info JSON\n",
            "[info] 425462391: Downloading 1 format(s): hls_opus_0_0\n",
            "[hlsnative] Downloading m3u8 manifest\n",
            "[hlsnative] Total fragments: 29\n",
            "[download] Destination: 425462391.opus\n",
            "[download] 100% of    2.24MiB in 00:00:03 at 720.58KiB/s               \n",
            "[ExtractAudio] Destination: 425462391.wav\n",
            "Deleting original file 425462391.opus (pass -k to keep)\n",
            "[download] Downloading item 47 of 74\n",
            "[soundcloud] Extracting URL: https://soundcloud.com/ditherer/dithbabscon-prod-illy-fih\n",
            "[soundcloud] ditherer/dithbabscon-prod-illy-fih: Downloading info JSON\n",
            "[soundcloud] 422585985: Downloading original download format info JSON\n"
          ]
        },
        {
          "output_type": "stream",
          "name": "stderr",
          "text": [
            "WARNING: [soundcloud] Original download format is only available for registered users. Use --cookies, --cookies-from-browser, --username and --password, --netrc-cmd, or --netrc (soundcloud) to provide account credentials. See  https://github.com/yt-dlp/yt-dlp/wiki/FAQ#how-do-i-pass-cookies-to-yt-dlp  for how to manually pass cookies\n"
          ]
        },
        {
          "output_type": "stream",
          "name": "stdout",
          "text": [
            "[soundcloud] 422585985: Downloading hls_mp3 format info JSON\n",
            "[soundcloud] 422585985: Downloading http_mp3 format info JSON\n",
            "[soundcloud] 422585985: Downloading hls_opus format info JSON\n",
            "[info] 422585985: Downloading 1 format(s): hls_opus_0_0\n",
            "[hlsnative] Downloading m3u8 manifest\n",
            "[hlsnative] Total fragments: 11\n",
            "[download] Destination: 422585985.opus\n",
            "[download] 100% of  817.50KiB in 00:00:01 at 672.17KiB/s               \n",
            "[ExtractAudio] Destination: 422585985.wav\n",
            "Deleting original file 422585985.opus (pass -k to keep)\n",
            "[download] Downloading item 48 of 74\n",
            "[soundcloud] Extracting URL: https://soundcloud.com/ditherer/austraeoh-no-intro-prod-hay-tea\n",
            "[soundcloud] ditherer/austraeoh-no-intro-prod-hay-tea: Downloading info JSON\n",
            "[soundcloud] 420526416: Downloading original download format info JSON\n"
          ]
        },
        {
          "output_type": "stream",
          "name": "stderr",
          "text": [
            "WARNING: [soundcloud] Original download format is only available for registered users. Use --cookies, --cookies-from-browser, --username and --password, --netrc-cmd, or --netrc (soundcloud) to provide account credentials. See  https://github.com/yt-dlp/yt-dlp/wiki/FAQ#how-do-i-pass-cookies-to-yt-dlp  for how to manually pass cookies\n"
          ]
        },
        {
          "output_type": "stream",
          "name": "stdout",
          "text": [
            "[soundcloud] 420526416: Downloading hls_mp3 format info JSON\n",
            "[soundcloud] 420526416: Downloading http_mp3 format info JSON\n",
            "[soundcloud] 420526416: Downloading hls_opus format info JSON\n",
            "[info] 420526416: Downloading 1 format(s): hls_opus_0_0\n",
            "[hlsnative] Downloading m3u8 manifest\n",
            "[hlsnative] Total fragments: 22\n",
            "[download] Destination: 420526416.opus\n",
            "[download] 100% of    1.66MiB in 00:00:02 at 819.14KiB/s               \n",
            "[ExtractAudio] Destination: 420526416.wav\n",
            "Deleting original file 420526416.opus (pass -k to keep)\n",
            "[download] Downloading item 49 of 74\n",
            "[soundcloud] Extracting URL: https://soundcloud.com/ditherer/austraeoh-prod-hay-tea\n",
            "[soundcloud] ditherer/austraeoh-prod-hay-tea: Downloading info JSON\n",
            "[soundcloud] 420525812: Downloading original download format info JSON\n"
          ]
        },
        {
          "output_type": "stream",
          "name": "stderr",
          "text": [
            "WARNING: [soundcloud] Original download format is only available for registered users. Use --cookies, --cookies-from-browser, --username and --password, --netrc-cmd, or --netrc (soundcloud) to provide account credentials. See  https://github.com/yt-dlp/yt-dlp/wiki/FAQ#how-do-i-pass-cookies-to-yt-dlp  for how to manually pass cookies\n"
          ]
        },
        {
          "output_type": "stream",
          "name": "stdout",
          "text": [
            "[soundcloud] 420525812: Downloading hls_mp3 format info JSON\n",
            "[soundcloud] 420525812: Downloading http_mp3 format info JSON\n",
            "[soundcloud] 420525812: Downloading hls_opus format info JSON\n",
            "[info] 420525812: Downloading 1 format(s): hls_opus_0_0\n",
            "[hlsnative] Downloading m3u8 manifest\n",
            "[hlsnative] Total fragments: 22\n",
            "[download] Destination: 420525812.opus\n",
            "[download] 100% of    1.63MiB in 00:00:02 at 715.63KiB/s               \n",
            "[ExtractAudio] Destination: 420525812.wav\n",
            "Deleting original file 420525812.opus (pass -k to keep)\n",
            "[download] Downloading item 50 of 74\n",
            "[soundcloud] Extracting URL: https://soundcloud.com/ditherer/premiere-prod-hlbak\n",
            "[soundcloud] ditherer/premiere-prod-hlbak: Downloading info JSON\n",
            "[soundcloud] 418959708: Downloading original download format info JSON\n"
          ]
        },
        {
          "output_type": "stream",
          "name": "stderr",
          "text": [
            "WARNING: [soundcloud] Original download format is only available for registered users. Use --cookies, --cookies-from-browser, --username and --password, --netrc-cmd, or --netrc (soundcloud) to provide account credentials. See  https://github.com/yt-dlp/yt-dlp/wiki/FAQ#how-do-i-pass-cookies-to-yt-dlp  for how to manually pass cookies\n"
          ]
        },
        {
          "output_type": "stream",
          "name": "stdout",
          "text": [
            "[soundcloud] 418959708: Downloading hls_mp3 format info JSON\n",
            "[soundcloud] 418959708: Downloading http_mp3 format info JSON\n",
            "[soundcloud] 418959708: Downloading hls_opus format info JSON\n",
            "[info] 418959708: Downloading 1 format(s): hls_opus_0_0\n",
            "[hlsnative] Downloading m3u8 manifest\n",
            "[hlsnative] Total fragments: 12\n",
            "[download] Destination: 418959708.opus\n",
            "[download] 100% of  848.89KiB in 00:00:01 at 661.30KiB/s               \n",
            "[ExtractAudio] Destination: 418959708.wav\n",
            "Deleting original file 418959708.opus (pass -k to keep)\n",
            "[download] Downloading item 51 of 74\n",
            "[soundcloud] Extracting URL: https://soundcloud.com/ditherer/voided-prod-alfredwars\n",
            "[soundcloud] ditherer/voided-prod-alfredwars: Downloading info JSON\n",
            "[soundcloud] 418957056: Downloading original download format info JSON\n"
          ]
        },
        {
          "output_type": "stream",
          "name": "stderr",
          "text": [
            "WARNING: [soundcloud] Original download format is only available for registered users. Use --cookies, --cookies-from-browser, --username and --password, --netrc-cmd, or --netrc (soundcloud) to provide account credentials. See  https://github.com/yt-dlp/yt-dlp/wiki/FAQ#how-do-i-pass-cookies-to-yt-dlp  for how to manually pass cookies\n"
          ]
        },
        {
          "output_type": "stream",
          "name": "stdout",
          "text": [
            "[soundcloud] 418957056: Downloading hls_mp3 format info JSON\n",
            "[soundcloud] 418957056: Downloading http_mp3 format info JSON\n",
            "[soundcloud] 418957056: Downloading hls_opus format info JSON\n",
            "[info] 418957056: Downloading 1 format(s): hls_opus_0_0\n",
            "[hlsnative] Downloading m3u8 manifest\n",
            "[hlsnative] Total fragments: 10\n",
            "[download] Destination: 418957056.opus\n",
            "[download] 100% of  611.99KiB in 00:00:01 at 587.77KiB/s               \n",
            "[ExtractAudio] Destination: 418957056.wav\n",
            "Deleting original file 418957056.opus (pass -k to keep)\n",
            "[download] Downloading item 52 of 74\n",
            "[soundcloud] Extracting URL: https://soundcloud.com/ditherer/horse-maf-prod-a-ii\n",
            "[soundcloud] ditherer/horse-maf-prod-a-ii: Downloading info JSON\n",
            "[soundcloud] 418954852: Downloading original download format info JSON\n"
          ]
        },
        {
          "output_type": "stream",
          "name": "stderr",
          "text": [
            "WARNING: [soundcloud] Original download format is only available for registered users. Use --cookies, --cookies-from-browser, --username and --password, --netrc-cmd, or --netrc (soundcloud) to provide account credentials. See  https://github.com/yt-dlp/yt-dlp/wiki/FAQ#how-do-i-pass-cookies-to-yt-dlp  for how to manually pass cookies\n"
          ]
        },
        {
          "output_type": "stream",
          "name": "stdout",
          "text": [
            "[soundcloud] 418954852: Downloading hls_mp3 format info JSON\n",
            "[soundcloud] 418954852: Downloading http_mp3 format info JSON\n",
            "[soundcloud] 418954852: Downloading hls_opus format info JSON\n",
            "[info] 418954852: Downloading 1 format(s): hls_opus_0_0\n",
            "[hlsnative] Downloading m3u8 manifest\n",
            "[hlsnative] Total fragments: 24\n",
            "[download] Destination: 418954852.opus\n",
            "[download] 100% of    1.66MiB in 00:00:02 at 755.83KiB/s               \n",
            "[ExtractAudio] Destination: 418954852.wav\n",
            "Deleting original file 418954852.opus (pass -k to keep)\n",
            "[download] Downloading item 53 of 74\n",
            "[soundcloud] Extracting URL: https://soundcloud.com/ditherer/dithyramb-prod-zeeky-beats\n",
            "[soundcloud] ditherer/dithyramb-prod-zeeky-beats: Downloading info JSON\n",
            "[soundcloud] 418060824: Downloading original download format info JSON\n"
          ]
        },
        {
          "output_type": "stream",
          "name": "stderr",
          "text": [
            "WARNING: [soundcloud] Original download format is only available for registered users. Use --cookies, --cookies-from-browser, --username and --password, --netrc-cmd, or --netrc (soundcloud) to provide account credentials. See  https://github.com/yt-dlp/yt-dlp/wiki/FAQ#how-do-i-pass-cookies-to-yt-dlp  for how to manually pass cookies\n"
          ]
        },
        {
          "output_type": "stream",
          "name": "stdout",
          "text": [
            "[soundcloud] 418060824: Downloading hls_mp3 format info JSON\n",
            "[soundcloud] 418060824: Downloading http_mp3 format info JSON\n",
            "[soundcloud] 418060824: Downloading hls_opus format info JSON\n",
            "[info] 418060824: Downloading 1 format(s): hls_opus_0_0\n",
            "[hlsnative] Downloading m3u8 manifest\n",
            "[hlsnative] Total fragments: 12\n",
            "[download] Destination: 418060824.opus\n",
            "[download] 100% of  807.76KiB in 00:00:01 at 666.95KiB/s               \n",
            "[ExtractAudio] Destination: 418060824.wav\n",
            "Deleting original file 418060824.opus (pass -k to keep)\n",
            "[download] Downloading item 54 of 74\n",
            "[soundcloud] Extracting URL: https://soundcloud.com/ditherer/juicy-juice-prod-ben-the-butcher\n",
            "[soundcloud] ditherer/juicy-juice-prod-ben-the-butcher: Downloading info JSON\n",
            "[soundcloud] 416832351: Downloading original download format info JSON\n"
          ]
        },
        {
          "output_type": "stream",
          "name": "stderr",
          "text": [
            "WARNING: [soundcloud] Original download format is only available for registered users. Use --cookies, --cookies-from-browser, --username and --password, --netrc-cmd, or --netrc (soundcloud) to provide account credentials. See  https://github.com/yt-dlp/yt-dlp/wiki/FAQ#how-do-i-pass-cookies-to-yt-dlp  for how to manually pass cookies\n"
          ]
        },
        {
          "output_type": "stream",
          "name": "stdout",
          "text": [
            "[soundcloud] 416832351: Downloading hls_mp3 format info JSON\n",
            "[soundcloud] 416832351: Downloading http_mp3 format info JSON\n",
            "[soundcloud] 416832351: Downloading hls_opus format info JSON\n",
            "[info] 416832351: Downloading 1 format(s): hls_opus_0_0\n",
            "[hlsnative] Downloading m3u8 manifest\n",
            "[hlsnative] Total fragments: 10\n",
            "[download] Destination: 416832351.opus\n",
            "[download] 100% of  596.71KiB in 00:00:01 at 473.76KiB/s               \n",
            "[ExtractAudio] Destination: 416832351.wav\n",
            "Deleting original file 416832351.opus (pass -k to keep)\n",
            "[download] Downloading item 55 of 74\n",
            "[soundcloud] Extracting URL: https://soundcloud.com/ditherer/final-hour-cypher-prod-sin7ven\n",
            "[soundcloud] ditherer/final-hour-cypher-prod-sin7ven: Downloading info JSON\n",
            "[soundcloud] 415787667: Downloading hls_aac format info JSON\n",
            "[soundcloud] 415787667: Downloading hls_mp3 format info JSON\n",
            "[soundcloud] 415787667: Downloading http_mp3 format info JSON\n",
            "[soundcloud] 415787667: Downloading hls_opus format info JSON\n",
            "[info] 415787667: Downloading 1 format(s): hls_aac_160k\n",
            "[hlsnative] Downloading m3u8 manifest\n",
            "[hlsnative] Total fragments: 6\n",
            "[download] Destination: 415787667.m4a\n",
            "[download] 100% of    1.13MiB in 00:00:01 at 950.97KiB/s             \n",
            "[FixupM4a] Correcting container of \"415787667.m4a\"\n",
            "[ExtractAudio] Destination: 415787667.wav\n",
            "Deleting original file 415787667.m4a (pass -k to keep)\n",
            "[download] Downloading item 56 of 74\n",
            "[soundcloud] Extracting URL: https://soundcloud.com/ditherer/pillar-of-salt-prod-syndrome\n",
            "[soundcloud] ditherer/pillar-of-salt-prod-syndrome: Downloading info JSON\n",
            "[soundcloud] 415320288: Downloading original download format info JSON\n"
          ]
        },
        {
          "output_type": "stream",
          "name": "stderr",
          "text": [
            "WARNING: [soundcloud] Original download format is only available for registered users. Use --cookies, --cookies-from-browser, --username and --password, --netrc-cmd, or --netrc (soundcloud) to provide account credentials. See  https://github.com/yt-dlp/yt-dlp/wiki/FAQ#how-do-i-pass-cookies-to-yt-dlp  for how to manually pass cookies\n"
          ]
        },
        {
          "output_type": "stream",
          "name": "stdout",
          "text": [
            "[soundcloud] 415320288: Downloading hls_mp3 format info JSON\n",
            "[soundcloud] 415320288: Downloading http_mp3 format info JSON\n",
            "[soundcloud] 415320288: Downloading hls_opus format info JSON\n",
            "[info] 415320288: Downloading 1 format(s): hls_opus_0_0\n",
            "[hlsnative] Downloading m3u8 manifest\n",
            "[hlsnative] Total fragments: 29\n",
            "[download] Destination: 415320288.opus\n",
            "[download] 100% of    2.30MiB in 00:00:02 at 793.55KiB/s               \n",
            "[ExtractAudio] Destination: 415320288.wav\n",
            "Deleting original file 415320288.opus (pass -k to keep)\n",
            "[download] Downloading item 57 of 74\n",
            "[soundcloud] Extracting URL: https://soundcloud.com/ditherer/splash-prod-frakcija\n",
            "[soundcloud] ditherer/splash-prod-frakcija: Downloading info JSON\n",
            "[soundcloud] 415318167: Downloading original download format info JSON\n"
          ]
        },
        {
          "output_type": "stream",
          "name": "stderr",
          "text": [
            "WARNING: [soundcloud] Original download format is only available for registered users. Use --cookies, --cookies-from-browser, --username and --password, --netrc-cmd, or --netrc (soundcloud) to provide account credentials. See  https://github.com/yt-dlp/yt-dlp/wiki/FAQ#how-do-i-pass-cookies-to-yt-dlp  for how to manually pass cookies\n"
          ]
        },
        {
          "output_type": "stream",
          "name": "stdout",
          "text": [
            "[soundcloud] 415318167: Downloading hls_mp3 format info JSON\n",
            "[soundcloud] 415318167: Downloading http_mp3 format info JSON\n",
            "[soundcloud] 415318167: Downloading hls_opus format info JSON\n",
            "[info] 415318167: Downloading 1 format(s): hls_opus_0_0\n",
            "[hlsnative] Downloading m3u8 manifest\n",
            "[hlsnative] Total fragments: 10\n",
            "[download] Destination: 415318167.opus\n",
            "[download] 100% of  716.27KiB in 00:00:01 at 693.28KiB/s               \n",
            "[ExtractAudio] Destination: 415318167.wav\n",
            "Deleting original file 415318167.opus (pass -k to keep)\n",
            "[download] Downloading item 58 of 74\n",
            "[soundcloud] Extracting URL: https://soundcloud.com/ditherer/its-the-story-prod-jay-debussy\n",
            "[soundcloud] ditherer/its-the-story-prod-jay-debussy: Downloading info JSON\n",
            "[soundcloud] 413847495: Downloading hls_mp3 format info JSON\n",
            "[soundcloud] 413847495: Downloading http_mp3 format info JSON\n",
            "[soundcloud] 413847495: Downloading hls_opus format info JSON\n",
            "[info] 413847495: Downloading 1 format(s): hls_opus_0_0\n",
            "[hlsnative] Downloading m3u8 manifest\n",
            "[hlsnative] Total fragments: 21\n",
            "[download] Destination: 413847495.opus\n",
            "[download] 100% of    1.52MiB in 00:00:01 at 792.18KiB/s               \n",
            "[ExtractAudio] Destination: 413847495.wav\n",
            "Deleting original file 413847495.opus (pass -k to keep)\n",
            "[download] Downloading item 59 of 74\n",
            "[soundcloud] Extracting URL: https://soundcloud.com/ditherer/stormgang-prod-ego-melt-en\n",
            "[soundcloud] ditherer/stormgang-prod-ego-melt-en: Downloading info JSON\n",
            "[soundcloud] 408336438: Downloading original download format info JSON\n"
          ]
        },
        {
          "output_type": "stream",
          "name": "stderr",
          "text": [
            "WARNING: [soundcloud] Original download format is only available for registered users. Use --cookies, --cookies-from-browser, --username and --password, --netrc-cmd, or --netrc (soundcloud) to provide account credentials. See  https://github.com/yt-dlp/yt-dlp/wiki/FAQ#how-do-i-pass-cookies-to-yt-dlp  for how to manually pass cookies\n"
          ]
        },
        {
          "output_type": "stream",
          "name": "stdout",
          "text": [
            "[soundcloud] 408336438: Downloading hls_mp3 format info JSON\n",
            "[soundcloud] 408336438: Downloading http_mp3 format info JSON\n",
            "[soundcloud] 408336438: Downloading hls_opus format info JSON\n",
            "[info] 408336438: Downloading 1 format(s): hls_opus_0_0\n",
            "[hlsnative] Downloading m3u8 manifest\n",
            "[hlsnative] Total fragments: 12\n",
            "[download] Destination: 408336438.opus\n",
            "[download] 100% of  616.27KiB in 00:00:01 at 519.96KiB/s               \n",
            "[ExtractAudio] Destination: 408336438.wav\n",
            "Deleting original file 408336438.opus (pass -k to keep)\n",
            "[download] Downloading item 60 of 74\n",
            "[soundcloud] Extracting URL: https://soundcloud.com/ditherer/career-limiting-prod-profound-beats\n",
            "[soundcloud] ditherer/career-limiting-prod-profound-beats: Downloading info JSON\n",
            "[soundcloud] 405225432: Downloading original download format info JSON\n"
          ]
        },
        {
          "output_type": "stream",
          "name": "stderr",
          "text": [
            "WARNING: [soundcloud] Original download format is only available for registered users. Use --cookies, --cookies-from-browser, --username and --password, --netrc-cmd, or --netrc (soundcloud) to provide account credentials. See  https://github.com/yt-dlp/yt-dlp/wiki/FAQ#how-do-i-pass-cookies-to-yt-dlp  for how to manually pass cookies\n"
          ]
        },
        {
          "output_type": "stream",
          "name": "stdout",
          "text": [
            "[soundcloud] 405225432: Downloading hls_mp3 format info JSON\n",
            "[soundcloud] 405225432: Downloading http_mp3 format info JSON\n",
            "[soundcloud] 405225432: Downloading hls_opus format info JSON\n",
            "[info] 405225432: Downloading 1 format(s): hls_opus_0_0\n",
            "[hlsnative] Downloading m3u8 manifest\n",
            "[hlsnative] Total fragments: 18\n",
            "[download] Destination: 405225432.opus\n",
            "[download] 100% of    1.23MiB in 00:00:01 at 683.42KiB/s               \n",
            "[ExtractAudio] Destination: 405225432.wav\n",
            "Deleting original file 405225432.opus (pass -k to keep)\n",
            "[download] Downloading item 61 of 74\n",
            "[soundcloud] Extracting URL: https://soundcloud.com/ditherer/dont-got-a-lisp-prod-illuminabeats\n",
            "[soundcloud] ditherer/dont-got-a-lisp-prod-illuminabeats: Downloading info JSON\n",
            "[soundcloud] 404018556: Downloading original download format info JSON\n"
          ]
        },
        {
          "output_type": "stream",
          "name": "stderr",
          "text": [
            "WARNING: [soundcloud] Original download format is only available for registered users. Use --cookies, --cookies-from-browser, --username and --password, --netrc-cmd, or --netrc (soundcloud) to provide account credentials. See  https://github.com/yt-dlp/yt-dlp/wiki/FAQ#how-do-i-pass-cookies-to-yt-dlp  for how to manually pass cookies\n"
          ]
        },
        {
          "output_type": "stream",
          "name": "stdout",
          "text": [
            "[soundcloud] 404018556: Downloading hls_mp3 format info JSON\n",
            "[soundcloud] 404018556: Downloading http_mp3 format info JSON\n",
            "[soundcloud] 404018556: Downloading hls_opus format info JSON\n",
            "[info] 404018556: Downloading 1 format(s): hls_opus_0_0\n",
            "[hlsnative] Downloading m3u8 manifest\n",
            "[hlsnative] Total fragments: 23\n",
            "[download] Destination: 404018556.opus\n",
            "[download] 100% of    1.64MiB in 00:00:02 at 753.43KiB/s               \n",
            "[ExtractAudio] Destination: 404018556.wav\n",
            "Deleting original file 404018556.opus (pass -k to keep)\n",
            "[download] Downloading item 62 of 74\n",
            "[soundcloud] Extracting URL: https://soundcloud.com/ditherer/transmigratory-emission-prod-korabeats\n",
            "[soundcloud] ditherer/transmigratory-emission-prod-korabeats: Downloading info JSON\n",
            "[soundcloud] 404018547: Downloading original download format info JSON\n"
          ]
        },
        {
          "output_type": "stream",
          "name": "stderr",
          "text": [
            "WARNING: [soundcloud] Original download format is only available for registered users. Use --cookies, --cookies-from-browser, --username and --password, --netrc-cmd, or --netrc (soundcloud) to provide account credentials. See  https://github.com/yt-dlp/yt-dlp/wiki/FAQ#how-do-i-pass-cookies-to-yt-dlp  for how to manually pass cookies\n"
          ]
        },
        {
          "output_type": "stream",
          "name": "stdout",
          "text": [
            "[soundcloud] 404018547: Downloading hls_mp3 format info JSON\n",
            "[soundcloud] 404018547: Downloading http_mp3 format info JSON\n",
            "[soundcloud] 404018547: Downloading hls_opus format info JSON\n",
            "[info] 404018547: Downloading 1 format(s): hls_opus_0_0\n",
            "[hlsnative] Downloading m3u8 manifest\n",
            "[hlsnative] Total fragments: 16\n",
            "[download] Destination: 404018547.opus\n",
            "[download] 100% of    1.10MiB in 00:00:01 at 684.76KiB/s               \n",
            "[ExtractAudio] Destination: 404018547.wav\n",
            "Deleting original file 404018547.opus (pass -k to keep)\n",
            "[download] Downloading item 63 of 74\n",
            "[soundcloud] Extracting URL: https://soundcloud.com/ditherer/the-evil-pony-nightmare-moon-prod-the-living-tombstone\n",
            "[soundcloud] ditherer/the-evil-pony-nightmare-moon-prod-the-living-tombstone: Downloading info JSON\n",
            "[soundcloud] 402786543: Downloading original download format info JSON\n"
          ]
        },
        {
          "output_type": "stream",
          "name": "stderr",
          "text": [
            "WARNING: [soundcloud] Original download format is only available for registered users. Use --cookies, --cookies-from-browser, --username and --password, --netrc-cmd, or --netrc (soundcloud) to provide account credentials. See  https://github.com/yt-dlp/yt-dlp/wiki/FAQ#how-do-i-pass-cookies-to-yt-dlp  for how to manually pass cookies\n"
          ]
        },
        {
          "output_type": "stream",
          "name": "stdout",
          "text": [
            "[soundcloud] 402786543: Downloading hls_mp3 format info JSON\n",
            "[soundcloud] 402786543: Downloading http_mp3 format info JSON\n",
            "[soundcloud] 402786543: Downloading hls_opus format info JSON\n",
            "[info] 402786543: Downloading 1 format(s): hls_opus_0_0\n",
            "[hlsnative] Downloading m3u8 manifest\n",
            "[hlsnative] Total fragments: 14\n",
            "[download] Destination: 402786543.opus\n",
            "[download] 100% of  859.62KiB in 00:00:01 at 670.99KiB/s               \n",
            "[ExtractAudio] Destination: 402786543.wav\n",
            "Deleting original file 402786543.opus (pass -k to keep)\n",
            "[download] Downloading item 64 of 74\n",
            "[soundcloud] Extracting URL: https://soundcloud.com/ditherer/year-of-no-fearprod-delariva\n",
            "[soundcloud] ditherer/year-of-no-fearprod-delariva: Downloading info JSON\n",
            "[soundcloud] 378022586: Downloading hls_mp3 format info JSON\n",
            "[soundcloud] 378022586: Downloading http_mp3 format info JSON\n",
            "[soundcloud] 378022586: Downloading hls_opus format info JSON\n",
            "[info] 378022586: Downloading 1 format(s): hls_opus_0_0\n",
            "[hlsnative] Downloading m3u8 manifest\n",
            "[hlsnative] Total fragments: 20\n",
            "[download] Destination: 378022586.opus\n",
            "[download] 100% of    1.73MiB in 00:00:02 at 867.94KiB/s               \n",
            "[ExtractAudio] Destination: 378022586.wav\n",
            "Deleting original file 378022586.opus (pass -k to keep)\n",
            "[download] Downloading item 65 of 74\n",
            "[soundcloud] Extracting URL: https://soundcloud.com/ditherer/yung-snail-farmer-prod-eyenine\n",
            "[soundcloud] ditherer/yung-snail-farmer-prod-eyenine: Downloading info JSON\n",
            "[soundcloud] 364712726: Downloading original download format info JSON\n"
          ]
        },
        {
          "output_type": "stream",
          "name": "stderr",
          "text": [
            "WARNING: [soundcloud] Original download format is only available for registered users. Use --cookies, --cookies-from-browser, --username and --password, --netrc-cmd, or --netrc (soundcloud) to provide account credentials. See  https://github.com/yt-dlp/yt-dlp/wiki/FAQ#how-do-i-pass-cookies-to-yt-dlp  for how to manually pass cookies\n"
          ]
        },
        {
          "output_type": "stream",
          "name": "stdout",
          "text": [
            "[soundcloud] 364712726: Downloading hls_mp3 format info JSON\n",
            "[soundcloud] 364712726: Downloading http_mp3 format info JSON\n",
            "[soundcloud] 364712726: Downloading hls_opus format info JSON\n",
            "[info] 364712726: Downloading 1 format(s): hls_opus_0_0\n",
            "[hlsnative] Downloading m3u8 manifest\n",
            "[hlsnative] Total fragments: 13\n",
            "[download] Destination: 364712726.opus\n",
            "[download] 100% of  712.56KiB in 00:00:01 at 616.76KiB/s               \n",
            "[ExtractAudio] Destination: 364712726.wav\n",
            "Deleting original file 364712726.opus (pass -k to keep)\n",
            "[download] Downloading item 66 of 74\n",
            "[soundcloud] Extracting URL: https://soundcloud.com/ditherer/act-four-prod-kri-ma-din\n",
            "[soundcloud] ditherer/act-four-prod-kri-ma-din: Downloading info JSON\n",
            "[soundcloud] 364664516: Downloading original download format info JSON\n"
          ]
        },
        {
          "output_type": "stream",
          "name": "stderr",
          "text": [
            "WARNING: [soundcloud] Original download format is only available for registered users. Use --cookies, --cookies-from-browser, --username and --password, --netrc-cmd, or --netrc (soundcloud) to provide account credentials. See  https://github.com/yt-dlp/yt-dlp/wiki/FAQ#how-do-i-pass-cookies-to-yt-dlp  for how to manually pass cookies\n"
          ]
        },
        {
          "output_type": "stream",
          "name": "stdout",
          "text": [
            "[soundcloud] 364664516: Downloading hls_mp3 format info JSON\n",
            "[soundcloud] 364664516: Downloading http_mp3 format info JSON\n",
            "[soundcloud] 364664516: Downloading hls_opus format info JSON\n",
            "[info] 364664516: Downloading 1 format(s): hls_opus_0_0\n",
            "[hlsnative] Downloading m3u8 manifest\n",
            "[hlsnative] Total fragments: 10\n",
            "[download] Destination: 364664516.opus\n",
            "[download] 100% of  643.71KiB in 00:00:00 at 650.15KiB/s                 \n",
            "[ExtractAudio] Destination: 364664516.wav\n",
            "Deleting original file 364664516.opus (pass -k to keep)\n",
            "[download] Downloading item 67 of 74\n",
            "[soundcloud] Extracting URL: https://soundcloud.com/ditherer/little-bunny-foo-foo-prod-zent\n",
            "[soundcloud] ditherer/little-bunny-foo-foo-prod-zent: Downloading info JSON\n",
            "[soundcloud] 364664501: Downloading original download format info JSON\n"
          ]
        },
        {
          "output_type": "stream",
          "name": "stderr",
          "text": [
            "WARNING: [soundcloud] Original download format is only available for registered users. Use --cookies, --cookies-from-browser, --username and --password, --netrc-cmd, or --netrc (soundcloud) to provide account credentials. See  https://github.com/yt-dlp/yt-dlp/wiki/FAQ#how-do-i-pass-cookies-to-yt-dlp  for how to manually pass cookies\n"
          ]
        },
        {
          "output_type": "stream",
          "name": "stdout",
          "text": [
            "[soundcloud] 364664501: Downloading hls_mp3 format info JSON\n",
            "[soundcloud] 364664501: Downloading http_mp3 format info JSON\n",
            "[soundcloud] 364664501: Downloading hls_opus format info JSON\n",
            "[info] 364664501: Downloading 1 format(s): hls_opus_0_0\n",
            "[hlsnative] Downloading m3u8 manifest\n",
            "[hlsnative] Total fragments: 11\n",
            "[download] Destination: 364664501.opus\n",
            "[download] 100% of  722.23KiB in 00:00:01 at 599.05KiB/s               \n",
            "[ExtractAudio] Destination: 364664501.wav\n",
            "Deleting original file 364664501.opus (pass -k to keep)\n",
            "[download] Downloading item 68 of 74\n",
            "[soundcloud] Extracting URL: https://soundcloud.com/ditherer/vola-vola-prod-oculus\n",
            "[soundcloud] ditherer/vola-vola-prod-oculus: Downloading info JSON\n",
            "[soundcloud] 360750002: Downloading original download format info JSON\n"
          ]
        },
        {
          "output_type": "stream",
          "name": "stderr",
          "text": [
            "WARNING: [soundcloud] Original download format is only available for registered users. Use --cookies, --cookies-from-browser, --username and --password, --netrc-cmd, or --netrc (soundcloud) to provide account credentials. See  https://github.com/yt-dlp/yt-dlp/wiki/FAQ#how-do-i-pass-cookies-to-yt-dlp  for how to manually pass cookies\n"
          ]
        },
        {
          "output_type": "stream",
          "name": "stdout",
          "text": [
            "[soundcloud] 360750002: Downloading hls_mp3 format info JSON\n",
            "[soundcloud] 360750002: Downloading http_mp3 format info JSON\n",
            "[soundcloud] 360750002: Downloading hls_opus format info JSON\n",
            "[info] 360750002: Downloading 1 format(s): hls_opus_0_0\n",
            "[hlsnative] Downloading m3u8 manifest\n",
            "[hlsnative] Total fragments: 13\n",
            "[download] Destination: 360750002.opus\n",
            "[download] 100% of  883.35KiB in 00:00:01 at 584.54KiB/s               \n",
            "[ExtractAudio] Destination: 360750002.wav\n",
            "Deleting original file 360750002.opus (pass -k to keep)\n",
            "[download] Downloading item 69 of 74\n",
            "[soundcloud] Extracting URL: https://soundcloud.com/ditherer/third-bomb-prod-fantasy-beatzzz\n",
            "[soundcloud] ditherer/third-bomb-prod-fantasy-beatzzz: Downloading info JSON\n",
            "[soundcloud] 359576573: Downloading original download format info JSON\n"
          ]
        },
        {
          "output_type": "stream",
          "name": "stderr",
          "text": [
            "WARNING: [soundcloud] Original download format is only available for registered users. Use --cookies, --cookies-from-browser, --username and --password, --netrc-cmd, or --netrc (soundcloud) to provide account credentials. See  https://github.com/yt-dlp/yt-dlp/wiki/FAQ#how-do-i-pass-cookies-to-yt-dlp  for how to manually pass cookies\n"
          ]
        },
        {
          "output_type": "stream",
          "name": "stdout",
          "text": [
            "[soundcloud] 359576573: Downloading hls_mp3 format info JSON\n",
            "[soundcloud] 359576573: Downloading http_mp3 format info JSON\n",
            "[soundcloud] 359576573: Downloading hls_opus format info JSON\n",
            "[info] 359576573: Downloading 1 format(s): hls_opus_0_0\n",
            "[hlsnative] Downloading m3u8 manifest\n",
            "[hlsnative] Total fragments: 17\n",
            "[download] Destination: 359576573.opus\n",
            "[download] 100% of    1.07MiB in 00:00:01 at 634.74KiB/s               \n",
            "[ExtractAudio] Destination: 359576573.wav\n",
            "Deleting original file 359576573.opus (pass -k to keep)\n",
            "[download] Downloading item 70 of 74\n",
            "[soundcloud] Extracting URL: https://soundcloud.com/ditherer/roughly-72-demo-prod-josh-petruccio-x-josbeats\n",
            "[soundcloud] ditherer/roughly-72-demo-prod-josh-petruccio-x-josbeats: Downloading info JSON\n",
            "[soundcloud] 359575598: Downloading original download format info JSON\n"
          ]
        },
        {
          "output_type": "stream",
          "name": "stderr",
          "text": [
            "WARNING: [soundcloud] Original download format is only available for registered users. Use --cookies, --cookies-from-browser, --username and --password, --netrc-cmd, or --netrc (soundcloud) to provide account credentials. See  https://github.com/yt-dlp/yt-dlp/wiki/FAQ#how-do-i-pass-cookies-to-yt-dlp  for how to manually pass cookies\n"
          ]
        },
        {
          "output_type": "stream",
          "name": "stdout",
          "text": [
            "[soundcloud] 359575598: Downloading hls_mp3 format info JSON\n",
            "[soundcloud] 359575598: Downloading http_mp3 format info JSON\n",
            "[soundcloud] 359575598: Downloading hls_opus format info JSON\n",
            "[info] 359575598: Downloading 1 format(s): hls_opus_0_0\n",
            "[hlsnative] Downloading m3u8 manifest\n",
            "[hlsnative] Total fragments: 22\n",
            "[download] Destination: 359575598.opus\n",
            "[download] 100% of    1.88MiB in 00:00:02 at 802.51KiB/s               \n",
            "[ExtractAudio] Destination: 359575598.wav\n",
            "Deleting original file 359575598.opus (pass -k to keep)\n",
            "[download] Downloading item 71 of 74\n",
            "[soundcloud] Extracting URL: https://soundcloud.com/ditherer/windswept-season-intro-prod\n",
            "[soundcloud] ditherer/windswept-season-intro-prod: Downloading info JSON\n",
            "[soundcloud] 359561531: Downloading hls_mp3 format info JSON\n",
            "[soundcloud] 359561531: Downloading http_mp3 format info JSON\n",
            "[soundcloud] 359561531: Downloading hls_opus format info JSON\n",
            "[info] 359561531: Downloading 1 format(s): hls_opus_0_0\n",
            "[hlsnative] Downloading m3u8 manifest\n",
            "[hlsnative] Total fragments: 15\n",
            "[download] Destination: 359561531.opus\n",
            "[download] 100% of  964.91KiB in 00:00:01 at 686.76KiB/s               \n",
            "[ExtractAudio] Destination: 359561531.wav\n",
            "Deleting original file 359561531.opus (pass -k to keep)\n",
            "[download] Downloading item 72 of 74\n",
            "[soundcloud] Extracting URL: https://soundcloud.com/ditherer/overdose-cypher-prod-d-range\n",
            "[soundcloud] ditherer/overdose-cypher-prod-d-range: Downloading info JSON\n",
            "[soundcloud] 359561513: Downloading hls_aac format info JSON\n",
            "[soundcloud] 359561513: Downloading hls_mp3 format info JSON\n",
            "[soundcloud] 359561513: Downloading http_mp3 format info JSON\n",
            "[soundcloud] 359561513: Downloading hls_opus format info JSON\n",
            "[info] 359561513: Downloading 1 format(s): hls_aac_160k\n",
            "[hlsnative] Downloading m3u8 manifest\n",
            "[hlsnative] Total fragments: 9\n",
            "[download] Destination: 359561513.m4a\n",
            "[download] 100% of    1.62MiB in 00:00:01 at 897.12KiB/s              \n",
            "[FixupM4a] Correcting container of \"359561513.m4a\"\n",
            "[ExtractAudio] Destination: 359561513.wav\n",
            "Deleting original file 359561513.m4a (pass -k to keep)\n",
            "[download] Downloading item 73 of 74\n",
            "[soundcloud] Extracting URL: https://soundcloud.com/ditherer/waltz-for-trixie-prod\n",
            "[soundcloud] ditherer/waltz-for-trixie-prod: Downloading info JSON\n",
            "[soundcloud] 359561501: Downloading hls_mp3 format info JSON\n",
            "[soundcloud] 359561501: Downloading http_mp3 format info JSON\n",
            "[soundcloud] 359561501: Downloading hls_opus format info JSON\n",
            "[info] 359561501: Downloading 1 format(s): hls_opus_0_0\n",
            "[hlsnative] Downloading m3u8 manifest\n",
            "[hlsnative] Total fragments: 11\n",
            "[download] Destination: 359561501.opus\n",
            "[download] 100% of  732.40KiB in 00:00:01 at 509.44KiB/s               \n",
            "[ExtractAudio] Destination: 359561501.wav\n",
            "Deleting original file 359561501.opus (pass -k to keep)\n",
            "[download] Downloading item 74 of 74\n",
            "[soundcloud] Extracting URL: https://soundcloud.com/ditherer/maimed-king-prod-mikzy\n",
            "[soundcloud] ditherer/maimed-king-prod-mikzy: Downloading info JSON\n",
            "[soundcloud] 359561489: Downloading hls_mp3 format info JSON\n",
            "[soundcloud] 359561489: Downloading http_mp3 format info JSON\n",
            "[soundcloud] 359561489: Downloading hls_opus format info JSON\n",
            "[info] 359561489: Downloading 1 format(s): hls_opus_0_0\n",
            "[hlsnative] Downloading m3u8 manifest\n",
            "[hlsnative] Total fragments: 12\n",
            "[download] Destination: 359561489.opus\n",
            "[download] 100% of  840.29KiB in 00:00:01 at 644.69KiB/s               \n",
            "[ExtractAudio] Destination: 359561489.wav\n",
            "Deleting original file 359561489.opus (pass -k to keep)\n",
            "[download] Finished downloading playlist: Ditherer (Tracks)\n",
            "[soundcloud:user] Extracting URL: https://soundcloud.com/ditherer/tracks\n",
            "[soundcloud:user] ditherer: Downloading user info\n",
            "[download] Downloading playlist: Ditherer (Tracks)\n",
            "[soundcloud:user] 352560956: Downloading track page 1\n",
            "[soundcloud:user] 352560956: Downloading track page 2\n",
            "[soundcloud:user] Playlist Ditherer (Tracks): Downloading 74 items of 74\n",
            "[download] Downloading item 1 of 74\n",
            "[soundcloud] Extracting URL: https://soundcloud.com/ditherer/the-impossible-pursuit-prod-steryotype\n",
            "[soundcloud] ditherer/the-impossible-pursuit-prod-steryotype: Downloading info JSON\n",
            "[soundcloud] 612651792: Downloading original download format info JSON\n"
          ]
        },
        {
          "output_type": "stream",
          "name": "stderr",
          "text": [
            "WARNING: [soundcloud] Original download format is only available for registered users. Use --cookies, --cookies-from-browser, --username and --password, --netrc-cmd, or --netrc (soundcloud) to provide account credentials. See  https://github.com/yt-dlp/yt-dlp/wiki/FAQ#how-do-i-pass-cookies-to-yt-dlp  for how to manually pass cookies\n"
          ]
        },
        {
          "output_type": "stream",
          "name": "stdout",
          "text": [
            "[soundcloud] 612651792: Downloading hls_mp3 format info JSON\n",
            "[soundcloud] 612651792: Downloading http_mp3 format info JSON\n",
            "[soundcloud] 612651792: Downloading hls_opus format info JSON\n",
            "[download] Downloading item 2 of 74\n",
            "[soundcloud] Extracting URL: https://soundcloud.com/ditherer/uprooted-interlude-prod-steryotype\n",
            "[soundcloud] ditherer/uprooted-interlude-prod-steryotype: Downloading info JSON\n",
            "[soundcloud] 612454068: Downloading original download format info JSON\n"
          ]
        },
        {
          "output_type": "stream",
          "name": "stderr",
          "text": [
            "WARNING: [soundcloud] Original download format is only available for registered users. Use --cookies, --cookies-from-browser, --username and --password, --netrc-cmd, or --netrc (soundcloud) to provide account credentials. See  https://github.com/yt-dlp/yt-dlp/wiki/FAQ#how-do-i-pass-cookies-to-yt-dlp  for how to manually pass cookies\n"
          ]
        },
        {
          "output_type": "stream",
          "name": "stdout",
          "text": [
            "[soundcloud] 612454068: Downloading hls_mp3 format info JSON\n",
            "[soundcloud] 612454068: Downloading http_mp3 format info JSON\n",
            "[soundcloud] 612454068: Downloading hls_opus format info JSON\n",
            "[download] Downloading item 3 of 74\n",
            "[soundcloud] Extracting URL: https://soundcloud.com/ditherer/horse-news-prod-technickel-ted\n",
            "[soundcloud] ditherer/horse-news-prod-technickel-ted: Downloading info JSON\n",
            "[soundcloud] 612353238: Downloading original download format info JSON\n"
          ]
        },
        {
          "output_type": "stream",
          "name": "stderr",
          "text": [
            "WARNING: [soundcloud] Original download format is only available for registered users. Use --cookies, --cookies-from-browser, --username and --password, --netrc-cmd, or --netrc (soundcloud) to provide account credentials. See  https://github.com/yt-dlp/yt-dlp/wiki/FAQ#how-do-i-pass-cookies-to-yt-dlp  for how to manually pass cookies\n"
          ]
        },
        {
          "output_type": "stream",
          "name": "stdout",
          "text": [
            "[soundcloud] 612353238: Downloading hls_aac format info JSON\n",
            "[soundcloud] 612353238: Downloading hls_mp3 format info JSON\n",
            "[soundcloud] 612353238: Downloading http_mp3 format info JSON\n",
            "[soundcloud] 612353238: Downloading hls_opus format info JSON\n",
            "[download] Downloading item 4 of 74\n",
            "[soundcloud] Extracting URL: https://soundcloud.com/ditherer/the-bells-of-tambelon-part-1-prod-steryotype\n",
            "[soundcloud] ditherer/the-bells-of-tambelon-part-1-prod-steryotype: Downloading info JSON\n",
            "[soundcloud] 611762205: Downloading original download format info JSON\n"
          ]
        },
        {
          "output_type": "stream",
          "name": "stderr",
          "text": [
            "WARNING: [soundcloud] Original download format is only available for registered users. Use --cookies, --cookies-from-browser, --username and --password, --netrc-cmd, or --netrc (soundcloud) to provide account credentials. See  https://github.com/yt-dlp/yt-dlp/wiki/FAQ#how-do-i-pass-cookies-to-yt-dlp  for how to manually pass cookies\n"
          ]
        },
        {
          "output_type": "stream",
          "name": "stdout",
          "text": [
            "[soundcloud] 611762205: Downloading hls_aac format info JSON\n",
            "[soundcloud] 611762205: Downloading hls_mp3 format info JSON\n",
            "[soundcloud] 611762205: Downloading http_mp3 format info JSON\n",
            "[soundcloud] 611762205: Downloading hls_opus format info JSON\n",
            "[download] Downloading item 5 of 74\n",
            "[soundcloud] Extracting URL: https://soundcloud.com/ditherer/s07e03-unnamed-earth-mare-1\n",
            "[soundcloud] ditherer/s07e03-unnamed-earth-mare-1: Downloading info JSON\n",
            "[soundcloud] 611468751: Downloading original download format info JSON\n"
          ]
        },
        {
          "output_type": "stream",
          "name": "stderr",
          "text": [
            "WARNING: [soundcloud] Original download format is only available for registered users. Use --cookies, --cookies-from-browser, --username and --password, --netrc-cmd, or --netrc (soundcloud) to provide account credentials. See  https://github.com/yt-dlp/yt-dlp/wiki/FAQ#how-do-i-pass-cookies-to-yt-dlp  for how to manually pass cookies\n"
          ]
        },
        {
          "output_type": "stream",
          "name": "stdout",
          "text": [
            "[soundcloud] 611468751: Downloading hls_mp3 format info JSON\n",
            "[soundcloud] 611468751: Downloading http_mp3 format info JSON\n",
            "[soundcloud] 611468751: Downloading hls_opus format info JSON\n",
            "[download] Downloading item 6 of 74\n",
            "[soundcloud] Extracting URL: https://soundcloud.com/ditherer/killshot-remix-reprod-manestoo\n",
            "[soundcloud] ditherer/killshot-remix-reprod-manestoo: Downloading info JSON\n",
            "[soundcloud] 544661931: Downloading original download format info JSON\n"
          ]
        },
        {
          "output_type": "stream",
          "name": "stderr",
          "text": [
            "WARNING: [soundcloud] Original download format is only available for registered users. Use --cookies, --cookies-from-browser, --username and --password, --netrc-cmd, or --netrc (soundcloud) to provide account credentials. See  https://github.com/yt-dlp/yt-dlp/wiki/FAQ#how-do-i-pass-cookies-to-yt-dlp  for how to manually pass cookies\n"
          ]
        },
        {
          "output_type": "stream",
          "name": "stdout",
          "text": [
            "[soundcloud] 544661931: Downloading hls_mp3 format info JSON\n",
            "[soundcloud] 544661931: Downloading http_mp3 format info JSON\n",
            "[soundcloud] 544661931: Downloading hls_opus format info JSON\n",
            "[download] Downloading item 7 of 74\n",
            "[soundcloud] Extracting URL: https://soundcloud.com/ditherer/j-free-shobieshy-ditherer-outta-the-cage-doodled-response-prod-c-even\n",
            "[soundcloud] ditherer/j-free-shobieshy-ditherer-outta-the-cage-doodled-response-prod-c-even: Downloading info JSON\n",
            "[soundcloud] 543651222: Downloading original download format info JSON\n"
          ]
        },
        {
          "output_type": "stream",
          "name": "stderr",
          "text": [
            "WARNING: [soundcloud] Original download format is only available for registered users. Use --cookies, --cookies-from-browser, --username and --password, --netrc-cmd, or --netrc (soundcloud) to provide account credentials. See  https://github.com/yt-dlp/yt-dlp/wiki/FAQ#how-do-i-pass-cookies-to-yt-dlp  for how to manually pass cookies\n"
          ]
        },
        {
          "output_type": "stream",
          "name": "stdout",
          "text": [
            "[soundcloud] 543651222: Downloading hls_mp3 format info JSON\n",
            "[soundcloud] 543651222: Downloading http_mp3 format info JSON\n",
            "[soundcloud] 543651222: Downloading hls_opus format info JSON\n",
            "[download] Downloading item 8 of 74\n",
            "[soundcloud] Extracting URL: https://soundcloud.com/ditherer/bone-juice-cypher-2018\n",
            "[soundcloud] ditherer/bone-juice-cypher-2018: Downloading info JSON\n",
            "[soundcloud] 521337021: Downloading original download format info JSON\n"
          ]
        },
        {
          "output_type": "stream",
          "name": "stderr",
          "text": [
            "WARNING: [soundcloud] Original download format is only available for registered users. Use --cookies, --cookies-from-browser, --username and --password, --netrc-cmd, or --netrc (soundcloud) to provide account credentials. See  https://github.com/yt-dlp/yt-dlp/wiki/FAQ#how-do-i-pass-cookies-to-yt-dlp  for how to manually pass cookies\n"
          ]
        },
        {
          "output_type": "stream",
          "name": "stdout",
          "text": [
            "[soundcloud] 521337021: Downloading hls_mp3 format info JSON\n",
            "[soundcloud] 521337021: Downloading http_mp3 format info JSON\n",
            "[soundcloud] 521337021: Downloading hls_opus format info JSON\n",
            "[download] Downloading item 9 of 74\n",
            "[soundcloud] Extracting URL: https://soundcloud.com/ditherer/full-life-consequences-j-free-diss-reprod-hakan\n",
            "[soundcloud] ditherer/full-life-consequences-j-free-diss-reprod-hakan: Downloading info JSON\n",
            "[soundcloud] 498675807: Downloading hls_aac format info JSON\n",
            "[soundcloud] 498675807: Downloading hls_mp3 format info JSON\n",
            "[soundcloud] 498675807: Downloading http_mp3 format info JSON\n",
            "[soundcloud] 498675807: Downloading hls_opus format info JSON\n",
            "[download] Downloading item 10 of 74\n",
            "[soundcloud] Extracting URL: https://soundcloud.com/ditherer/banter-rap-devil-remixreprod-dices\n",
            "[soundcloud] ditherer/banter-rap-devil-remixreprod-dices: Downloading info JSON\n",
            "[soundcloud] 498198258: Downloading original download format info JSON\n"
          ]
        },
        {
          "output_type": "stream",
          "name": "stderr",
          "text": [
            "WARNING: [soundcloud] Original download format is only available for registered users. Use --cookies, --cookies-from-browser, --username and --password, --netrc-cmd, or --netrc (soundcloud) to provide account credentials. See  https://github.com/yt-dlp/yt-dlp/wiki/FAQ#how-do-i-pass-cookies-to-yt-dlp  for how to manually pass cookies\n"
          ]
        },
        {
          "output_type": "stream",
          "name": "stdout",
          "text": [
            "[soundcloud] 498198258: Downloading hls_mp3 format info JSON\n",
            "[soundcloud] 498198258: Downloading http_mp3 format info JSON\n",
            "[soundcloud] 498198258: Downloading hls_opus format info JSON\n",
            "[download] Downloading item 11 of 74\n",
            "[soundcloud] Extracting URL: https://soundcloud.com/ditherer/dissonancy-prod-xtravulous\n",
            "[soundcloud] ditherer/dissonancy-prod-xtravulous: Downloading info JSON\n",
            "[soundcloud] 498187065: Downloading original download format info JSON\n"
          ]
        },
        {
          "output_type": "stream",
          "name": "stderr",
          "text": [
            "WARNING: [soundcloud] Original download format is only available for registered users. Use --cookies, --cookies-from-browser, --username and --password, --netrc-cmd, or --netrc (soundcloud) to provide account credentials. See  https://github.com/yt-dlp/yt-dlp/wiki/FAQ#how-do-i-pass-cookies-to-yt-dlp  for how to manually pass cookies\n"
          ]
        },
        {
          "output_type": "stream",
          "name": "stdout",
          "text": [
            "[soundcloud] 498187065: Downloading hls_mp3 format info JSON\n",
            "[soundcloud] 498187065: Downloading http_mp3 format info JSON\n",
            "[soundcloud] 498187065: Downloading hls_opus format info JSON\n",
            "[download] Downloading item 12 of 74\n",
            "[soundcloud] Extracting URL: https://soundcloud.com/ditherer/catchup-prod-steryotype\n",
            "[soundcloud] ditherer/catchup-prod-steryotype: Downloading info JSON\n",
            "[soundcloud] 495298644: Downloading hls_mp3 format info JSON\n",
            "[soundcloud] 495298644: Downloading http_mp3 format info JSON\n",
            "[soundcloud] 495298644: Downloading hls_opus format info JSON\n",
            "[download] Downloading item 13 of 74\n",
            "[soundcloud] Extracting URL: https://soundcloud.com/ditherer/bad-mood-1\n",
            "[soundcloud] ditherer/bad-mood-1: Downloading info JSON\n",
            "[soundcloud] 495298626: Downloading hls_mp3 format info JSON\n",
            "[soundcloud] 495298626: Downloading http_mp3 format info JSON\n",
            "[soundcloud] 495298626: Downloading hls_opus format info JSON\n",
            "[download] Downloading item 14 of 74\n",
            "[soundcloud] Extracting URL: https://soundcloud.com/ditherer/we-must-cultivate-our-garden\n",
            "[soundcloud] ditherer/we-must-cultivate-our-garden: Downloading info JSON\n",
            "[soundcloud] 495298605: Downloading hls_aac format info JSON\n",
            "[soundcloud] 495298605: Downloading hls_mp3 format info JSON\n",
            "[soundcloud] 495298605: Downloading http_mp3 format info JSON\n",
            "[soundcloud] 495298605: Downloading hls_opus format info JSON\n",
            "[download] Downloading item 15 of 74\n",
            "[soundcloud] Extracting URL: https://soundcloud.com/ditherer/appleloosa-prod-steryotype\n",
            "[soundcloud] ditherer/appleloosa-prod-steryotype: Downloading info JSON\n",
            "[soundcloud] 495298584: Downloading hls_mp3 format info JSON\n",
            "[soundcloud] 495298584: Downloading http_mp3 format info JSON\n",
            "[soundcloud] 495298584: Downloading hls_opus format info JSON\n",
            "[download] Downloading item 16 of 74\n",
            "[soundcloud] Extracting URL: https://soundcloud.com/ditherer/dea-from-se-writere-prod-tcb\n",
            "[soundcloud] ditherer/dea-from-se-writere-prod-tcb: Downloading info JSON\n",
            "[soundcloud] 495298545: Downloading hls_mp3 format info JSON\n",
            "[soundcloud] 495298545: Downloading http_mp3 format info JSON\n",
            "[soundcloud] 495298545: Downloading hls_opus format info JSON\n",
            "[download] Downloading item 17 of 74\n",
            "[soundcloud] Extracting URL: https://soundcloud.com/ditherer/playing-the-part-prod-mcmiag\n",
            "[soundcloud] ditherer/playing-the-part-prod-mcmiag: Downloading info JSON\n",
            "[soundcloud] 495298527: Downloading hls_mp3 format info JSON\n",
            "[soundcloud] 495298527: Downloading http_mp3 format info JSON\n",
            "[soundcloud] 495298527: Downloading hls_opus format info JSON\n",
            "[download] Downloading item 18 of 74\n",
            "[soundcloud] Extracting URL: https://soundcloud.com/ditherer/bars-in-a-sweet-coat-prod\n",
            "[soundcloud] ditherer/bars-in-a-sweet-coat-prod: Downloading info JSON\n",
            "[soundcloud] 495298512: Downloading hls_mp3 format info JSON\n",
            "[soundcloud] 495298512: Downloading http_mp3 format info JSON\n",
            "[soundcloud] 495298512: Downloading hls_opus format info JSON\n",
            "[download] Downloading item 19 of 74\n",
            "[soundcloud] Extracting URL: https://soundcloud.com/ditherer/j-alfred-prufrock\n",
            "[soundcloud] ditherer/j-alfred-prufrock: Downloading info JSON\n",
            "[soundcloud] 495298482: Downloading hls_mp3 format info JSON\n",
            "[soundcloud] 495298482: Downloading http_mp3 format info JSON\n",
            "[soundcloud] 495298482: Downloading hls_opus format info JSON\n",
            "[download] Downloading item 20 of 74\n",
            "[soundcloud] Extracting URL: https://soundcloud.com/ditherer/real-fans-reprod-the-cratez-x-thebeatplug\n",
            "[soundcloud] ditherer/real-fans-reprod-the-cratez-x-thebeatplug: Downloading info JSON\n",
            "[soundcloud] 472533159: Downloading original download format info JSON\n"
          ]
        },
        {
          "output_type": "stream",
          "name": "stderr",
          "text": [
            "WARNING: [soundcloud] Original download format is only available for registered users. Use --cookies, --cookies-from-browser, --username and --password, --netrc-cmd, or --netrc (soundcloud) to provide account credentials. See  https://github.com/yt-dlp/yt-dlp/wiki/FAQ#how-do-i-pass-cookies-to-yt-dlp  for how to manually pass cookies\n"
          ]
        },
        {
          "output_type": "stream",
          "name": "stdout",
          "text": [
            "[soundcloud] 472533159: Downloading hls_mp3 format info JSON\n",
            "[soundcloud] 472533159: Downloading http_mp3 format info JSON\n",
            "[soundcloud] 472533159: Downloading hls_opus format info JSON\n",
            "[download] Downloading item 21 of 74\n",
            "[soundcloud] Extracting URL: https://soundcloud.com/ditherer/bad-mood\n",
            "[soundcloud] ditherer/bad-mood: Downloading info JSON\n",
            "[soundcloud] 471748785: Downloading hls_mp3 format info JSON\n",
            "[soundcloud] 471748785: Downloading http_mp3 format info JSON\n",
            "[soundcloud] 471748785: Downloading hls_opus format info JSON\n",
            "[download] Downloading item 22 of 74\n",
            "[soundcloud] Extracting URL: https://soundcloud.com/ditherer/loop-de-hoop-prod-technickel-ted\n",
            "[soundcloud] ditherer/loop-de-hoop-prod-technickel-ted: Downloading info JSON\n",
            "[soundcloud] 471653754: Downloading original download format info JSON\n"
          ]
        },
        {
          "output_type": "stream",
          "name": "stderr",
          "text": [
            "WARNING: [soundcloud] Original download format is only available for registered users. Use --cookies, --cookies-from-browser, --username and --password, --netrc-cmd, or --netrc (soundcloud) to provide account credentials. See  https://github.com/yt-dlp/yt-dlp/wiki/FAQ#how-do-i-pass-cookies-to-yt-dlp  for how to manually pass cookies\n"
          ]
        },
        {
          "output_type": "stream",
          "name": "stdout",
          "text": [
            "[soundcloud] 471653754: Downloading hls_mp3 format info JSON\n",
            "[soundcloud] 471653754: Downloading http_mp3 format info JSON\n",
            "[soundcloud] 471653754: Downloading hls_opus format info JSON\n",
            "[download] Downloading item 23 of 74\n",
            "[soundcloud] Extracting URL: https://soundcloud.com/ditherer/4-of-4-pony-rap-review-patient-zero-prod-the-wub-machine\n",
            "[soundcloud] ditherer/4-of-4-pony-rap-review-patient-zero-prod-the-wub-machine: Downloading info JSON\n",
            "[soundcloud] 468620991: Downloading original download format info JSON\n"
          ]
        },
        {
          "output_type": "stream",
          "name": "stderr",
          "text": [
            "WARNING: [soundcloud] Original download format is only available for registered users. Use --cookies, --cookies-from-browser, --username and --password, --netrc-cmd, or --netrc (soundcloud) to provide account credentials. See  https://github.com/yt-dlp/yt-dlp/wiki/FAQ#how-do-i-pass-cookies-to-yt-dlp  for how to manually pass cookies\n"
          ]
        },
        {
          "output_type": "stream",
          "name": "stdout",
          "text": [
            "[soundcloud] 468620991: Downloading hls_mp3 format info JSON\n",
            "[soundcloud] 468620991: Downloading http_mp3 format info JSON\n",
            "[soundcloud] 468620991: Downloading hls_opus format info JSON\n",
            "[download] Downloading item 24 of 74\n",
            "[soundcloud] Extracting URL: https://soundcloud.com/ditherer/halcyon-prod-blank-banshee\n",
            "[soundcloud] ditherer/halcyon-prod-blank-banshee: Downloading info JSON\n",
            "[soundcloud] 470658078: Downloading original download format info JSON\n"
          ]
        },
        {
          "output_type": "stream",
          "name": "stderr",
          "text": [
            "WARNING: [soundcloud] Original download format is only available for registered users. Use --cookies, --cookies-from-browser, --username and --password, --netrc-cmd, or --netrc (soundcloud) to provide account credentials. See  https://github.com/yt-dlp/yt-dlp/wiki/FAQ#how-do-i-pass-cookies-to-yt-dlp  for how to manually pass cookies\n"
          ]
        },
        {
          "output_type": "stream",
          "name": "stdout",
          "text": [
            "[soundcloud] 470658078: Downloading hls_mp3 format info JSON\n",
            "[soundcloud] 470658078: Downloading http_mp3 format info JSON\n",
            "[soundcloud] 470658078: Downloading hls_opus format info JSON\n",
            "[download] Downloading item 25 of 74\n",
            "[soundcloud] Extracting URL: https://soundcloud.com/ditherer/watching-paint-grow-prod-lord\n",
            "[soundcloud] ditherer/watching-paint-grow-prod-lord: Downloading info JSON\n",
            "[soundcloud] 443322828: Downloading original download format info JSON\n"
          ]
        },
        {
          "output_type": "stream",
          "name": "stderr",
          "text": [
            "WARNING: [soundcloud] Original download format is only available for registered users. Use --cookies, --cookies-from-browser, --username and --password, --netrc-cmd, or --netrc (soundcloud) to provide account credentials. See  https://github.com/yt-dlp/yt-dlp/wiki/FAQ#how-do-i-pass-cookies-to-yt-dlp  for how to manually pass cookies\n"
          ]
        },
        {
          "output_type": "stream",
          "name": "stdout",
          "text": [
            "[soundcloud] 443322828: Downloading hls_mp3 format info JSON\n",
            "[soundcloud] 443322828: Downloading http_mp3 format info JSON\n",
            "[soundcloud] 443322828: Downloading hls_opus format info JSON\n",
            "[download] Downloading item 26 of 74\n",
            "[soundcloud] Extracting URL: https://soundcloud.com/ditherer/greentexter-prod-dope-fiends\n",
            "[soundcloud] ditherer/greentexter-prod-dope-fiends: Downloading info JSON\n",
            "[soundcloud] 443322825: Downloading original download format info JSON\n"
          ]
        },
        {
          "output_type": "stream",
          "name": "stderr",
          "text": [
            "WARNING: [soundcloud] Original download format is only available for registered users. Use --cookies, --cookies-from-browser, --username and --password, --netrc-cmd, or --netrc (soundcloud) to provide account credentials. See  https://github.com/yt-dlp/yt-dlp/wiki/FAQ#how-do-i-pass-cookies-to-yt-dlp  for how to manually pass cookies\n"
          ]
        },
        {
          "output_type": "stream",
          "name": "stdout",
          "text": [
            "[soundcloud] 443322825: Downloading hls_mp3 format info JSON\n",
            "[soundcloud] 443322825: Downloading http_mp3 format info JSON\n",
            "[soundcloud] 443322825: Downloading hls_opus format info JSON\n",
            "[download] Downloading item 27 of 74\n",
            "[soundcloud] Extracting URL: https://soundcloud.com/ditherer/metempsychosis-part-i-samsara\n",
            "[soundcloud] ditherer/metempsychosis-part-i-samsara: Downloading info JSON\n",
            "[soundcloud] 443322813: Downloading original download format info JSON\n"
          ]
        },
        {
          "output_type": "stream",
          "name": "stderr",
          "text": [
            "WARNING: [soundcloud] Original download format is only available for registered users. Use --cookies, --cookies-from-browser, --username and --password, --netrc-cmd, or --netrc (soundcloud) to provide account credentials. See  https://github.com/yt-dlp/yt-dlp/wiki/FAQ#how-do-i-pass-cookies-to-yt-dlp  for how to manually pass cookies\n"
          ]
        },
        {
          "output_type": "stream",
          "name": "stdout",
          "text": [
            "[soundcloud] 443322813: Downloading hls_mp3 format info JSON\n",
            "[soundcloud] 443322813: Downloading http_mp3 format info JSON\n",
            "[soundcloud] 443322813: Downloading hls_opus format info JSON\n",
            "[download] Downloading item 28 of 74\n",
            "[soundcloud] Extracting URL: https://soundcloud.com/ditherer/berrytube-reprod-elxnce\n",
            "[soundcloud] ditherer/berrytube-reprod-elxnce: Downloading info JSON\n",
            "[soundcloud] 443322804: Downloading original download format info JSON\n"
          ]
        },
        {
          "output_type": "stream",
          "name": "stderr",
          "text": [
            "WARNING: [soundcloud] Original download format is only available for registered users. Use --cookies, --cookies-from-browser, --username and --password, --netrc-cmd, or --netrc (soundcloud) to provide account credentials. See  https://github.com/yt-dlp/yt-dlp/wiki/FAQ#how-do-i-pass-cookies-to-yt-dlp  for how to manually pass cookies\n"
          ]
        },
        {
          "output_type": "stream",
          "name": "stdout",
          "text": [
            "[soundcloud] 443322804: Downloading hls_mp3 format info JSON\n",
            "[soundcloud] 443322804: Downloading http_mp3 format info JSON\n",
            "[soundcloud] 443322804: Downloading hls_opus format info JSON\n",
            "[download] Downloading item 29 of 74\n",
            "[soundcloud] Extracting URL: https://soundcloud.com/ditherer/overdose-cypher-prod-d-range-1\n",
            "[soundcloud] ditherer/overdose-cypher-prod-d-range-1: Downloading info JSON\n",
            "[soundcloud] 443322795: Downloading original download format info JSON\n"
          ]
        },
        {
          "output_type": "stream",
          "name": "stderr",
          "text": [
            "WARNING: [soundcloud] Original download format is only available for registered users. Use --cookies, --cookies-from-browser, --username and --password, --netrc-cmd, or --netrc (soundcloud) to provide account credentials. See  https://github.com/yt-dlp/yt-dlp/wiki/FAQ#how-do-i-pass-cookies-to-yt-dlp  for how to manually pass cookies\n"
          ]
        },
        {
          "output_type": "stream",
          "name": "stdout",
          "text": [
            "[soundcloud] 443322795: Downloading hls_mp3 format info JSON\n",
            "[soundcloud] 443322795: Downloading http_mp3 format info JSON\n",
            "[soundcloud] 443322795: Downloading hls_opus format info JSON\n",
            "[download] Downloading item 30 of 74\n",
            "[soundcloud] Extracting URL: https://soundcloud.com/ditherer/quiet-hands-prod-homage\n",
            "[soundcloud] ditherer/quiet-hands-prod-homage: Downloading info JSON\n",
            "[soundcloud] 443322789: Downloading original download format info JSON\n"
          ]
        },
        {
          "output_type": "stream",
          "name": "stderr",
          "text": [
            "WARNING: [soundcloud] Original download format is only available for registered users. Use --cookies, --cookies-from-browser, --username and --password, --netrc-cmd, or --netrc (soundcloud) to provide account credentials. See  https://github.com/yt-dlp/yt-dlp/wiki/FAQ#how-do-i-pass-cookies-to-yt-dlp  for how to manually pass cookies\n"
          ]
        },
        {
          "output_type": "stream",
          "name": "stdout",
          "text": [
            "[soundcloud] 443322789: Downloading hls_mp3 format info JSON\n",
            "[soundcloud] 443322789: Downloading http_mp3 format info JSON\n",
            "[soundcloud] 443322789: Downloading hls_opus format info JSON\n",
            "[download] Downloading item 31 of 74\n",
            "[soundcloud] Extracting URL: https://soundcloud.com/ditherer/high-horse-prod-mad-money\n",
            "[soundcloud] ditherer/high-horse-prod-mad-money: Downloading info JSON\n",
            "[soundcloud] 443322786: Downloading original download format info JSON\n"
          ]
        },
        {
          "output_type": "stream",
          "name": "stderr",
          "text": [
            "WARNING: [soundcloud] Original download format is only available for registered users. Use --cookies, --cookies-from-browser, --username and --password, --netrc-cmd, or --netrc (soundcloud) to provide account credentials. See  https://github.com/yt-dlp/yt-dlp/wiki/FAQ#how-do-i-pass-cookies-to-yt-dlp  for how to manually pass cookies\n"
          ]
        },
        {
          "output_type": "stream",
          "name": "stdout",
          "text": [
            "[soundcloud] 443322786: Downloading hls_aac format info JSON\n",
            "[soundcloud] 443322786: Downloading hls_mp3 format info JSON\n",
            "[soundcloud] 443322786: Downloading http_mp3 format info JSON\n",
            "[soundcloud] 443322786: Downloading hls_opus format info JSON\n",
            "[download] Downloading item 32 of 74\n",
            "[soundcloud] Extracting URL: https://soundcloud.com/ditherer/bff-prod-mksb\n",
            "[soundcloud] ditherer/bff-prod-mksb: Downloading info JSON\n",
            "[soundcloud] 443322774: Downloading original download format info JSON\n"
          ]
        },
        {
          "output_type": "stream",
          "name": "stderr",
          "text": [
            "WARNING: [soundcloud] Original download format is only available for registered users. Use --cookies, --cookies-from-browser, --username and --password, --netrc-cmd, or --netrc (soundcloud) to provide account credentials. See  https://github.com/yt-dlp/yt-dlp/wiki/FAQ#how-do-i-pass-cookies-to-yt-dlp  for how to manually pass cookies\n"
          ]
        },
        {
          "output_type": "stream",
          "name": "stdout",
          "text": [
            "[soundcloud] 443322774: Downloading hls_mp3 format info JSON\n",
            "[soundcloud] 443322774: Downloading http_mp3 format info JSON\n",
            "[soundcloud] 443322774: Downloading hls_opus format info JSON\n",
            "[download] Downloading item 33 of 74\n",
            "[soundcloud] Extracting URL: https://soundcloud.com/ditherer/freefall-feat-omnee-potent\n",
            "[soundcloud] ditherer/freefall-feat-omnee-potent: Downloading info JSON\n",
            "[soundcloud] 436653039: Downloading original download format info JSON\n"
          ]
        },
        {
          "output_type": "stream",
          "name": "stderr",
          "text": [
            "WARNING: [soundcloud] Original download format is only available for registered users. Use --cookies, --cookies-from-browser, --username and --password, --netrc-cmd, or --netrc (soundcloud) to provide account credentials. See  https://github.com/yt-dlp/yt-dlp/wiki/FAQ#how-do-i-pass-cookies-to-yt-dlp  for how to manually pass cookies\n"
          ]
        },
        {
          "output_type": "stream",
          "name": "stdout",
          "text": [
            "[soundcloud] 436653039: Downloading hls_mp3 format info JSON\n",
            "[soundcloud] 436653039: Downloading http_mp3 format info JSON\n",
            "[soundcloud] 436653039: Downloading hls_opus format info JSON\n",
            "[download] Downloading item 34 of 74\n",
            "[soundcloud] Extracting URL: https://soundcloud.com/ditherer/folderol-prod-fravo\n",
            "[soundcloud] ditherer/folderol-prod-fravo: Downloading info JSON\n",
            "[soundcloud] 436652901: Downloading original download format info JSON\n"
          ]
        },
        {
          "output_type": "stream",
          "name": "stderr",
          "text": [
            "WARNING: [soundcloud] Original download format is only available for registered users. Use --cookies, --cookies-from-browser, --username and --password, --netrc-cmd, or --netrc (soundcloud) to provide account credentials. See  https://github.com/yt-dlp/yt-dlp/wiki/FAQ#how-do-i-pass-cookies-to-yt-dlp  for how to manually pass cookies\n"
          ]
        },
        {
          "output_type": "stream",
          "name": "stdout",
          "text": [
            "[soundcloud] 436652901: Downloading hls_mp3 format info JSON\n",
            "[soundcloud] 436652901: Downloading http_mp3 format info JSON\n",
            "[soundcloud] 436652901: Downloading hls_opus format info JSON\n",
            "[download] Downloading item 35 of 74\n",
            "[soundcloud] Extracting URL: https://soundcloud.com/ditherer/another-luna-song-prod-illuminabeats\n",
            "[soundcloud] ditherer/another-luna-song-prod-illuminabeats: Downloading info JSON\n",
            "[soundcloud] 436652877: Downloading original download format info JSON\n"
          ]
        },
        {
          "output_type": "stream",
          "name": "stderr",
          "text": [
            "WARNING: [soundcloud] Original download format is only available for registered users. Use --cookies, --cookies-from-browser, --username and --password, --netrc-cmd, or --netrc (soundcloud) to provide account credentials. See  https://github.com/yt-dlp/yt-dlp/wiki/FAQ#how-do-i-pass-cookies-to-yt-dlp  for how to manually pass cookies\n"
          ]
        },
        {
          "output_type": "stream",
          "name": "stdout",
          "text": [
            "[soundcloud] 436652877: Downloading hls_mp3 format info JSON\n",
            "[soundcloud] 436652877: Downloading http_mp3 format info JSON\n",
            "[soundcloud] 436652877: Downloading hls_opus format info JSON\n",
            "[download] Downloading item 36 of 74\n",
            "[soundcloud] Extracting URL: https://soundcloud.com/ditherer/jamais-vu-prod-dvckass\n",
            "[soundcloud] ditherer/jamais-vu-prod-dvckass: Downloading info JSON\n",
            "[soundcloud] 436652841: Downloading original download format info JSON\n"
          ]
        },
        {
          "output_type": "stream",
          "name": "stderr",
          "text": [
            "WARNING: [soundcloud] Original download format is only available for registered users. Use --cookies, --cookies-from-browser, --username and --password, --netrc-cmd, or --netrc (soundcloud) to provide account credentials. See  https://github.com/yt-dlp/yt-dlp/wiki/FAQ#how-do-i-pass-cookies-to-yt-dlp  for how to manually pass cookies\n"
          ]
        },
        {
          "output_type": "stream",
          "name": "stdout",
          "text": [
            "[soundcloud] 436652841: Downloading hls_mp3 format info JSON\n",
            "[soundcloud] 436652841: Downloading http_mp3 format info JSON\n",
            "[soundcloud] 436652841: Downloading hls_opus format info JSON\n",
            "[download] Downloading item 37 of 74\n",
            "[soundcloud] Extracting URL: https://soundcloud.com/ditherer/fuck-doctor-whooves-prod-hardy\n",
            "[soundcloud] ditherer/fuck-doctor-whooves-prod-hardy: Downloading info JSON\n",
            "[soundcloud] 433720737: Downloading original download format info JSON\n"
          ]
        },
        {
          "output_type": "stream",
          "name": "stderr",
          "text": [
            "WARNING: [soundcloud] Original download format is only available for registered users. Use --cookies, --cookies-from-browser, --username and --password, --netrc-cmd, or --netrc (soundcloud) to provide account credentials. See  https://github.com/yt-dlp/yt-dlp/wiki/FAQ#how-do-i-pass-cookies-to-yt-dlp  for how to manually pass cookies\n"
          ]
        },
        {
          "output_type": "stream",
          "name": "stdout",
          "text": [
            "[soundcloud] 433720737: Downloading hls_mp3 format info JSON\n",
            "[soundcloud] 433720737: Downloading http_mp3 format info JSON\n",
            "[soundcloud] 433720737: Downloading hls_opus format info JSON\n",
            "[download] Downloading item 38 of 74\n",
            "[soundcloud] Extracting URL: https://soundcloud.com/ditherer/ballyhoo-retake-prod-thegrasssaysmoooo\n",
            "[soundcloud] ditherer/ballyhoo-retake-prod-thegrasssaysmoooo: Downloading info JSON\n",
            "[soundcloud] 433720716: Downloading original download format info JSON\n"
          ]
        },
        {
          "output_type": "stream",
          "name": "stderr",
          "text": [
            "WARNING: [soundcloud] Original download format is only available for registered users. Use --cookies, --cookies-from-browser, --username and --password, --netrc-cmd, or --netrc (soundcloud) to provide account credentials. See  https://github.com/yt-dlp/yt-dlp/wiki/FAQ#how-do-i-pass-cookies-to-yt-dlp  for how to manually pass cookies\n"
          ]
        },
        {
          "output_type": "stream",
          "name": "stdout",
          "text": [
            "[soundcloud] 433720716: Downloading hls_mp3 format info JSON\n",
            "[soundcloud] 433720716: Downloading http_mp3 format info JSON\n",
            "[soundcloud] 433720716: Downloading hls_opus format info JSON\n",
            "[download] Downloading item 39 of 74\n",
            "[soundcloud] Extracting URL: https://soundcloud.com/ditherer/shes-not-real-retake-prod-feelo\n",
            "[soundcloud] ditherer/shes-not-real-retake-prod-feelo: Downloading info JSON\n",
            "[soundcloud] 433720686: Downloading original download format info JSON\n"
          ]
        },
        {
          "output_type": "stream",
          "name": "stderr",
          "text": [
            "WARNING: [soundcloud] Original download format is only available for registered users. Use --cookies, --cookies-from-browser, --username and --password, --netrc-cmd, or --netrc (soundcloud) to provide account credentials. See  https://github.com/yt-dlp/yt-dlp/wiki/FAQ#how-do-i-pass-cookies-to-yt-dlp  for how to manually pass cookies\n"
          ]
        },
        {
          "output_type": "stream",
          "name": "stdout",
          "text": [
            "[soundcloud] 433720686: Downloading hls_mp3 format info JSON\n",
            "[soundcloud] 433720686: Downloading http_mp3 format info JSON\n",
            "[soundcloud] 433720686: Downloading hls_opus format info JSON\n",
            "[download] Downloading item 40 of 74\n",
            "[soundcloud] Extracting URL: https://soundcloud.com/ditherer/duke-westlake-cypher-retake\n",
            "[soundcloud] ditherer/duke-westlake-cypher-retake: Downloading info JSON\n",
            "[soundcloud] 433720647: Downloading original download format info JSON\n"
          ]
        },
        {
          "output_type": "stream",
          "name": "stderr",
          "text": [
            "WARNING: [soundcloud] Original download format is only available for registered users. Use --cookies, --cookies-from-browser, --username and --password, --netrc-cmd, or --netrc (soundcloud) to provide account credentials. See  https://github.com/yt-dlp/yt-dlp/wiki/FAQ#how-do-i-pass-cookies-to-yt-dlp  for how to manually pass cookies\n"
          ]
        },
        {
          "output_type": "stream",
          "name": "stdout",
          "text": [
            "[soundcloud] 433720647: Downloading hls_aac format info JSON\n",
            "[soundcloud] 433720647: Downloading hls_mp3 format info JSON\n",
            "[soundcloud] 433720647: Downloading http_mp3 format info JSON\n",
            "[soundcloud] 433720647: Downloading hls_opus format info JSON\n",
            "[download] Downloading item 41 of 74\n",
            "[soundcloud] Extracting URL: https://soundcloud.com/ditherer/the-gunslinger-retake-prod-jesse-james\n",
            "[soundcloud] ditherer/the-gunslinger-retake-prod-jesse-james: Downloading info JSON\n",
            "[soundcloud] 433720623: Downloading original download format info JSON\n"
          ]
        },
        {
          "output_type": "stream",
          "name": "stderr",
          "text": [
            "WARNING: [soundcloud] Original download format is only available for registered users. Use --cookies, --cookies-from-browser, --username and --password, --netrc-cmd, or --netrc (soundcloud) to provide account credentials. See  https://github.com/yt-dlp/yt-dlp/wiki/FAQ#how-do-i-pass-cookies-to-yt-dlp  for how to manually pass cookies\n"
          ]
        },
        {
          "output_type": "stream",
          "name": "stdout",
          "text": [
            "[soundcloud] 433720623: Downloading hls_mp3 format info JSON\n",
            "[soundcloud] 433720623: Downloading http_mp3 format info JSON\n",
            "[soundcloud] 433720623: Downloading hls_opus format info JSON\n",
            "[download] Downloading item 42 of 74\n",
            "[soundcloud] Extracting URL: https://soundcloud.com/ditherer/shes-not-real-prod-feelo\n",
            "[soundcloud] ditherer/shes-not-real-prod-feelo: Downloading info JSON\n",
            "[soundcloud] 430792713: Downloading original download format info JSON\n"
          ]
        },
        {
          "output_type": "stream",
          "name": "stderr",
          "text": [
            "WARNING: [soundcloud] Original download format is only available for registered users. Use --cookies, --cookies-from-browser, --username and --password, --netrc-cmd, or --netrc (soundcloud) to provide account credentials. See  https://github.com/yt-dlp/yt-dlp/wiki/FAQ#how-do-i-pass-cookies-to-yt-dlp  for how to manually pass cookies\n"
          ]
        },
        {
          "output_type": "stream",
          "name": "stdout",
          "text": [
            "[soundcloud] 430792713: Downloading hls_mp3 format info JSON\n",
            "[soundcloud] 430792713: Downloading http_mp3 format info JSON\n",
            "[soundcloud] 430792713: Downloading hls_opus format info JSON\n",
            "[download] Downloading item 43 of 74\n",
            "[soundcloud] Extracting URL: https://soundcloud.com/ditherer/ballyhoo-prod-thegrasssaysmoooo\n",
            "[soundcloud] ditherer/ballyhoo-prod-thegrasssaysmoooo: Downloading info JSON\n",
            "[soundcloud] 430791567: Downloading original download format info JSON\n"
          ]
        },
        {
          "output_type": "stream",
          "name": "stderr",
          "text": [
            "WARNING: [soundcloud] Original download format is only available for registered users. Use --cookies, --cookies-from-browser, --username and --password, --netrc-cmd, or --netrc (soundcloud) to provide account credentials. See  https://github.com/yt-dlp/yt-dlp/wiki/FAQ#how-do-i-pass-cookies-to-yt-dlp  for how to manually pass cookies\n"
          ]
        },
        {
          "output_type": "stream",
          "name": "stdout",
          "text": [
            "[soundcloud] 430791567: Downloading hls_aac format info JSON\n",
            "[soundcloud] 430791567: Downloading hls_mp3 format info JSON\n",
            "[soundcloud] 430791567: Downloading http_mp3 format info JSON\n",
            "[soundcloud] 430791567: Downloading hls_opus format info JSON\n",
            "[download] Downloading item 44 of 74\n",
            "[soundcloud] Extracting URL: https://soundcloud.com/ditherer/duke-westlake-cypher\n",
            "[soundcloud] ditherer/duke-westlake-cypher: Downloading info JSON\n",
            "[soundcloud] 430790772: Downloading original download format info JSON\n"
          ]
        },
        {
          "output_type": "stream",
          "name": "stderr",
          "text": [
            "WARNING: [soundcloud] Original download format is only available for registered users. Use --cookies, --cookies-from-browser, --username and --password, --netrc-cmd, or --netrc (soundcloud) to provide account credentials. See  https://github.com/yt-dlp/yt-dlp/wiki/FAQ#how-do-i-pass-cookies-to-yt-dlp  for how to manually pass cookies\n"
          ]
        },
        {
          "output_type": "stream",
          "name": "stdout",
          "text": [
            "[soundcloud] 430790772: Downloading hls_mp3 format info JSON\n",
            "[soundcloud] 430790772: Downloading http_mp3 format info JSON\n",
            "[soundcloud] 430790772: Downloading hls_opus format info JSON\n",
            "[download] Downloading item 45 of 74\n",
            "[soundcloud] Extracting URL: https://soundcloud.com/ditherer/the-gunslinger-prod-jesse-james\n",
            "[soundcloud] ditherer/the-gunslinger-prod-jesse-james: Downloading info JSON\n",
            "[soundcloud] 430790145: Downloading original download format info JSON\n"
          ]
        },
        {
          "output_type": "stream",
          "name": "stderr",
          "text": [
            "WARNING: [soundcloud] Original download format is only available for registered users. Use --cookies, --cookies-from-browser, --username and --password, --netrc-cmd, or --netrc (soundcloud) to provide account credentials. See  https://github.com/yt-dlp/yt-dlp/wiki/FAQ#how-do-i-pass-cookies-to-yt-dlp  for how to manually pass cookies\n"
          ]
        },
        {
          "output_type": "stream",
          "name": "stdout",
          "text": [
            "[soundcloud] 430790145: Downloading hls_mp3 format info JSON\n",
            "[soundcloud] 430790145: Downloading http_mp3 format info JSON\n",
            "[soundcloud] 430790145: Downloading hls_opus format info JSON\n",
            "[download] Downloading item 46 of 74\n",
            "[soundcloud] Extracting URL: https://soundcloud.com/ditherer/ditherer-remembers-twenty-ten-pillar-of-salt-remaster-prod-syndrome\n",
            "[soundcloud] ditherer/ditherer-remembers-twenty-ten-pillar-of-salt-remaster-prod-syndrome: Downloading info JSON\n",
            "[soundcloud] 425462391: Downloading original download format info JSON\n"
          ]
        },
        {
          "output_type": "stream",
          "name": "stderr",
          "text": [
            "WARNING: [soundcloud] Original download format is only available for registered users. Use --cookies, --cookies-from-browser, --username and --password, --netrc-cmd, or --netrc (soundcloud) to provide account credentials. See  https://github.com/yt-dlp/yt-dlp/wiki/FAQ#how-do-i-pass-cookies-to-yt-dlp  for how to manually pass cookies\n"
          ]
        },
        {
          "output_type": "stream",
          "name": "stdout",
          "text": [
            "[soundcloud] 425462391: Downloading hls_mp3 format info JSON\n",
            "[soundcloud] 425462391: Downloading http_mp3 format info JSON\n",
            "[soundcloud] 425462391: Downloading hls_opus format info JSON\n",
            "[download] Downloading item 47 of 74\n",
            "[soundcloud] Extracting URL: https://soundcloud.com/ditherer/dithbabscon-prod-illy-fih\n",
            "[soundcloud] ditherer/dithbabscon-prod-illy-fih: Downloading info JSON\n",
            "[soundcloud] 422585985: Downloading original download format info JSON\n"
          ]
        },
        {
          "output_type": "stream",
          "name": "stderr",
          "text": [
            "WARNING: [soundcloud] Original download format is only available for registered users. Use --cookies, --cookies-from-browser, --username and --password, --netrc-cmd, or --netrc (soundcloud) to provide account credentials. See  https://github.com/yt-dlp/yt-dlp/wiki/FAQ#how-do-i-pass-cookies-to-yt-dlp  for how to manually pass cookies\n"
          ]
        },
        {
          "output_type": "stream",
          "name": "stdout",
          "text": [
            "[soundcloud] 422585985: Downloading hls_mp3 format info JSON\n",
            "[soundcloud] 422585985: Downloading http_mp3 format info JSON\n",
            "[soundcloud] 422585985: Downloading hls_opus format info JSON\n",
            "[download] Downloading item 48 of 74\n",
            "[soundcloud] Extracting URL: https://soundcloud.com/ditherer/austraeoh-no-intro-prod-hay-tea\n",
            "[soundcloud] ditherer/austraeoh-no-intro-prod-hay-tea: Downloading info JSON\n",
            "[soundcloud] 420526416: Downloading original download format info JSON\n"
          ]
        },
        {
          "output_type": "stream",
          "name": "stderr",
          "text": [
            "WARNING: [soundcloud] Original download format is only available for registered users. Use --cookies, --cookies-from-browser, --username and --password, --netrc-cmd, or --netrc (soundcloud) to provide account credentials. See  https://github.com/yt-dlp/yt-dlp/wiki/FAQ#how-do-i-pass-cookies-to-yt-dlp  for how to manually pass cookies\n"
          ]
        },
        {
          "output_type": "stream",
          "name": "stdout",
          "text": [
            "[soundcloud] 420526416: Downloading hls_mp3 format info JSON\n",
            "[soundcloud] 420526416: Downloading http_mp3 format info JSON\n",
            "[soundcloud] 420526416: Downloading hls_opus format info JSON\n",
            "[download] Downloading item 49 of 74\n",
            "[soundcloud] Extracting URL: https://soundcloud.com/ditherer/austraeoh-prod-hay-tea\n",
            "[soundcloud] ditherer/austraeoh-prod-hay-tea: Downloading info JSON\n",
            "[soundcloud] 420525812: Downloading original download format info JSON\n"
          ]
        },
        {
          "output_type": "stream",
          "name": "stderr",
          "text": [
            "WARNING: [soundcloud] Original download format is only available for registered users. Use --cookies, --cookies-from-browser, --username and --password, --netrc-cmd, or --netrc (soundcloud) to provide account credentials. See  https://github.com/yt-dlp/yt-dlp/wiki/FAQ#how-do-i-pass-cookies-to-yt-dlp  for how to manually pass cookies\n"
          ]
        },
        {
          "output_type": "stream",
          "name": "stdout",
          "text": [
            "[soundcloud] 420525812: Downloading hls_mp3 format info JSON\n",
            "[soundcloud] 420525812: Downloading http_mp3 format info JSON\n",
            "[soundcloud] 420525812: Downloading hls_opus format info JSON\n",
            "[download] Downloading item 50 of 74\n",
            "[soundcloud] Extracting URL: https://soundcloud.com/ditherer/premiere-prod-hlbak\n",
            "[soundcloud] ditherer/premiere-prod-hlbak: Downloading info JSON\n",
            "[soundcloud] 418959708: Downloading original download format info JSON\n"
          ]
        },
        {
          "output_type": "stream",
          "name": "stderr",
          "text": [
            "WARNING: [soundcloud] Original download format is only available for registered users. Use --cookies, --cookies-from-browser, --username and --password, --netrc-cmd, or --netrc (soundcloud) to provide account credentials. See  https://github.com/yt-dlp/yt-dlp/wiki/FAQ#how-do-i-pass-cookies-to-yt-dlp  for how to manually pass cookies\n"
          ]
        },
        {
          "output_type": "stream",
          "name": "stdout",
          "text": [
            "[soundcloud] 418959708: Downloading hls_mp3 format info JSON\n",
            "[soundcloud] 418959708: Downloading http_mp3 format info JSON\n",
            "[soundcloud] 418959708: Downloading hls_opus format info JSON\n",
            "[download] Downloading item 51 of 74\n",
            "[soundcloud] Extracting URL: https://soundcloud.com/ditherer/voided-prod-alfredwars\n",
            "[soundcloud] ditherer/voided-prod-alfredwars: Downloading info JSON\n",
            "[soundcloud] 418957056: Downloading original download format info JSON\n"
          ]
        },
        {
          "output_type": "stream",
          "name": "stderr",
          "text": [
            "WARNING: [soundcloud] Original download format is only available for registered users. Use --cookies, --cookies-from-browser, --username and --password, --netrc-cmd, or --netrc (soundcloud) to provide account credentials. See  https://github.com/yt-dlp/yt-dlp/wiki/FAQ#how-do-i-pass-cookies-to-yt-dlp  for how to manually pass cookies\n"
          ]
        },
        {
          "output_type": "stream",
          "name": "stdout",
          "text": [
            "[soundcloud] 418957056: Downloading hls_mp3 format info JSON\n",
            "[soundcloud] 418957056: Downloading http_mp3 format info JSON\n",
            "[soundcloud] 418957056: Downloading hls_opus format info JSON\n",
            "[download] Downloading item 52 of 74\n",
            "[soundcloud] Extracting URL: https://soundcloud.com/ditherer/horse-maf-prod-a-ii\n",
            "[soundcloud] ditherer/horse-maf-prod-a-ii: Downloading info JSON\n",
            "[soundcloud] 418954852: Downloading original download format info JSON\n"
          ]
        },
        {
          "output_type": "stream",
          "name": "stderr",
          "text": [
            "WARNING: [soundcloud] Original download format is only available for registered users. Use --cookies, --cookies-from-browser, --username and --password, --netrc-cmd, or --netrc (soundcloud) to provide account credentials. See  https://github.com/yt-dlp/yt-dlp/wiki/FAQ#how-do-i-pass-cookies-to-yt-dlp  for how to manually pass cookies\n"
          ]
        },
        {
          "output_type": "stream",
          "name": "stdout",
          "text": [
            "[soundcloud] 418954852: Downloading hls_mp3 format info JSON\n",
            "[soundcloud] 418954852: Downloading http_mp3 format info JSON\n",
            "[soundcloud] 418954852: Downloading hls_opus format info JSON\n",
            "[download] Downloading item 53 of 74\n",
            "[soundcloud] Extracting URL: https://soundcloud.com/ditherer/dithyramb-prod-zeeky-beats\n",
            "[soundcloud] ditherer/dithyramb-prod-zeeky-beats: Downloading info JSON\n",
            "[soundcloud] 418060824: Downloading original download format info JSON\n"
          ]
        },
        {
          "output_type": "stream",
          "name": "stderr",
          "text": [
            "WARNING: [soundcloud] Original download format is only available for registered users. Use --cookies, --cookies-from-browser, --username and --password, --netrc-cmd, or --netrc (soundcloud) to provide account credentials. See  https://github.com/yt-dlp/yt-dlp/wiki/FAQ#how-do-i-pass-cookies-to-yt-dlp  for how to manually pass cookies\n"
          ]
        },
        {
          "output_type": "stream",
          "name": "stdout",
          "text": [
            "[soundcloud] 418060824: Downloading hls_mp3 format info JSON\n",
            "[soundcloud] 418060824: Downloading http_mp3 format info JSON\n",
            "[soundcloud] 418060824: Downloading hls_opus format info JSON\n",
            "[download] Downloading item 54 of 74\n",
            "[soundcloud] Extracting URL: https://soundcloud.com/ditherer/juicy-juice-prod-ben-the-butcher\n",
            "[soundcloud] ditherer/juicy-juice-prod-ben-the-butcher: Downloading info JSON\n",
            "[soundcloud] 416832351: Downloading original download format info JSON\n"
          ]
        },
        {
          "output_type": "stream",
          "name": "stderr",
          "text": [
            "WARNING: [soundcloud] Original download format is only available for registered users. Use --cookies, --cookies-from-browser, --username and --password, --netrc-cmd, or --netrc (soundcloud) to provide account credentials. See  https://github.com/yt-dlp/yt-dlp/wiki/FAQ#how-do-i-pass-cookies-to-yt-dlp  for how to manually pass cookies\n"
          ]
        },
        {
          "output_type": "stream",
          "name": "stdout",
          "text": [
            "[soundcloud] 416832351: Downloading hls_mp3 format info JSON\n",
            "[soundcloud] 416832351: Downloading http_mp3 format info JSON\n",
            "[soundcloud] 416832351: Downloading hls_opus format info JSON\n",
            "[download] Downloading item 55 of 74\n",
            "[soundcloud] Extracting URL: https://soundcloud.com/ditherer/final-hour-cypher-prod-sin7ven\n",
            "[soundcloud] ditherer/final-hour-cypher-prod-sin7ven: Downloading info JSON\n",
            "[soundcloud] 415787667: Downloading hls_aac format info JSON\n",
            "[soundcloud] 415787667: Downloading hls_mp3 format info JSON\n",
            "[soundcloud] 415787667: Downloading http_mp3 format info JSON\n",
            "[soundcloud] 415787667: Downloading hls_opus format info JSON\n",
            "[download] Downloading item 56 of 74\n",
            "[soundcloud] Extracting URL: https://soundcloud.com/ditherer/pillar-of-salt-prod-syndrome\n",
            "[soundcloud] ditherer/pillar-of-salt-prod-syndrome: Downloading info JSON\n",
            "[soundcloud] 415320288: Downloading original download format info JSON\n"
          ]
        },
        {
          "output_type": "stream",
          "name": "stderr",
          "text": [
            "WARNING: [soundcloud] Original download format is only available for registered users. Use --cookies, --cookies-from-browser, --username and --password, --netrc-cmd, or --netrc (soundcloud) to provide account credentials. See  https://github.com/yt-dlp/yt-dlp/wiki/FAQ#how-do-i-pass-cookies-to-yt-dlp  for how to manually pass cookies\n"
          ]
        },
        {
          "output_type": "stream",
          "name": "stdout",
          "text": [
            "[soundcloud] 415320288: Downloading hls_mp3 format info JSON\n",
            "[soundcloud] 415320288: Downloading http_mp3 format info JSON\n",
            "[soundcloud] 415320288: Downloading hls_opus format info JSON\n",
            "[download] Downloading item 57 of 74\n",
            "[soundcloud] Extracting URL: https://soundcloud.com/ditherer/splash-prod-frakcija\n",
            "[soundcloud] ditherer/splash-prod-frakcija: Downloading info JSON\n",
            "[soundcloud] 415318167: Downloading original download format info JSON\n"
          ]
        },
        {
          "output_type": "stream",
          "name": "stderr",
          "text": [
            "WARNING: [soundcloud] Original download format is only available for registered users. Use --cookies, --cookies-from-browser, --username and --password, --netrc-cmd, or --netrc (soundcloud) to provide account credentials. See  https://github.com/yt-dlp/yt-dlp/wiki/FAQ#how-do-i-pass-cookies-to-yt-dlp  for how to manually pass cookies\n"
          ]
        },
        {
          "output_type": "stream",
          "name": "stdout",
          "text": [
            "[soundcloud] 415318167: Downloading hls_mp3 format info JSON\n",
            "[soundcloud] 415318167: Downloading http_mp3 format info JSON\n",
            "[soundcloud] 415318167: Downloading hls_opus format info JSON\n",
            "[download] Downloading item 58 of 74\n",
            "[soundcloud] Extracting URL: https://soundcloud.com/ditherer/its-the-story-prod-jay-debussy\n",
            "[soundcloud] ditherer/its-the-story-prod-jay-debussy: Downloading info JSON\n",
            "[soundcloud] 413847495: Downloading hls_mp3 format info JSON\n",
            "[soundcloud] 413847495: Downloading http_mp3 format info JSON\n",
            "[soundcloud] 413847495: Downloading hls_opus format info JSON\n",
            "[download] Downloading item 59 of 74\n",
            "[soundcloud] Extracting URL: https://soundcloud.com/ditherer/stormgang-prod-ego-melt-en\n",
            "[soundcloud] ditherer/stormgang-prod-ego-melt-en: Downloading info JSON\n",
            "[soundcloud] 408336438: Downloading original download format info JSON\n"
          ]
        },
        {
          "output_type": "stream",
          "name": "stderr",
          "text": [
            "WARNING: [soundcloud] Original download format is only available for registered users. Use --cookies, --cookies-from-browser, --username and --password, --netrc-cmd, or --netrc (soundcloud) to provide account credentials. See  https://github.com/yt-dlp/yt-dlp/wiki/FAQ#how-do-i-pass-cookies-to-yt-dlp  for how to manually pass cookies\n"
          ]
        },
        {
          "output_type": "stream",
          "name": "stdout",
          "text": [
            "[soundcloud] 408336438: Downloading hls_mp3 format info JSON\n",
            "[soundcloud] 408336438: Downloading http_mp3 format info JSON\n",
            "[soundcloud] 408336438: Downloading hls_opus format info JSON\n",
            "[download] Downloading item 60 of 74\n",
            "[soundcloud] Extracting URL: https://soundcloud.com/ditherer/career-limiting-prod-profound-beats\n",
            "[soundcloud] ditherer/career-limiting-prod-profound-beats: Downloading info JSON\n",
            "[soundcloud] 405225432: Downloading original download format info JSON\n"
          ]
        },
        {
          "output_type": "stream",
          "name": "stderr",
          "text": [
            "WARNING: [soundcloud] Original download format is only available for registered users. Use --cookies, --cookies-from-browser, --username and --password, --netrc-cmd, or --netrc (soundcloud) to provide account credentials. See  https://github.com/yt-dlp/yt-dlp/wiki/FAQ#how-do-i-pass-cookies-to-yt-dlp  for how to manually pass cookies\n"
          ]
        },
        {
          "output_type": "stream",
          "name": "stdout",
          "text": [
            "[soundcloud] 405225432: Downloading hls_mp3 format info JSON\n",
            "[soundcloud] 405225432: Downloading http_mp3 format info JSON\n",
            "[soundcloud] 405225432: Downloading hls_opus format info JSON\n",
            "[download] Downloading item 61 of 74\n",
            "[soundcloud] Extracting URL: https://soundcloud.com/ditherer/dont-got-a-lisp-prod-illuminabeats\n",
            "[soundcloud] ditherer/dont-got-a-lisp-prod-illuminabeats: Downloading info JSON\n",
            "[soundcloud] 404018556: Downloading original download format info JSON\n"
          ]
        },
        {
          "output_type": "stream",
          "name": "stderr",
          "text": [
            "WARNING: [soundcloud] Original download format is only available for registered users. Use --cookies, --cookies-from-browser, --username and --password, --netrc-cmd, or --netrc (soundcloud) to provide account credentials. See  https://github.com/yt-dlp/yt-dlp/wiki/FAQ#how-do-i-pass-cookies-to-yt-dlp  for how to manually pass cookies\n"
          ]
        },
        {
          "output_type": "stream",
          "name": "stdout",
          "text": [
            "[soundcloud] 404018556: Downloading hls_mp3 format info JSON\n",
            "[soundcloud] 404018556: Downloading http_mp3 format info JSON\n",
            "[soundcloud] 404018556: Downloading hls_opus format info JSON\n",
            "[download] Downloading item 62 of 74\n",
            "[soundcloud] Extracting URL: https://soundcloud.com/ditherer/transmigratory-emission-prod-korabeats\n",
            "[soundcloud] ditherer/transmigratory-emission-prod-korabeats: Downloading info JSON\n",
            "[soundcloud] 404018547: Downloading original download format info JSON\n"
          ]
        },
        {
          "output_type": "stream",
          "name": "stderr",
          "text": [
            "WARNING: [soundcloud] Original download format is only available for registered users. Use --cookies, --cookies-from-browser, --username and --password, --netrc-cmd, or --netrc (soundcloud) to provide account credentials. See  https://github.com/yt-dlp/yt-dlp/wiki/FAQ#how-do-i-pass-cookies-to-yt-dlp  for how to manually pass cookies\n"
          ]
        },
        {
          "output_type": "stream",
          "name": "stdout",
          "text": [
            "[soundcloud] 404018547: Downloading hls_mp3 format info JSON\n",
            "[soundcloud] 404018547: Downloading http_mp3 format info JSON\n",
            "[soundcloud] 404018547: Downloading hls_opus format info JSON\n",
            "[download] Downloading item 63 of 74\n",
            "[soundcloud] Extracting URL: https://soundcloud.com/ditherer/the-evil-pony-nightmare-moon-prod-the-living-tombstone\n",
            "[soundcloud] ditherer/the-evil-pony-nightmare-moon-prod-the-living-tombstone: Downloading info JSON\n",
            "[soundcloud] 402786543: Downloading original download format info JSON\n"
          ]
        },
        {
          "output_type": "stream",
          "name": "stderr",
          "text": [
            "WARNING: [soundcloud] Original download format is only available for registered users. Use --cookies, --cookies-from-browser, --username and --password, --netrc-cmd, or --netrc (soundcloud) to provide account credentials. See  https://github.com/yt-dlp/yt-dlp/wiki/FAQ#how-do-i-pass-cookies-to-yt-dlp  for how to manually pass cookies\n"
          ]
        },
        {
          "output_type": "stream",
          "name": "stdout",
          "text": [
            "[soundcloud] 402786543: Downloading hls_mp3 format info JSON\n",
            "[soundcloud] 402786543: Downloading http_mp3 format info JSON\n",
            "[soundcloud] 402786543: Downloading hls_opus format info JSON\n",
            "[download] Downloading item 64 of 74\n",
            "[soundcloud] Extracting URL: https://soundcloud.com/ditherer/year-of-no-fearprod-delariva\n",
            "[soundcloud] ditherer/year-of-no-fearprod-delariva: Downloading info JSON\n",
            "[soundcloud] 378022586: Downloading hls_mp3 format info JSON\n",
            "[soundcloud] 378022586: Downloading http_mp3 format info JSON\n",
            "[soundcloud] 378022586: Downloading hls_opus format info JSON\n",
            "[download] Downloading item 65 of 74\n",
            "[soundcloud] Extracting URL: https://soundcloud.com/ditherer/yung-snail-farmer-prod-eyenine\n",
            "[soundcloud] ditherer/yung-snail-farmer-prod-eyenine: Downloading info JSON\n",
            "[soundcloud] 364712726: Downloading original download format info JSON\n"
          ]
        },
        {
          "output_type": "stream",
          "name": "stderr",
          "text": [
            "WARNING: [soundcloud] Original download format is only available for registered users. Use --cookies, --cookies-from-browser, --username and --password, --netrc-cmd, or --netrc (soundcloud) to provide account credentials. See  https://github.com/yt-dlp/yt-dlp/wiki/FAQ#how-do-i-pass-cookies-to-yt-dlp  for how to manually pass cookies\n"
          ]
        },
        {
          "output_type": "stream",
          "name": "stdout",
          "text": [
            "[soundcloud] 364712726: Downloading hls_mp3 format info JSON\n",
            "[soundcloud] 364712726: Downloading http_mp3 format info JSON\n",
            "[soundcloud] 364712726: Downloading hls_opus format info JSON\n",
            "[download] Downloading item 66 of 74\n",
            "[soundcloud] Extracting URL: https://soundcloud.com/ditherer/act-four-prod-kri-ma-din\n",
            "[soundcloud] ditherer/act-four-prod-kri-ma-din: Downloading info JSON\n",
            "[soundcloud] 364664516: Downloading original download format info JSON\n"
          ]
        },
        {
          "output_type": "stream",
          "name": "stderr",
          "text": [
            "WARNING: [soundcloud] Original download format is only available for registered users. Use --cookies, --cookies-from-browser, --username and --password, --netrc-cmd, or --netrc (soundcloud) to provide account credentials. See  https://github.com/yt-dlp/yt-dlp/wiki/FAQ#how-do-i-pass-cookies-to-yt-dlp  for how to manually pass cookies\n"
          ]
        },
        {
          "output_type": "stream",
          "name": "stdout",
          "text": [
            "[soundcloud] 364664516: Downloading hls_mp3 format info JSON\n",
            "[soundcloud] 364664516: Downloading http_mp3 format info JSON\n",
            "[soundcloud] 364664516: Downloading hls_opus format info JSON\n",
            "[download] Downloading item 67 of 74\n",
            "[soundcloud] Extracting URL: https://soundcloud.com/ditherer/little-bunny-foo-foo-prod-zent\n",
            "[soundcloud] ditherer/little-bunny-foo-foo-prod-zent: Downloading info JSON\n",
            "[soundcloud] 364664501: Downloading original download format info JSON\n"
          ]
        },
        {
          "output_type": "stream",
          "name": "stderr",
          "text": [
            "WARNING: [soundcloud] Original download format is only available for registered users. Use --cookies, --cookies-from-browser, --username and --password, --netrc-cmd, or --netrc (soundcloud) to provide account credentials. See  https://github.com/yt-dlp/yt-dlp/wiki/FAQ#how-do-i-pass-cookies-to-yt-dlp  for how to manually pass cookies\n"
          ]
        },
        {
          "output_type": "stream",
          "name": "stdout",
          "text": [
            "[soundcloud] 364664501: Downloading hls_mp3 format info JSON\n",
            "[soundcloud] 364664501: Downloading http_mp3 format info JSON\n",
            "[soundcloud] 364664501: Downloading hls_opus format info JSON\n",
            "[download] Downloading item 68 of 74\n",
            "[soundcloud] Extracting URL: https://soundcloud.com/ditherer/vola-vola-prod-oculus\n",
            "[soundcloud] ditherer/vola-vola-prod-oculus: Downloading info JSON\n",
            "[soundcloud] 360750002: Downloading original download format info JSON\n"
          ]
        },
        {
          "output_type": "stream",
          "name": "stderr",
          "text": [
            "WARNING: [soundcloud] Original download format is only available for registered users. Use --cookies, --cookies-from-browser, --username and --password, --netrc-cmd, or --netrc (soundcloud) to provide account credentials. See  https://github.com/yt-dlp/yt-dlp/wiki/FAQ#how-do-i-pass-cookies-to-yt-dlp  for how to manually pass cookies\n"
          ]
        },
        {
          "output_type": "stream",
          "name": "stdout",
          "text": [
            "[soundcloud] 360750002: Downloading hls_mp3 format info JSON\n",
            "[soundcloud] 360750002: Downloading http_mp3 format info JSON\n",
            "[soundcloud] 360750002: Downloading hls_opus format info JSON\n",
            "[download] Downloading item 69 of 74\n",
            "[soundcloud] Extracting URL: https://soundcloud.com/ditherer/third-bomb-prod-fantasy-beatzzz\n",
            "[soundcloud] ditherer/third-bomb-prod-fantasy-beatzzz: Downloading info JSON\n",
            "[soundcloud] 359576573: Downloading original download format info JSON\n"
          ]
        },
        {
          "output_type": "stream",
          "name": "stderr",
          "text": [
            "WARNING: [soundcloud] Original download format is only available for registered users. Use --cookies, --cookies-from-browser, --username and --password, --netrc-cmd, or --netrc (soundcloud) to provide account credentials. See  https://github.com/yt-dlp/yt-dlp/wiki/FAQ#how-do-i-pass-cookies-to-yt-dlp  for how to manually pass cookies\n"
          ]
        },
        {
          "output_type": "stream",
          "name": "stdout",
          "text": [
            "[soundcloud] 359576573: Downloading hls_mp3 format info JSON\n",
            "[soundcloud] 359576573: Downloading http_mp3 format info JSON\n",
            "[soundcloud] 359576573: Downloading hls_opus format info JSON\n",
            "[download] Downloading item 70 of 74\n",
            "[soundcloud] Extracting URL: https://soundcloud.com/ditherer/roughly-72-demo-prod-josh-petruccio-x-josbeats\n",
            "[soundcloud] ditherer/roughly-72-demo-prod-josh-petruccio-x-josbeats: Downloading info JSON\n",
            "[soundcloud] 359575598: Downloading original download format info JSON\n"
          ]
        },
        {
          "output_type": "stream",
          "name": "stderr",
          "text": [
            "WARNING: [soundcloud] Original download format is only available for registered users. Use --cookies, --cookies-from-browser, --username and --password, --netrc-cmd, or --netrc (soundcloud) to provide account credentials. See  https://github.com/yt-dlp/yt-dlp/wiki/FAQ#how-do-i-pass-cookies-to-yt-dlp  for how to manually pass cookies\n"
          ]
        },
        {
          "output_type": "stream",
          "name": "stdout",
          "text": [
            "[soundcloud] 359575598: Downloading hls_mp3 format info JSON\n",
            "[soundcloud] 359575598: Downloading http_mp3 format info JSON\n",
            "[soundcloud] 359575598: Downloading hls_opus format info JSON\n",
            "[download] Downloading item 71 of 74\n",
            "[soundcloud] Extracting URL: https://soundcloud.com/ditherer/windswept-season-intro-prod\n",
            "[soundcloud] ditherer/windswept-season-intro-prod: Downloading info JSON\n",
            "[soundcloud] 359561531: Downloading hls_mp3 format info JSON\n",
            "[soundcloud] 359561531: Downloading http_mp3 format info JSON\n",
            "[soundcloud] 359561531: Downloading hls_opus format info JSON\n",
            "[download] Downloading item 72 of 74\n",
            "[soundcloud] Extracting URL: https://soundcloud.com/ditherer/overdose-cypher-prod-d-range\n",
            "[soundcloud] ditherer/overdose-cypher-prod-d-range: Downloading info JSON\n",
            "[soundcloud] 359561513: Downloading hls_aac format info JSON\n",
            "[soundcloud] 359561513: Downloading hls_mp3 format info JSON\n",
            "[soundcloud] 359561513: Downloading http_mp3 format info JSON\n",
            "[soundcloud] 359561513: Downloading hls_opus format info JSON\n",
            "[download] Downloading item 73 of 74\n",
            "[soundcloud] Extracting URL: https://soundcloud.com/ditherer/waltz-for-trixie-prod\n",
            "[soundcloud] ditherer/waltz-for-trixie-prod: Downloading info JSON\n",
            "[soundcloud] 359561501: Downloading hls_mp3 format info JSON\n",
            "[soundcloud] 359561501: Downloading http_mp3 format info JSON\n",
            "[soundcloud] 359561501: Downloading hls_opus format info JSON\n",
            "[download] Downloading item 74 of 74\n",
            "[soundcloud] Extracting URL: https://soundcloud.com/ditherer/maimed-king-prod-mikzy\n",
            "[soundcloud] ditherer/maimed-king-prod-mikzy: Downloading info JSON\n",
            "[soundcloud] 359561489: Downloading hls_mp3 format info JSON\n",
            "[soundcloud] 359561489: Downloading http_mp3 format info JSON\n",
            "[soundcloud] 359561489: Downloading hls_opus format info JSON\n",
            "[download] Finished downloading playlist: Ditherer (Tracks)\n",
            "Processing video file 352560956.wav with ffmpeg..\n"
          ]
        }
      ]
    },
    {
      "cell_type": "code",
      "source": [
        "def seconds_to_time_format(s):\n",
        "    # Convert seconds to hours, minutes, seconds, and milliseconds\n",
        "    hours = s // 3600\n",
        "    s %= 3600\n",
        "    minutes = s // 60\n",
        "    s %= 60\n",
        "    seconds = s // 1\n",
        "    milliseconds = round((s % 1) * 1000)\n",
        "\n",
        "    # Return the formatted string\n",
        "    return f\"{int(hours):02d}:{int(minutes):02d}:{int(seconds):02d},{int(milliseconds):03d}\"\n",
        "\n",
        "#@markdown # **Run the model** 🚀\n",
        "\n",
        "#@markdown Run this cell to execute the transcription/translation of the video. This can take a while and very based on the length of the video and the number of parameters of the model selected above.\n",
        "\n",
        "#@markdown ## **Parameters** ⚙️\n",
        "\n",
        "#@markdown ### **Behavior control**\n",
        "#@markdown #### Language\n",
        "language = \"en\" #@param [\"auto\", \"en\", \"zh\", \"ja\", \"fr\", \"de\"] {allow-input: true}\n",
        "#@markdown #### initial prompt (change to transcribe if you prefer transcribing only)\n",
        "initial_prompt = \"transcribe\" #@param {type:\"string\"}\n",
        "#@markdown ---\n",
        "#@markdown #### Word-level timestamps\n",
        "word_level_timestamps = False #@param {type:\"boolean\"}\n",
        "#@markdown ---\n",
        "#@markdown #### VAD filter\n",
        "vad_filter = True #@param {type:\"boolean\"}\n",
        "vad_filter_min_silence_duration_ms = 50 #@param {type:\"integer\"}\n",
        "#@markdown ---\n",
        "#@markdown #### Output (Default is srt, txt if `text_only` be checked )\n",
        "text_only = True #@param {type:\"boolean\"}\n",
        "\n",
        "\n",
        "segments, info = model.transcribe(str(video_path_local), beam_size=5,\n",
        "                                  language=None if language == \"auto\" else language,\n",
        "                                  initial_prompt=initial_prompt,\n",
        "                                  word_timestamps=word_level_timestamps,\n",
        "                                  vad_filter=vad_filter,\n",
        "                                  vad_parameters=dict(min_silence_duration_ms=vad_filter_min_silence_duration_ms))\n",
        "\n",
        "display(Markdown(f\"Detected language '{info.language}' with probability {info.language_probability}\"))\n",
        "\n",
        "ext_name = '.txt' if text_only else \".srt\"\n",
        "output_file_name = video_path_local.stem + ext_name\n",
        "sentence_idx = 1\n",
        "with open(output_file_name, 'w') as f:\n",
        "  for segment in segments:\n",
        "    if word_level_timestamps:\n",
        "      for word in segment.words:\n",
        "        ts_start = seconds_to_time_format(word.start)\n",
        "        ts_end = seconds_to_time_format(word.end)\n",
        "        print(f\"[{ts_start} --> {ts_end}] {word.word}\")\n",
        "        if not text_only:\n",
        "          f.write(f\"{sentence_idx}\\n\")\n",
        "          f.write(f\"{ts_start} --> {ts_end}\\n\")\n",
        "          f.write(f\"{word.word}\\n\\n\")\n",
        "        else:\n",
        "          f.write(f\"{word.word}\")\n",
        "        f.write(\"\\n\")\n",
        "        sentence_idx = sentence_idx + 1\n",
        "    else:\n",
        "      ts_start = seconds_to_time_format(segment.start)\n",
        "      ts_end = seconds_to_time_format(segment.end)\n",
        "      print(f\"[{ts_start} --> {ts_end}] {segment.text}\")\n",
        "      if not text_only:\n",
        "        f.write(f\"{sentence_idx}\\n\")\n",
        "        f.write(f\"{ts_start} --> {ts_end}\\n\")\n",
        "        f.write(f\"{segment.text.strip()}\\n\\n\")\n",
        "      else:\n",
        "        f.write(f\"{segment.text.strip()}\\n\")\n",
        "      sentence_idx = sentence_idx + 1\n",
        "\n",
        "try:\n",
        "  files.download(output_file_name)\n",
        "  shutil.copy(video_path_local.parent / output_file_name,\n",
        "            drive_whisper_path / output_file_name\n",
        "  )\n",
        "  display(Markdown(f\"**Output file created: {drive_whisper_path / output_file_name}**\"))\n",
        "except:\n",
        "  display(Markdown(f\"**Output file created: {video_path_local.parent / output_file_name}**\"))\n"
      ],
      "metadata": {
        "id": "Ad6n1m4deAHp",
        "collapsed": true,
        "outputId": "92cf4e6d-b27f-4ec9-cc1e-26fde2fa0dc6",
        "colab": {
          "base_uri": "https://localhost:8080/",
          "height": 269
        }
      },
      "execution_count": 13,
      "outputs": [
        {
          "output_type": "error",
          "ename": "FileNotFoundError",
          "evalue": "[Errno 2] No such file or directory: '352560956.wav'",
          "traceback": [
            "\u001b[0;31m---------------------------------------------------------------------------\u001b[0m",
            "\u001b[0;31mFileNotFoundError\u001b[0m                         Traceback (most recent call last)",
            "\u001b[0;32m/tmp/ipython-input-1038996179.py\u001b[0m in \u001b[0;36m<cell line: 0>\u001b[0;34m()\u001b[0m\n\u001b[1;32m     34\u001b[0m \u001b[0;34m\u001b[0m\u001b[0m\n\u001b[1;32m     35\u001b[0m \u001b[0;34m\u001b[0m\u001b[0m\n\u001b[0;32m---> 36\u001b[0;31m segments, info = model.transcribe(str(video_path_local), beam_size=5,\n\u001b[0m\u001b[1;32m     37\u001b[0m                                   \u001b[0mlanguage\u001b[0m\u001b[0;34m=\u001b[0m\u001b[0;32mNone\u001b[0m \u001b[0;32mif\u001b[0m \u001b[0mlanguage\u001b[0m \u001b[0;34m==\u001b[0m \u001b[0;34m\"auto\"\u001b[0m \u001b[0;32melse\u001b[0m \u001b[0mlanguage\u001b[0m\u001b[0;34m,\u001b[0m\u001b[0;34m\u001b[0m\u001b[0;34m\u001b[0m\u001b[0m\n\u001b[1;32m     38\u001b[0m                                   \u001b[0minitial_prompt\u001b[0m\u001b[0;34m=\u001b[0m\u001b[0minitial_prompt\u001b[0m\u001b[0;34m,\u001b[0m\u001b[0;34m\u001b[0m\u001b[0;34m\u001b[0m\u001b[0m\n",
            "\u001b[0;32m/usr/local/lib/python3.12/dist-packages/faster_whisper/transcribe.py\u001b[0m in \u001b[0;36mtranscribe\u001b[0;34m(self, audio, language, task, log_progress, beam_size, best_of, patience, length_penalty, repetition_penalty, no_repeat_ngram_size, temperature, compression_ratio_threshold, log_prob_threshold, no_speech_threshold, condition_on_previous_text, prompt_reset_on_temperature, initial_prompt, prefix, suppress_blank, suppress_tokens, without_timestamps, max_initial_timestamp, word_timestamps, prepend_punctuations, append_punctuations, multilingual, vad_filter, vad_parameters, max_new_tokens, chunk_length, clip_timestamps, hallucination_silence_threshold, hotwords, language_detection_threshold, language_detection_segments)\u001b[0m\n\u001b[1;32m    848\u001b[0m \u001b[0;34m\u001b[0m\u001b[0m\n\u001b[1;32m    849\u001b[0m         \u001b[0;32mif\u001b[0m \u001b[0;32mnot\u001b[0m \u001b[0misinstance\u001b[0m\u001b[0;34m(\u001b[0m\u001b[0maudio\u001b[0m\u001b[0;34m,\u001b[0m \u001b[0mnp\u001b[0m\u001b[0;34m.\u001b[0m\u001b[0mndarray\u001b[0m\u001b[0;34m)\u001b[0m\u001b[0;34m:\u001b[0m\u001b[0;34m\u001b[0m\u001b[0;34m\u001b[0m\u001b[0m\n\u001b[0;32m--> 850\u001b[0;31m             \u001b[0maudio\u001b[0m \u001b[0;34m=\u001b[0m \u001b[0mdecode_audio\u001b[0m\u001b[0;34m(\u001b[0m\u001b[0maudio\u001b[0m\u001b[0;34m,\u001b[0m \u001b[0msampling_rate\u001b[0m\u001b[0;34m=\u001b[0m\u001b[0msampling_rate\u001b[0m\u001b[0;34m)\u001b[0m\u001b[0;34m\u001b[0m\u001b[0;34m\u001b[0m\u001b[0m\n\u001b[0m\u001b[1;32m    851\u001b[0m \u001b[0;34m\u001b[0m\u001b[0m\n\u001b[1;32m    852\u001b[0m         \u001b[0mduration\u001b[0m \u001b[0;34m=\u001b[0m \u001b[0maudio\u001b[0m\u001b[0;34m.\u001b[0m\u001b[0mshape\u001b[0m\u001b[0;34m[\u001b[0m\u001b[0;36m0\u001b[0m\u001b[0;34m]\u001b[0m \u001b[0;34m/\u001b[0m \u001b[0msampling_rate\u001b[0m\u001b[0;34m\u001b[0m\u001b[0;34m\u001b[0m\u001b[0m\n",
            "\u001b[0;32m/usr/local/lib/python3.12/dist-packages/faster_whisper/audio.py\u001b[0m in \u001b[0;36mdecode_audio\u001b[0;34m(input_file, sampling_rate, split_stereo)\u001b[0m\n\u001b[1;32m     44\u001b[0m     \u001b[0mdtype\u001b[0m \u001b[0;34m=\u001b[0m \u001b[0;32mNone\u001b[0m\u001b[0;34m\u001b[0m\u001b[0;34m\u001b[0m\u001b[0m\n\u001b[1;32m     45\u001b[0m \u001b[0;34m\u001b[0m\u001b[0m\n\u001b[0;32m---> 46\u001b[0;31m     \u001b[0;32mwith\u001b[0m \u001b[0mav\u001b[0m\u001b[0;34m.\u001b[0m\u001b[0mopen\u001b[0m\u001b[0;34m(\u001b[0m\u001b[0minput_file\u001b[0m\u001b[0;34m,\u001b[0m \u001b[0mmode\u001b[0m\u001b[0;34m=\u001b[0m\u001b[0;34m\"r\"\u001b[0m\u001b[0;34m,\u001b[0m \u001b[0mmetadata_errors\u001b[0m\u001b[0;34m=\u001b[0m\u001b[0;34m\"ignore\"\u001b[0m\u001b[0;34m)\u001b[0m \u001b[0;32mas\u001b[0m \u001b[0mcontainer\u001b[0m\u001b[0;34m:\u001b[0m\u001b[0;34m\u001b[0m\u001b[0;34m\u001b[0m\u001b[0m\n\u001b[0m\u001b[1;32m     47\u001b[0m         \u001b[0mframes\u001b[0m \u001b[0;34m=\u001b[0m \u001b[0mcontainer\u001b[0m\u001b[0;34m.\u001b[0m\u001b[0mdecode\u001b[0m\u001b[0;34m(\u001b[0m\u001b[0maudio\u001b[0m\u001b[0;34m=\u001b[0m\u001b[0;36m0\u001b[0m\u001b[0;34m)\u001b[0m\u001b[0;34m\u001b[0m\u001b[0;34m\u001b[0m\u001b[0m\n\u001b[1;32m     48\u001b[0m         \u001b[0mframes\u001b[0m \u001b[0;34m=\u001b[0m \u001b[0m_ignore_invalid_frames\u001b[0m\u001b[0;34m(\u001b[0m\u001b[0mframes\u001b[0m\u001b[0;34m)\u001b[0m\u001b[0;34m\u001b[0m\u001b[0;34m\u001b[0m\u001b[0m\n",
            "\u001b[0;32m/usr/local/lib/python3.12/dist-packages/av/container/core.pyx\u001b[0m in \u001b[0;36mav.container.core.open\u001b[0;34m()\u001b[0m\n",
            "\u001b[0;32m/usr/local/lib/python3.12/dist-packages/av/container/core.pyx\u001b[0m in \u001b[0;36mav.container.core.Container.__cinit__\u001b[0;34m()\u001b[0m\n",
            "\u001b[0;32m/usr/local/lib/python3.12/dist-packages/av/container/core.pyx\u001b[0m in \u001b[0;36mav.container.core.Container.err_check\u001b[0;34m()\u001b[0m\n",
            "\u001b[0;32m/usr/local/lib/python3.12/dist-packages/av/error.pyx\u001b[0m in \u001b[0;36mav.error.err_check\u001b[0;34m()\u001b[0m\n",
            "\u001b[0;31mFileNotFoundError\u001b[0m: [Errno 2] No such file or directory: '352560956.wav'"
          ]
        }
      ]
    }
  ],
  "metadata": {
    "accelerator": "GPU",
    "colab": {
      "provenance": [],
      "name": "faster_whisper youtube/drive.ipynb",
      "include_colab_link": true
    },
    "kernelspec": {
      "display_name": "Python 3",
      "name": "python3"
    },
    "language_info": {
      "name": "python"
    },
    "widgets": {
      "application/vnd.jupyter.widget-state+json": {
        "2cea3f9f0a5c45b0ae88bd8ae57af3bb": {
          "model_module": "@jupyter-widgets/controls",
          "model_name": "HBoxModel",
          "model_module_version": "1.5.0",
          "state": {
            "_dom_classes": [],
            "_model_module": "@jupyter-widgets/controls",
            "_model_module_version": "1.5.0",
            "_model_name": "HBoxModel",
            "_view_count": null,
            "_view_module": "@jupyter-widgets/controls",
            "_view_module_version": "1.5.0",
            "_view_name": "HBoxView",
            "box_style": "",
            "children": [
              "IPY_MODEL_67b7eeccc6d94dccba3856b0b445ac53",
              "IPY_MODEL_f45eb302667d4a3dafd237c5cd55af7d",
              "IPY_MODEL_0199a78300634a76b6a3f6319682dbb1"
            ],
            "layout": "IPY_MODEL_1c9bb3bc1bdd495aa27a8f54eedd01a5"
          }
        },
        "67b7eeccc6d94dccba3856b0b445ac53": {
          "model_module": "@jupyter-widgets/controls",
          "model_name": "HTMLModel",
          "model_module_version": "1.5.0",
          "state": {
            "_dom_classes": [],
            "_model_module": "@jupyter-widgets/controls",
            "_model_module_version": "1.5.0",
            "_model_name": "HTMLModel",
            "_view_count": null,
            "_view_module": "@jupyter-widgets/controls",
            "_view_module_version": "1.5.0",
            "_view_name": "HTMLView",
            "description": "",
            "description_tooltip": null,
            "layout": "IPY_MODEL_75945a04e90e48a99557846d7eab7ec7",
            "placeholder": "​",
            "style": "IPY_MODEL_c1f2013ab7184ac198dfefa056914f61",
            "value": "vocabulary.txt: "
          }
        },
        "f45eb302667d4a3dafd237c5cd55af7d": {
          "model_module": "@jupyter-widgets/controls",
          "model_name": "FloatProgressModel",
          "model_module_version": "1.5.0",
          "state": {
            "_dom_classes": [],
            "_model_module": "@jupyter-widgets/controls",
            "_model_module_version": "1.5.0",
            "_model_name": "FloatProgressModel",
            "_view_count": null,
            "_view_module": "@jupyter-widgets/controls",
            "_view_module_version": "1.5.0",
            "_view_name": "ProgressView",
            "bar_style": "success",
            "description": "",
            "description_tooltip": null,
            "layout": "IPY_MODEL_174c8c884d254a5580d1c49f57eba191",
            "max": 1,
            "min": 0,
            "orientation": "horizontal",
            "style": "IPY_MODEL_0a8e56a4e6bc40d2a7fb6adcc05dce97",
            "value": 1
          }
        },
        "0199a78300634a76b6a3f6319682dbb1": {
          "model_module": "@jupyter-widgets/controls",
          "model_name": "HTMLModel",
          "model_module_version": "1.5.0",
          "state": {
            "_dom_classes": [],
            "_model_module": "@jupyter-widgets/controls",
            "_model_module_version": "1.5.0",
            "_model_name": "HTMLModel",
            "_view_count": null,
            "_view_module": "@jupyter-widgets/controls",
            "_view_module_version": "1.5.0",
            "_view_name": "HTMLView",
            "description": "",
            "description_tooltip": null,
            "layout": "IPY_MODEL_826b7cab4ab34dcb8010c7943a39e566",
            "placeholder": "​",
            "style": "IPY_MODEL_8d559b627db9451a957fbed9392f5323",
            "value": " 422k/? [00:00&lt;00:00, 7.70MB/s]"
          }
        },
        "1c9bb3bc1bdd495aa27a8f54eedd01a5": {
          "model_module": "@jupyter-widgets/base",
          "model_name": "LayoutModel",
          "model_module_version": "1.2.0",
          "state": {
            "_model_module": "@jupyter-widgets/base",
            "_model_module_version": "1.2.0",
            "_model_name": "LayoutModel",
            "_view_count": null,
            "_view_module": "@jupyter-widgets/base",
            "_view_module_version": "1.2.0",
            "_view_name": "LayoutView",
            "align_content": null,
            "align_items": null,
            "align_self": null,
            "border": null,
            "bottom": null,
            "display": null,
            "flex": null,
            "flex_flow": null,
            "grid_area": null,
            "grid_auto_columns": null,
            "grid_auto_flow": null,
            "grid_auto_rows": null,
            "grid_column": null,
            "grid_gap": null,
            "grid_row": null,
            "grid_template_areas": null,
            "grid_template_columns": null,
            "grid_template_rows": null,
            "height": null,
            "justify_content": null,
            "justify_items": null,
            "left": null,
            "margin": null,
            "max_height": null,
            "max_width": null,
            "min_height": null,
            "min_width": null,
            "object_fit": null,
            "object_position": null,
            "order": null,
            "overflow": null,
            "overflow_x": null,
            "overflow_y": null,
            "padding": null,
            "right": null,
            "top": null,
            "visibility": null,
            "width": null
          }
        },
        "75945a04e90e48a99557846d7eab7ec7": {
          "model_module": "@jupyter-widgets/base",
          "model_name": "LayoutModel",
          "model_module_version": "1.2.0",
          "state": {
            "_model_module": "@jupyter-widgets/base",
            "_model_module_version": "1.2.0",
            "_model_name": "LayoutModel",
            "_view_count": null,
            "_view_module": "@jupyter-widgets/base",
            "_view_module_version": "1.2.0",
            "_view_name": "LayoutView",
            "align_content": null,
            "align_items": null,
            "align_self": null,
            "border": null,
            "bottom": null,
            "display": null,
            "flex": null,
            "flex_flow": null,
            "grid_area": null,
            "grid_auto_columns": null,
            "grid_auto_flow": null,
            "grid_auto_rows": null,
            "grid_column": null,
            "grid_gap": null,
            "grid_row": null,
            "grid_template_areas": null,
            "grid_template_columns": null,
            "grid_template_rows": null,
            "height": null,
            "justify_content": null,
            "justify_items": null,
            "left": null,
            "margin": null,
            "max_height": null,
            "max_width": null,
            "min_height": null,
            "min_width": null,
            "object_fit": null,
            "object_position": null,
            "order": null,
            "overflow": null,
            "overflow_x": null,
            "overflow_y": null,
            "padding": null,
            "right": null,
            "top": null,
            "visibility": null,
            "width": null
          }
        },
        "c1f2013ab7184ac198dfefa056914f61": {
          "model_module": "@jupyter-widgets/controls",
          "model_name": "DescriptionStyleModel",
          "model_module_version": "1.5.0",
          "state": {
            "_model_module": "@jupyter-widgets/controls",
            "_model_module_version": "1.5.0",
            "_model_name": "DescriptionStyleModel",
            "_view_count": null,
            "_view_module": "@jupyter-widgets/base",
            "_view_module_version": "1.2.0",
            "_view_name": "StyleView",
            "description_width": ""
          }
        },
        "174c8c884d254a5580d1c49f57eba191": {
          "model_module": "@jupyter-widgets/base",
          "model_name": "LayoutModel",
          "model_module_version": "1.2.0",
          "state": {
            "_model_module": "@jupyter-widgets/base",
            "_model_module_version": "1.2.0",
            "_model_name": "LayoutModel",
            "_view_count": null,
            "_view_module": "@jupyter-widgets/base",
            "_view_module_version": "1.2.0",
            "_view_name": "LayoutView",
            "align_content": null,
            "align_items": null,
            "align_self": null,
            "border": null,
            "bottom": null,
            "display": null,
            "flex": null,
            "flex_flow": null,
            "grid_area": null,
            "grid_auto_columns": null,
            "grid_auto_flow": null,
            "grid_auto_rows": null,
            "grid_column": null,
            "grid_gap": null,
            "grid_row": null,
            "grid_template_areas": null,
            "grid_template_columns": null,
            "grid_template_rows": null,
            "height": null,
            "justify_content": null,
            "justify_items": null,
            "left": null,
            "margin": null,
            "max_height": null,
            "max_width": null,
            "min_height": null,
            "min_width": null,
            "object_fit": null,
            "object_position": null,
            "order": null,
            "overflow": null,
            "overflow_x": null,
            "overflow_y": null,
            "padding": null,
            "right": null,
            "top": null,
            "visibility": null,
            "width": "20px"
          }
        },
        "0a8e56a4e6bc40d2a7fb6adcc05dce97": {
          "model_module": "@jupyter-widgets/controls",
          "model_name": "ProgressStyleModel",
          "model_module_version": "1.5.0",
          "state": {
            "_model_module": "@jupyter-widgets/controls",
            "_model_module_version": "1.5.0",
            "_model_name": "ProgressStyleModel",
            "_view_count": null,
            "_view_module": "@jupyter-widgets/base",
            "_view_module_version": "1.2.0",
            "_view_name": "StyleView",
            "bar_color": null,
            "description_width": ""
          }
        },
        "826b7cab4ab34dcb8010c7943a39e566": {
          "model_module": "@jupyter-widgets/base",
          "model_name": "LayoutModel",
          "model_module_version": "1.2.0",
          "state": {
            "_model_module": "@jupyter-widgets/base",
            "_model_module_version": "1.2.0",
            "_model_name": "LayoutModel",
            "_view_count": null,
            "_view_module": "@jupyter-widgets/base",
            "_view_module_version": "1.2.0",
            "_view_name": "LayoutView",
            "align_content": null,
            "align_items": null,
            "align_self": null,
            "border": null,
            "bottom": null,
            "display": null,
            "flex": null,
            "flex_flow": null,
            "grid_area": null,
            "grid_auto_columns": null,
            "grid_auto_flow": null,
            "grid_auto_rows": null,
            "grid_column": null,
            "grid_gap": null,
            "grid_row": null,
            "grid_template_areas": null,
            "grid_template_columns": null,
            "grid_template_rows": null,
            "height": null,
            "justify_content": null,
            "justify_items": null,
            "left": null,
            "margin": null,
            "max_height": null,
            "max_width": null,
            "min_height": null,
            "min_width": null,
            "object_fit": null,
            "object_position": null,
            "order": null,
            "overflow": null,
            "overflow_x": null,
            "overflow_y": null,
            "padding": null,
            "right": null,
            "top": null,
            "visibility": null,
            "width": null
          }
        },
        "8d559b627db9451a957fbed9392f5323": {
          "model_module": "@jupyter-widgets/controls",
          "model_name": "DescriptionStyleModel",
          "model_module_version": "1.5.0",
          "state": {
            "_model_module": "@jupyter-widgets/controls",
            "_model_module_version": "1.5.0",
            "_model_name": "DescriptionStyleModel",
            "_view_count": null,
            "_view_module": "@jupyter-widgets/base",
            "_view_module_version": "1.2.0",
            "_view_name": "StyleView",
            "description_width": ""
          }
        },
        "21ed66bd78284828a33f88f91416a2bd": {
          "model_module": "@jupyter-widgets/controls",
          "model_name": "HBoxModel",
          "model_module_version": "1.5.0",
          "state": {
            "_dom_classes": [],
            "_model_module": "@jupyter-widgets/controls",
            "_model_module_version": "1.5.0",
            "_model_name": "HBoxModel",
            "_view_count": null,
            "_view_module": "@jupyter-widgets/controls",
            "_view_module_version": "1.5.0",
            "_view_name": "HBoxView",
            "box_style": "",
            "children": [
              "IPY_MODEL_9fb48a06d2f94dc6902062c4f7f462ac",
              "IPY_MODEL_583cb0d1c9cd4f7e9bf5c7b82ec8574e",
              "IPY_MODEL_813eb90bbe124b8297cf3da624632934"
            ],
            "layout": "IPY_MODEL_78a43d5ace934e95b36028c01079f72e"
          }
        },
        "9fb48a06d2f94dc6902062c4f7f462ac": {
          "model_module": "@jupyter-widgets/controls",
          "model_name": "HTMLModel",
          "model_module_version": "1.5.0",
          "state": {
            "_dom_classes": [],
            "_model_module": "@jupyter-widgets/controls",
            "_model_module_version": "1.5.0",
            "_model_name": "HTMLModel",
            "_view_count": null,
            "_view_module": "@jupyter-widgets/controls",
            "_view_module_version": "1.5.0",
            "_view_name": "HTMLView",
            "description": "",
            "description_tooltip": null,
            "layout": "IPY_MODEL_78f02bd0a5cf4ba3871087f92bd1b52f",
            "placeholder": "​",
            "style": "IPY_MODEL_79f6400497664b7d85bcba2ec377ac67",
            "value": "config.json: "
          }
        },
        "583cb0d1c9cd4f7e9bf5c7b82ec8574e": {
          "model_module": "@jupyter-widgets/controls",
          "model_name": "FloatProgressModel",
          "model_module_version": "1.5.0",
          "state": {
            "_dom_classes": [],
            "_model_module": "@jupyter-widgets/controls",
            "_model_module_version": "1.5.0",
            "_model_name": "FloatProgressModel",
            "_view_count": null,
            "_view_module": "@jupyter-widgets/controls",
            "_view_module_version": "1.5.0",
            "_view_name": "ProgressView",
            "bar_style": "success",
            "description": "",
            "description_tooltip": null,
            "layout": "IPY_MODEL_1a0015574ca24d728c686492868612e8",
            "max": 1,
            "min": 0,
            "orientation": "horizontal",
            "style": "IPY_MODEL_616c87a4d2f4426bb3c2b48fc7cd5507",
            "value": 1
          }
        },
        "813eb90bbe124b8297cf3da624632934": {
          "model_module": "@jupyter-widgets/controls",
          "model_name": "HTMLModel",
          "model_module_version": "1.5.0",
          "state": {
            "_dom_classes": [],
            "_model_module": "@jupyter-widgets/controls",
            "_model_module_version": "1.5.0",
            "_model_name": "HTMLModel",
            "_view_count": null,
            "_view_module": "@jupyter-widgets/controls",
            "_view_module_version": "1.5.0",
            "_view_name": "HTMLView",
            "description": "",
            "description_tooltip": null,
            "layout": "IPY_MODEL_31b79303fcd14204a796731510d37a2a",
            "placeholder": "​",
            "style": "IPY_MODEL_9825e290b8074f018410b12def56cdec",
            "value": " 2.64k/? [00:00&lt;00:00, 43.8kB/s]"
          }
        },
        "78a43d5ace934e95b36028c01079f72e": {
          "model_module": "@jupyter-widgets/base",
          "model_name": "LayoutModel",
          "model_module_version": "1.2.0",
          "state": {
            "_model_module": "@jupyter-widgets/base",
            "_model_module_version": "1.2.0",
            "_model_name": "LayoutModel",
            "_view_count": null,
            "_view_module": "@jupyter-widgets/base",
            "_view_module_version": "1.2.0",
            "_view_name": "LayoutView",
            "align_content": null,
            "align_items": null,
            "align_self": null,
            "border": null,
            "bottom": null,
            "display": null,
            "flex": null,
            "flex_flow": null,
            "grid_area": null,
            "grid_auto_columns": null,
            "grid_auto_flow": null,
            "grid_auto_rows": null,
            "grid_column": null,
            "grid_gap": null,
            "grid_row": null,
            "grid_template_areas": null,
            "grid_template_columns": null,
            "grid_template_rows": null,
            "height": null,
            "justify_content": null,
            "justify_items": null,
            "left": null,
            "margin": null,
            "max_height": null,
            "max_width": null,
            "min_height": null,
            "min_width": null,
            "object_fit": null,
            "object_position": null,
            "order": null,
            "overflow": null,
            "overflow_x": null,
            "overflow_y": null,
            "padding": null,
            "right": null,
            "top": null,
            "visibility": null,
            "width": null
          }
        },
        "78f02bd0a5cf4ba3871087f92bd1b52f": {
          "model_module": "@jupyter-widgets/base",
          "model_name": "LayoutModel",
          "model_module_version": "1.2.0",
          "state": {
            "_model_module": "@jupyter-widgets/base",
            "_model_module_version": "1.2.0",
            "_model_name": "LayoutModel",
            "_view_count": null,
            "_view_module": "@jupyter-widgets/base",
            "_view_module_version": "1.2.0",
            "_view_name": "LayoutView",
            "align_content": null,
            "align_items": null,
            "align_self": null,
            "border": null,
            "bottom": null,
            "display": null,
            "flex": null,
            "flex_flow": null,
            "grid_area": null,
            "grid_auto_columns": null,
            "grid_auto_flow": null,
            "grid_auto_rows": null,
            "grid_column": null,
            "grid_gap": null,
            "grid_row": null,
            "grid_template_areas": null,
            "grid_template_columns": null,
            "grid_template_rows": null,
            "height": null,
            "justify_content": null,
            "justify_items": null,
            "left": null,
            "margin": null,
            "max_height": null,
            "max_width": null,
            "min_height": null,
            "min_width": null,
            "object_fit": null,
            "object_position": null,
            "order": null,
            "overflow": null,
            "overflow_x": null,
            "overflow_y": null,
            "padding": null,
            "right": null,
            "top": null,
            "visibility": null,
            "width": null
          }
        },
        "79f6400497664b7d85bcba2ec377ac67": {
          "model_module": "@jupyter-widgets/controls",
          "model_name": "DescriptionStyleModel",
          "model_module_version": "1.5.0",
          "state": {
            "_model_module": "@jupyter-widgets/controls",
            "_model_module_version": "1.5.0",
            "_model_name": "DescriptionStyleModel",
            "_view_count": null,
            "_view_module": "@jupyter-widgets/base",
            "_view_module_version": "1.2.0",
            "_view_name": "StyleView",
            "description_width": ""
          }
        },
        "1a0015574ca24d728c686492868612e8": {
          "model_module": "@jupyter-widgets/base",
          "model_name": "LayoutModel",
          "model_module_version": "1.2.0",
          "state": {
            "_model_module": "@jupyter-widgets/base",
            "_model_module_version": "1.2.0",
            "_model_name": "LayoutModel",
            "_view_count": null,
            "_view_module": "@jupyter-widgets/base",
            "_view_module_version": "1.2.0",
            "_view_name": "LayoutView",
            "align_content": null,
            "align_items": null,
            "align_self": null,
            "border": null,
            "bottom": null,
            "display": null,
            "flex": null,
            "flex_flow": null,
            "grid_area": null,
            "grid_auto_columns": null,
            "grid_auto_flow": null,
            "grid_auto_rows": null,
            "grid_column": null,
            "grid_gap": null,
            "grid_row": null,
            "grid_template_areas": null,
            "grid_template_columns": null,
            "grid_template_rows": null,
            "height": null,
            "justify_content": null,
            "justify_items": null,
            "left": null,
            "margin": null,
            "max_height": null,
            "max_width": null,
            "min_height": null,
            "min_width": null,
            "object_fit": null,
            "object_position": null,
            "order": null,
            "overflow": null,
            "overflow_x": null,
            "overflow_y": null,
            "padding": null,
            "right": null,
            "top": null,
            "visibility": null,
            "width": "20px"
          }
        },
        "616c87a4d2f4426bb3c2b48fc7cd5507": {
          "model_module": "@jupyter-widgets/controls",
          "model_name": "ProgressStyleModel",
          "model_module_version": "1.5.0",
          "state": {
            "_model_module": "@jupyter-widgets/controls",
            "_model_module_version": "1.5.0",
            "_model_name": "ProgressStyleModel",
            "_view_count": null,
            "_view_module": "@jupyter-widgets/base",
            "_view_module_version": "1.2.0",
            "_view_name": "StyleView",
            "bar_color": null,
            "description_width": ""
          }
        },
        "31b79303fcd14204a796731510d37a2a": {
          "model_module": "@jupyter-widgets/base",
          "model_name": "LayoutModel",
          "model_module_version": "1.2.0",
          "state": {
            "_model_module": "@jupyter-widgets/base",
            "_model_module_version": "1.2.0",
            "_model_name": "LayoutModel",
            "_view_count": null,
            "_view_module": "@jupyter-widgets/base",
            "_view_module_version": "1.2.0",
            "_view_name": "LayoutView",
            "align_content": null,
            "align_items": null,
            "align_self": null,
            "border": null,
            "bottom": null,
            "display": null,
            "flex": null,
            "flex_flow": null,
            "grid_area": null,
            "grid_auto_columns": null,
            "grid_auto_flow": null,
            "grid_auto_rows": null,
            "grid_column": null,
            "grid_gap": null,
            "grid_row": null,
            "grid_template_areas": null,
            "grid_template_columns": null,
            "grid_template_rows": null,
            "height": null,
            "justify_content": null,
            "justify_items": null,
            "left": null,
            "margin": null,
            "max_height": null,
            "max_width": null,
            "min_height": null,
            "min_width": null,
            "object_fit": null,
            "object_position": null,
            "order": null,
            "overflow": null,
            "overflow_x": null,
            "overflow_y": null,
            "padding": null,
            "right": null,
            "top": null,
            "visibility": null,
            "width": null
          }
        },
        "9825e290b8074f018410b12def56cdec": {
          "model_module": "@jupyter-widgets/controls",
          "model_name": "DescriptionStyleModel",
          "model_module_version": "1.5.0",
          "state": {
            "_model_module": "@jupyter-widgets/controls",
            "_model_module_version": "1.5.0",
            "_model_name": "DescriptionStyleModel",
            "_view_count": null,
            "_view_module": "@jupyter-widgets/base",
            "_view_module_version": "1.2.0",
            "_view_name": "StyleView",
            "description_width": ""
          }
        },
        "bddd312001b649b09951a660a705e253": {
          "model_module": "@jupyter-widgets/controls",
          "model_name": "HBoxModel",
          "model_module_version": "1.5.0",
          "state": {
            "_dom_classes": [],
            "_model_module": "@jupyter-widgets/controls",
            "_model_module_version": "1.5.0",
            "_model_name": "HBoxModel",
            "_view_count": null,
            "_view_module": "@jupyter-widgets/controls",
            "_view_module_version": "1.5.0",
            "_view_name": "HBoxView",
            "box_style": "",
            "children": [
              "IPY_MODEL_241a6d347915462a8b84cf1e8d574908",
              "IPY_MODEL_95a3b46352fa46e781c1bbb7044ad430",
              "IPY_MODEL_0c2576e13f7540429cdcce5f7272f23b"
            ],
            "layout": "IPY_MODEL_cd88050d0d2047b4b00dff0cbd23855d"
          }
        },
        "241a6d347915462a8b84cf1e8d574908": {
          "model_module": "@jupyter-widgets/controls",
          "model_name": "HTMLModel",
          "model_module_version": "1.5.0",
          "state": {
            "_dom_classes": [],
            "_model_module": "@jupyter-widgets/controls",
            "_model_module_version": "1.5.0",
            "_model_name": "HTMLModel",
            "_view_count": null,
            "_view_module": "@jupyter-widgets/controls",
            "_view_module_version": "1.5.0",
            "_view_name": "HTMLView",
            "description": "",
            "description_tooltip": null,
            "layout": "IPY_MODEL_0f1d1bf2018e4f4ea0e9110bd9570219",
            "placeholder": "​",
            "style": "IPY_MODEL_da37bdc08241444092d614f72806fb36",
            "value": "tokenizer.json: "
          }
        },
        "95a3b46352fa46e781c1bbb7044ad430": {
          "model_module": "@jupyter-widgets/controls",
          "model_name": "FloatProgressModel",
          "model_module_version": "1.5.0",
          "state": {
            "_dom_classes": [],
            "_model_module": "@jupyter-widgets/controls",
            "_model_module_version": "1.5.0",
            "_model_name": "FloatProgressModel",
            "_view_count": null,
            "_view_module": "@jupyter-widgets/controls",
            "_view_module_version": "1.5.0",
            "_view_name": "ProgressView",
            "bar_style": "success",
            "description": "",
            "description_tooltip": null,
            "layout": "IPY_MODEL_cfe3efdfec9c4730aab69ac5fc887719",
            "max": 1,
            "min": 0,
            "orientation": "horizontal",
            "style": "IPY_MODEL_bd60edf29190450cb594040b2513bf39",
            "value": 1
          }
        },
        "0c2576e13f7540429cdcce5f7272f23b": {
          "model_module": "@jupyter-widgets/controls",
          "model_name": "HTMLModel",
          "model_module_version": "1.5.0",
          "state": {
            "_dom_classes": [],
            "_model_module": "@jupyter-widgets/controls",
            "_model_module_version": "1.5.0",
            "_model_name": "HTMLModel",
            "_view_count": null,
            "_view_module": "@jupyter-widgets/controls",
            "_view_module_version": "1.5.0",
            "_view_name": "HTMLView",
            "description": "",
            "description_tooltip": null,
            "layout": "IPY_MODEL_06b938be1917425da02ab7eb40f99309",
            "placeholder": "​",
            "style": "IPY_MODEL_9131fd1aee99412198335ea124e19dbc",
            "value": " 2.13M/? [00:00&lt;00:00, 13.2MB/s]"
          }
        },
        "cd88050d0d2047b4b00dff0cbd23855d": {
          "model_module": "@jupyter-widgets/base",
          "model_name": "LayoutModel",
          "model_module_version": "1.2.0",
          "state": {
            "_model_module": "@jupyter-widgets/base",
            "_model_module_version": "1.2.0",
            "_model_name": "LayoutModel",
            "_view_count": null,
            "_view_module": "@jupyter-widgets/base",
            "_view_module_version": "1.2.0",
            "_view_name": "LayoutView",
            "align_content": null,
            "align_items": null,
            "align_self": null,
            "border": null,
            "bottom": null,
            "display": null,
            "flex": null,
            "flex_flow": null,
            "grid_area": null,
            "grid_auto_columns": null,
            "grid_auto_flow": null,
            "grid_auto_rows": null,
            "grid_column": null,
            "grid_gap": null,
            "grid_row": null,
            "grid_template_areas": null,
            "grid_template_columns": null,
            "grid_template_rows": null,
            "height": null,
            "justify_content": null,
            "justify_items": null,
            "left": null,
            "margin": null,
            "max_height": null,
            "max_width": null,
            "min_height": null,
            "min_width": null,
            "object_fit": null,
            "object_position": null,
            "order": null,
            "overflow": null,
            "overflow_x": null,
            "overflow_y": null,
            "padding": null,
            "right": null,
            "top": null,
            "visibility": null,
            "width": null
          }
        },
        "0f1d1bf2018e4f4ea0e9110bd9570219": {
          "model_module": "@jupyter-widgets/base",
          "model_name": "LayoutModel",
          "model_module_version": "1.2.0",
          "state": {
            "_model_module": "@jupyter-widgets/base",
            "_model_module_version": "1.2.0",
            "_model_name": "LayoutModel",
            "_view_count": null,
            "_view_module": "@jupyter-widgets/base",
            "_view_module_version": "1.2.0",
            "_view_name": "LayoutView",
            "align_content": null,
            "align_items": null,
            "align_self": null,
            "border": null,
            "bottom": null,
            "display": null,
            "flex": null,
            "flex_flow": null,
            "grid_area": null,
            "grid_auto_columns": null,
            "grid_auto_flow": null,
            "grid_auto_rows": null,
            "grid_column": null,
            "grid_gap": null,
            "grid_row": null,
            "grid_template_areas": null,
            "grid_template_columns": null,
            "grid_template_rows": null,
            "height": null,
            "justify_content": null,
            "justify_items": null,
            "left": null,
            "margin": null,
            "max_height": null,
            "max_width": null,
            "min_height": null,
            "min_width": null,
            "object_fit": null,
            "object_position": null,
            "order": null,
            "overflow": null,
            "overflow_x": null,
            "overflow_y": null,
            "padding": null,
            "right": null,
            "top": null,
            "visibility": null,
            "width": null
          }
        },
        "da37bdc08241444092d614f72806fb36": {
          "model_module": "@jupyter-widgets/controls",
          "model_name": "DescriptionStyleModel",
          "model_module_version": "1.5.0",
          "state": {
            "_model_module": "@jupyter-widgets/controls",
            "_model_module_version": "1.5.0",
            "_model_name": "DescriptionStyleModel",
            "_view_count": null,
            "_view_module": "@jupyter-widgets/base",
            "_view_module_version": "1.2.0",
            "_view_name": "StyleView",
            "description_width": ""
          }
        },
        "cfe3efdfec9c4730aab69ac5fc887719": {
          "model_module": "@jupyter-widgets/base",
          "model_name": "LayoutModel",
          "model_module_version": "1.2.0",
          "state": {
            "_model_module": "@jupyter-widgets/base",
            "_model_module_version": "1.2.0",
            "_model_name": "LayoutModel",
            "_view_count": null,
            "_view_module": "@jupyter-widgets/base",
            "_view_module_version": "1.2.0",
            "_view_name": "LayoutView",
            "align_content": null,
            "align_items": null,
            "align_self": null,
            "border": null,
            "bottom": null,
            "display": null,
            "flex": null,
            "flex_flow": null,
            "grid_area": null,
            "grid_auto_columns": null,
            "grid_auto_flow": null,
            "grid_auto_rows": null,
            "grid_column": null,
            "grid_gap": null,
            "grid_row": null,
            "grid_template_areas": null,
            "grid_template_columns": null,
            "grid_template_rows": null,
            "height": null,
            "justify_content": null,
            "justify_items": null,
            "left": null,
            "margin": null,
            "max_height": null,
            "max_width": null,
            "min_height": null,
            "min_width": null,
            "object_fit": null,
            "object_position": null,
            "order": null,
            "overflow": null,
            "overflow_x": null,
            "overflow_y": null,
            "padding": null,
            "right": null,
            "top": null,
            "visibility": null,
            "width": "20px"
          }
        },
        "bd60edf29190450cb594040b2513bf39": {
          "model_module": "@jupyter-widgets/controls",
          "model_name": "ProgressStyleModel",
          "model_module_version": "1.5.0",
          "state": {
            "_model_module": "@jupyter-widgets/controls",
            "_model_module_version": "1.5.0",
            "_model_name": "ProgressStyleModel",
            "_view_count": null,
            "_view_module": "@jupyter-widgets/base",
            "_view_module_version": "1.2.0",
            "_view_name": "StyleView",
            "bar_color": null,
            "description_width": ""
          }
        },
        "06b938be1917425da02ab7eb40f99309": {
          "model_module": "@jupyter-widgets/base",
          "model_name": "LayoutModel",
          "model_module_version": "1.2.0",
          "state": {
            "_model_module": "@jupyter-widgets/base",
            "_model_module_version": "1.2.0",
            "_model_name": "LayoutModel",
            "_view_count": null,
            "_view_module": "@jupyter-widgets/base",
            "_view_module_version": "1.2.0",
            "_view_name": "LayoutView",
            "align_content": null,
            "align_items": null,
            "align_self": null,
            "border": null,
            "bottom": null,
            "display": null,
            "flex": null,
            "flex_flow": null,
            "grid_area": null,
            "grid_auto_columns": null,
            "grid_auto_flow": null,
            "grid_auto_rows": null,
            "grid_column": null,
            "grid_gap": null,
            "grid_row": null,
            "grid_template_areas": null,
            "grid_template_columns": null,
            "grid_template_rows": null,
            "height": null,
            "justify_content": null,
            "justify_items": null,
            "left": null,
            "margin": null,
            "max_height": null,
            "max_width": null,
            "min_height": null,
            "min_width": null,
            "object_fit": null,
            "object_position": null,
            "order": null,
            "overflow": null,
            "overflow_x": null,
            "overflow_y": null,
            "padding": null,
            "right": null,
            "top": null,
            "visibility": null,
            "width": null
          }
        },
        "9131fd1aee99412198335ea124e19dbc": {
          "model_module": "@jupyter-widgets/controls",
          "model_name": "DescriptionStyleModel",
          "model_module_version": "1.5.0",
          "state": {
            "_model_module": "@jupyter-widgets/controls",
            "_model_module_version": "1.5.0",
            "_model_name": "DescriptionStyleModel",
            "_view_count": null,
            "_view_module": "@jupyter-widgets/base",
            "_view_module_version": "1.2.0",
            "_view_name": "StyleView",
            "description_width": ""
          }
        },
        "3c6fd10f18074f5aac1f62a916968b59": {
          "model_module": "@jupyter-widgets/controls",
          "model_name": "HBoxModel",
          "model_module_version": "1.5.0",
          "state": {
            "_dom_classes": [],
            "_model_module": "@jupyter-widgets/controls",
            "_model_module_version": "1.5.0",
            "_model_name": "HBoxModel",
            "_view_count": null,
            "_view_module": "@jupyter-widgets/controls",
            "_view_module_version": "1.5.0",
            "_view_name": "HBoxView",
            "box_style": "",
            "children": [
              "IPY_MODEL_708fabf5d1964c51ba75978fdb4bf913",
              "IPY_MODEL_048d68b347ab40dd8d88ad7568353604",
              "IPY_MODEL_d3a01dda58e44bda8182378186007d00"
            ],
            "layout": "IPY_MODEL_07f45ebef3c647efb3f3fcd0dbefe007"
          }
        },
        "708fabf5d1964c51ba75978fdb4bf913": {
          "model_module": "@jupyter-widgets/controls",
          "model_name": "HTMLModel",
          "model_module_version": "1.5.0",
          "state": {
            "_dom_classes": [],
            "_model_module": "@jupyter-widgets/controls",
            "_model_module_version": "1.5.0",
            "_model_name": "HTMLModel",
            "_view_count": null,
            "_view_module": "@jupyter-widgets/controls",
            "_view_module_version": "1.5.0",
            "_view_name": "HTMLView",
            "description": "",
            "description_tooltip": null,
            "layout": "IPY_MODEL_120bd446ec664fa7be12120cc811426d",
            "placeholder": "​",
            "style": "IPY_MODEL_ac487f50eb39448696c5d4b3e076300a",
            "value": "model.bin: 100%"
          }
        },
        "048d68b347ab40dd8d88ad7568353604": {
          "model_module": "@jupyter-widgets/controls",
          "model_name": "FloatProgressModel",
          "model_module_version": "1.5.0",
          "state": {
            "_dom_classes": [],
            "_model_module": "@jupyter-widgets/controls",
            "_model_module_version": "1.5.0",
            "_model_name": "FloatProgressModel",
            "_view_count": null,
            "_view_module": "@jupyter-widgets/controls",
            "_view_module_version": "1.5.0",
            "_view_name": "ProgressView",
            "bar_style": "success",
            "description": "",
            "description_tooltip": null,
            "layout": "IPY_MODEL_24619b45ffbd4148aa41885b983fcb90",
            "max": 1527904330,
            "min": 0,
            "orientation": "horizontal",
            "style": "IPY_MODEL_e12576ad4a7d4e80bc735b94346b68a5",
            "value": 1527904330
          }
        },
        "d3a01dda58e44bda8182378186007d00": {
          "model_module": "@jupyter-widgets/controls",
          "model_name": "HTMLModel",
          "model_module_version": "1.5.0",
          "state": {
            "_dom_classes": [],
            "_model_module": "@jupyter-widgets/controls",
            "_model_module_version": "1.5.0",
            "_model_name": "HTMLModel",
            "_view_count": null,
            "_view_module": "@jupyter-widgets/controls",
            "_view_module_version": "1.5.0",
            "_view_name": "HTMLView",
            "description": "",
            "description_tooltip": null,
            "layout": "IPY_MODEL_ee11233391c549c2af896facfabdd8f6",
            "placeholder": "​",
            "style": "IPY_MODEL_7336c7a53ba14db4a407eb6db94f06a4",
            "value": " 1.53G/1.53G [00:25&lt;00:00, 118MB/s]"
          }
        },
        "07f45ebef3c647efb3f3fcd0dbefe007": {
          "model_module": "@jupyter-widgets/base",
          "model_name": "LayoutModel",
          "model_module_version": "1.2.0",
          "state": {
            "_model_module": "@jupyter-widgets/base",
            "_model_module_version": "1.2.0",
            "_model_name": "LayoutModel",
            "_view_count": null,
            "_view_module": "@jupyter-widgets/base",
            "_view_module_version": "1.2.0",
            "_view_name": "LayoutView",
            "align_content": null,
            "align_items": null,
            "align_self": null,
            "border": null,
            "bottom": null,
            "display": null,
            "flex": null,
            "flex_flow": null,
            "grid_area": null,
            "grid_auto_columns": null,
            "grid_auto_flow": null,
            "grid_auto_rows": null,
            "grid_column": null,
            "grid_gap": null,
            "grid_row": null,
            "grid_template_areas": null,
            "grid_template_columns": null,
            "grid_template_rows": null,
            "height": null,
            "justify_content": null,
            "justify_items": null,
            "left": null,
            "margin": null,
            "max_height": null,
            "max_width": null,
            "min_height": null,
            "min_width": null,
            "object_fit": null,
            "object_position": null,
            "order": null,
            "overflow": null,
            "overflow_x": null,
            "overflow_y": null,
            "padding": null,
            "right": null,
            "top": null,
            "visibility": null,
            "width": null
          }
        },
        "120bd446ec664fa7be12120cc811426d": {
          "model_module": "@jupyter-widgets/base",
          "model_name": "LayoutModel",
          "model_module_version": "1.2.0",
          "state": {
            "_model_module": "@jupyter-widgets/base",
            "_model_module_version": "1.2.0",
            "_model_name": "LayoutModel",
            "_view_count": null,
            "_view_module": "@jupyter-widgets/base",
            "_view_module_version": "1.2.0",
            "_view_name": "LayoutView",
            "align_content": null,
            "align_items": null,
            "align_self": null,
            "border": null,
            "bottom": null,
            "display": null,
            "flex": null,
            "flex_flow": null,
            "grid_area": null,
            "grid_auto_columns": null,
            "grid_auto_flow": null,
            "grid_auto_rows": null,
            "grid_column": null,
            "grid_gap": null,
            "grid_row": null,
            "grid_template_areas": null,
            "grid_template_columns": null,
            "grid_template_rows": null,
            "height": null,
            "justify_content": null,
            "justify_items": null,
            "left": null,
            "margin": null,
            "max_height": null,
            "max_width": null,
            "min_height": null,
            "min_width": null,
            "object_fit": null,
            "object_position": null,
            "order": null,
            "overflow": null,
            "overflow_x": null,
            "overflow_y": null,
            "padding": null,
            "right": null,
            "top": null,
            "visibility": null,
            "width": null
          }
        },
        "ac487f50eb39448696c5d4b3e076300a": {
          "model_module": "@jupyter-widgets/controls",
          "model_name": "DescriptionStyleModel",
          "model_module_version": "1.5.0",
          "state": {
            "_model_module": "@jupyter-widgets/controls",
            "_model_module_version": "1.5.0",
            "_model_name": "DescriptionStyleModel",
            "_view_count": null,
            "_view_module": "@jupyter-widgets/base",
            "_view_module_version": "1.2.0",
            "_view_name": "StyleView",
            "description_width": ""
          }
        },
        "24619b45ffbd4148aa41885b983fcb90": {
          "model_module": "@jupyter-widgets/base",
          "model_name": "LayoutModel",
          "model_module_version": "1.2.0",
          "state": {
            "_model_module": "@jupyter-widgets/base",
            "_model_module_version": "1.2.0",
            "_model_name": "LayoutModel",
            "_view_count": null,
            "_view_module": "@jupyter-widgets/base",
            "_view_module_version": "1.2.0",
            "_view_name": "LayoutView",
            "align_content": null,
            "align_items": null,
            "align_self": null,
            "border": null,
            "bottom": null,
            "display": null,
            "flex": null,
            "flex_flow": null,
            "grid_area": null,
            "grid_auto_columns": null,
            "grid_auto_flow": null,
            "grid_auto_rows": null,
            "grid_column": null,
            "grid_gap": null,
            "grid_row": null,
            "grid_template_areas": null,
            "grid_template_columns": null,
            "grid_template_rows": null,
            "height": null,
            "justify_content": null,
            "justify_items": null,
            "left": null,
            "margin": null,
            "max_height": null,
            "max_width": null,
            "min_height": null,
            "min_width": null,
            "object_fit": null,
            "object_position": null,
            "order": null,
            "overflow": null,
            "overflow_x": null,
            "overflow_y": null,
            "padding": null,
            "right": null,
            "top": null,
            "visibility": null,
            "width": null
          }
        },
        "e12576ad4a7d4e80bc735b94346b68a5": {
          "model_module": "@jupyter-widgets/controls",
          "model_name": "ProgressStyleModel",
          "model_module_version": "1.5.0",
          "state": {
            "_model_module": "@jupyter-widgets/controls",
            "_model_module_version": "1.5.0",
            "_model_name": "ProgressStyleModel",
            "_view_count": null,
            "_view_module": "@jupyter-widgets/base",
            "_view_module_version": "1.2.0",
            "_view_name": "StyleView",
            "bar_color": null,
            "description_width": ""
          }
        },
        "ee11233391c549c2af896facfabdd8f6": {
          "model_module": "@jupyter-widgets/base",
          "model_name": "LayoutModel",
          "model_module_version": "1.2.0",
          "state": {
            "_model_module": "@jupyter-widgets/base",
            "_model_module_version": "1.2.0",
            "_model_name": "LayoutModel",
            "_view_count": null,
            "_view_module": "@jupyter-widgets/base",
            "_view_module_version": "1.2.0",
            "_view_name": "LayoutView",
            "align_content": null,
            "align_items": null,
            "align_self": null,
            "border": null,
            "bottom": null,
            "display": null,
            "flex": null,
            "flex_flow": null,
            "grid_area": null,
            "grid_auto_columns": null,
            "grid_auto_flow": null,
            "grid_auto_rows": null,
            "grid_column": null,
            "grid_gap": null,
            "grid_row": null,
            "grid_template_areas": null,
            "grid_template_columns": null,
            "grid_template_rows": null,
            "height": null,
            "justify_content": null,
            "justify_items": null,
            "left": null,
            "margin": null,
            "max_height": null,
            "max_width": null,
            "min_height": null,
            "min_width": null,
            "object_fit": null,
            "object_position": null,
            "order": null,
            "overflow": null,
            "overflow_x": null,
            "overflow_y": null,
            "padding": null,
            "right": null,
            "top": null,
            "visibility": null,
            "width": null
          }
        },
        "7336c7a53ba14db4a407eb6db94f06a4": {
          "model_module": "@jupyter-widgets/controls",
          "model_name": "DescriptionStyleModel",
          "model_module_version": "1.5.0",
          "state": {
            "_model_module": "@jupyter-widgets/controls",
            "_model_module_version": "1.5.0",
            "_model_name": "DescriptionStyleModel",
            "_view_count": null,
            "_view_module": "@jupyter-widgets/base",
            "_view_module_version": "1.2.0",
            "_view_name": "StyleView",
            "description_width": ""
          }
        }
      }
    }
  },
  "nbformat": 4,
  "nbformat_minor": 0
}